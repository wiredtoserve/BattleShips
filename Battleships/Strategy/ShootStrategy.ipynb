{
 "cells": [
  {
   "cell_type": "code",
   "execution_count": 26,
   "metadata": {},
   "outputs": [],
   "source": [
    "import random"
   ]
  },
  {
   "cell_type": "code",
   "execution_count": 1,
   "metadata": {},
   "outputs": [],
   "source": [
    "# ('Charlie', 10)list index out of range ('Charlie', 10)"
   ]
  },
  {
   "cell_type": "code",
   "execution_count": 25,
   "metadata": {},
   "outputs": [],
   "source": [
    "class Player:\n",
    "    \"\"\"\n",
    "    Contains three methods\n",
    "        1. setup_ships: takes no parameters and returns a list of lists showing the start position\n",
    "                        of showing the start positions of your ships\n",
    "                        Block of row i and column j, ship label 1-5 & 0 means no ship\n",
    "\n",
    "        2. take_turn:   returns\n",
    "                        -- a list of (row, column) tuples describing your shots\n",
    "                        -- eg: [(1, 1), (1, 3), (1, 5), (2, 1) (4, 5)]\n",
    "                        -- Note: should be equal to the number of ships present (check function)\n",
    "                        -- or a tuple that has a ship number as the first element and the direction\n",
    "                        -- of its moving value\n",
    "                        -- 0: up, 1: right, 2: down, 3: left  (dict)\n",
    "\n",
    "                        TODO: Do not take more shots than the number of ships\n",
    "                        TODO: Do not move the ships outside the grid or radioactive zone\n",
    "\n",
    "        3. get_name:   returns a string that is the name of the Player\n",
    "\n",
    "    \"\"\"\n",
    "    import random\n",
    "    from collections import defaultdict\n",
    "    \n",
    "    def __init__(self):\n",
    "        \n",
    "        self.player_battleground = [[0 for i in range(10)] for j in range(10)]\n",
    "        self.opponent_battleground = [[0 for i in range(10)] for j in range(10)]\n",
    "        \n",
    "        self.ships_dd = Player.defaultdict(int)\n",
    "        self.status = []\n",
    "        \n",
    "        self.potential_list = []\n",
    "        for i in range(10):\n",
    "            for j in range (10):\n",
    "                self.potential_list.append((i,j))\n",
    "                \n",
    "        # number of turns\n",
    "        self.counter = 0\n",
    "        \n",
    "\n",
    "    def setup_ships(self):\n",
    "        '''\n",
    "\n",
    "        :return: a 10x10 grid with the location of our ships\n",
    "        '''\n",
    "        grid = [[0 for i in range(10)] for j in range(10)]\n",
    "        \n",
    "        # ship numbers\n",
    "        ship = [i for i in range(1,6)]\n",
    "\n",
    "        # randomly shuffle the ship list\n",
    "        Player.random.shuffle(ship)\n",
    "         \n",
    "        for ship_number in ship:\n",
    "            control = True\n",
    "            \n",
    "            while control:\n",
    "                # randomly select a point on the grid\n",
    "                ship_start_position = self.random_position()\n",
    "\n",
    "                if self.vacant(ship_start_position, ship_number, grid):\n",
    "                    for row in range(0, ship_number):\n",
    "                        #print(f'{ship_start_position} ship : {ship_number}')\n",
    "                        grid[ship_start_position[0] + row][ship_start_position[1]] = ship_number\n",
    "\n",
    "                    control = False        \n",
    "                \n",
    "        self.player_battleground = grid\n",
    "        return grid\n",
    "\n",
    "    def take_turn(self, history):\n",
    "        '''\n",
    "\n",
    "        :param history: records the game\n",
    "                        list that contains one entry per turn\n",
    "                        dict with 3 keys\n",
    "                            - 'shots' : list of shots made in the turn\n",
    "                            - 'hits' : an integer number of hits that your shots made\n",
    "                            - 'incoming' : opponents list of shots, [] if moved\n",
    "\n",
    "        :return: a list of tuple/s describing the shots or changed location\n",
    "                depending on the strategy\n",
    "        '''\n",
    "        last_shot = []\n",
    "        if self.counter > 0:\n",
    "            last_shot = history[-1]['incoming']\n",
    "    \n",
    "        self.player_battleground = self.update_opponent_shots(self.player_battleground, last_shot)\n",
    "        \n",
    "        # counting the number of ships left\n",
    "        self.ships_dd = Player.defaultdict(int) #reset count everytime\n",
    "        #ships_dd = Player.defaultdict(int)\n",
    "\n",
    "        for row in self.player_battleground:\n",
    "            for point in row:\n",
    "                self.ships_dd[point] += point\n",
    "                \n",
    "        self.status = self.ship_status(self.ships_dd)\n",
    "        \n",
    "        # Count the number of ships remaining\n",
    "        number_of_ships = len(self.status)\n",
    "        \n",
    "        # Take random shots\n",
    "        if self.counter > 0:\n",
    "            shots_list = [number for number in self.random_selection(self.potential_list, number_of_ships)]\n",
    "        else:\n",
    "            shots_list = [number for number in self.random_selection(self.potential_list, 5)]      \n",
    "        \n",
    "        \n",
    "        self.counter += 1\n",
    "        \n",
    "        return shots_list\n",
    "\n",
    "    def get_name(self):\n",
    "        '''\n",
    "\n",
    "        :return: string - name of the Player\n",
    "        '''\n",
    "        return \"Syndicate_10\"\n",
    "    \n",
    "    # function to select a point on the grid\n",
    "    def random_position(self):\n",
    "        return [Player.random.randint(0,9), Player.random.randint(0,9)]\n",
    "    \n",
    "    # function to check if the position is vacant\n",
    "    def vacant(self, pos, ship, grid):\n",
    "        # checking if the ship will fit in the board\n",
    "        if pos[0] + ship <= 10:\n",
    "            for i in range(0, ship):\n",
    "                # checking if any other ship is already present\n",
    "                if grid[pos[0] + i][pos[1]] != 0:\n",
    "                    return False\n",
    "            return True\n",
    "        return False \n",
    "    \n",
    "    def random_shots(self, num = 5):\n",
    "        for x in range(0,num):\n",
    "            yield Player.random.randint(0,9), Player.random.randint(0,9)\n",
    "            \n",
    "    def update_opponent_shots(self, grid, incoming_shots):\n",
    "        for x, y in incoming_shots:\n",
    "            grid[x][y] = 9\n",
    "        return grid\n",
    "    \n",
    "    def ship_status(self, ships_dd):\n",
    "        status = []\n",
    "        for ship in ships_dd.keys():\n",
    "            # as long as the default dictionary has a key, the ship is breathing\n",
    "            if ship in [1,2,3,4,5]:\n",
    "                status.append((ship, ships_dd[ship]/(ship**2)))\n",
    "        return status\n",
    "                \n",
    "    def random_selection(self, potential_list, num = 0):\n",
    "        if num > len(self.potential_list):\n",
    "            # If the number of shots remaining are less than the actual ships\n",
    "            num = len(self.potential_list)\n",
    "\n",
    "        for x in range(0, num):\n",
    "            shot = Player.random.choice(self.potential_list)\n",
    "            self.potential_list.remove(shot)\n",
    "\n",
    "            yield shot"
   ]
  },
  {
   "cell_type": "code",
   "execution_count": 27,
   "metadata": {},
   "outputs": [],
   "source": [
    "p1 = Player()"
   ]
  },
  {
   "cell_type": "code",
   "execution_count": 28,
   "metadata": {},
   "outputs": [
    {
     "data": {
      "text/plain": [
       "[[0, 0, 0, 0, 0, 0, 0, 0, 0, 0],\n",
       " [0, 0, 0, 0, 0, 0, 0, 0, 0, 0],\n",
       " [0, 0, 0, 0, 0, 2, 0, 0, 0, 0],\n",
       " [0, 0, 0, 0, 0, 2, 0, 0, 0, 0],\n",
       " [0, 0, 0, 0, 0, 3, 0, 0, 0, 1],\n",
       " [0, 0, 0, 5, 0, 3, 0, 0, 0, 0],\n",
       " [0, 0, 0, 5, 0, 3, 0, 4, 0, 0],\n",
       " [0, 0, 0, 5, 0, 0, 0, 4, 0, 0],\n",
       " [0, 0, 0, 5, 0, 0, 0, 4, 0, 0],\n",
       " [0, 0, 0, 5, 0, 0, 0, 4, 0, 0]]"
      ]
     },
     "execution_count": 28,
     "metadata": {},
     "output_type": "execute_result"
    }
   ],
   "source": [
    "p1.setup_ships()"
   ]
  },
  {
   "cell_type": "code",
   "execution_count": 30,
   "metadata": {},
   "outputs": [
    {
     "data": {
      "text/plain": [
       "[(6, 1), (7, 8), (9, 6), (9, 5), (1, 4)]"
      ]
     },
     "execution_count": 30,
     "metadata": {},
     "output_type": "execute_result"
    }
   ],
   "source": [
    "p1.take_turn(history)"
   ]
  },
  {
   "cell_type": "code",
   "execution_count": 29,
   "metadata": {},
   "outputs": [],
   "source": [
    "# initial history\n",
    "history = [[]]"
   ]
  },
  {
   "cell_type": "code",
   "execution_count": 31,
   "metadata": {},
   "outputs": [
    {
     "data": {
      "text/plain": [
       "defaultdict(int, {0: 0, 2: 4, 3: 9, 1: 1, 5: 25, 4: 16})"
      ]
     },
     "execution_count": 31,
     "metadata": {},
     "output_type": "execute_result"
    }
   ],
   "source": [
    "p1.ships_dd"
   ]
  },
  {
   "cell_type": "code",
   "execution_count": 29,
   "metadata": {},
   "outputs": [],
   "source": [
    "\n",
    "#Set up the empty ports. one for the player and one for the enemy.\n",
    "myport     = [ [0 for i in range(10)] for j in range(10) ]\n",
    "enemyport  = [ [0 for i in range(10)] for j in range(10) ]\n",
    "#Set up the probability map.\n",
    "# initialize a 10x10 grid with 15\n",
    "# 15 shots to take in total\n",
    "enemy_probmap    = [ [15 for i in range(10)] for j in range(10) ]\n",
    "ship_dd    = [ (1,1), (2,1), (3,1), (4,1), (5,1) ] # p1.ships_dd"
   ]
  },
  {
   "cell_type": "code",
   "execution_count": 30,
   "metadata": {},
   "outputs": [
    {
     "data": {
      "text/plain": [
       "[[15, 15, 15, 15, 15, 15, 15, 15, 15, 15],\n",
       " [15, 15, 15, 15, 15, 15, 15, 15, 15, 15],\n",
       " [15, 15, 15, 15, 15, 15, 15, 15, 15, 15],\n",
       " [15, 15, 15, 15, 15, 15, 15, 15, 15, 15],\n",
       " [15, 15, 15, 15, 15, 15, 15, 15, 15, 15],\n",
       " [15, 15, 15, 15, 15, 15, 15, 15, 15, 15],\n",
       " [15, 15, 15, 15, 15, 15, 15, 15, 15, 15],\n",
       " [15, 15, 15, 15, 15, 15, 15, 15, 15, 15],\n",
       " [15, 15, 15, 15, 15, 15, 15, 15, 15, 15],\n",
       " [15, 15, 15, 15, 15, 15, 15, 15, 15, 15]]"
      ]
     },
     "execution_count": 30,
     "metadata": {},
     "output_type": "execute_result"
    }
   ],
   "source": [
    "enemy_probmap"
   ]
  },
  {
   "cell_type": "code",
   "execution_count": null,
   "metadata": {},
   "outputs": [],
   "source": [
    "def update_enemy_probmap(self, history): \n",
    "        # reset enemy_probmap\n",
    "        # initialize a 10x10 grid with -1\n",
    "        enemy_probmap = [ [-1 for i in range(10)] for j in range(10) ]\n",
    "        \n",
    "        total_hit = 0\n",
    "        total_shot = 0\n",
    "        for turn in history:\n",
    "            # record the success rate of each shot in enemy_probmap\n",
    "            if turn['shots']:\n",
    "                # keep updating the porbability based on the shots taken\n",
    "                prob = int(turn['hits'] / len(turn['shots']) * 100 + 0.5)\n",
    "                for i in turn['shots']:\n",
    "                    self.enemy_probmap[i[0]][i[1]] = prob\n",
    "            # counting the total number of hits and shots\n",
    "            total_hit += turn['hits']\n",
    "            total_shot += len(turn['shots'])\n",
    "            \n",
    "        # update the probablity of spots that have not been shots.\n",
    "        prob = int((15 - total_hit) / (100 - total_shot) * 100 + 0.5)\n",
    "        for row in range(10):\n",
    "            for column in range(10):\n",
    "                if self.enemy_probmap[row][column] == -1:\n",
    "                    self.enemy_probmap[row][column] = prob  "
   ]
  },
  {
   "cell_type": "code",
   "execution_count": 31,
   "metadata": {},
   "outputs": [
    {
     "data": {
      "text/plain": [
       "[[-1, -1, -1, -1, -1, -1, -1, -1, -1, -1],\n",
       " [-1, -1, -1, -1, -1, -1, -1, -1, -1, -1],\n",
       " [-1, -1, -1, -1, -1, -1, -1, -1, -1, -1],\n",
       " [-1, -1, -1, -1, -1, -1, -1, -1, -1, -1],\n",
       " [-1, -1, -1, -1, -1, -1, -1, -1, -1, -1],\n",
       " [-1, -1, -1, -1, -1, -1, -1, -1, -1, -1],\n",
       " [-1, -1, -1, -1, -1, -1, -1, -1, -1, -1],\n",
       " [-1, -1, -1, -1, -1, -1, -1, -1, -1, -1],\n",
       " [-1, -1, -1, -1, -1, -1, -1, -1, -1, -1],\n",
       " [-1, -1, -1, -1, -1, -1, -1, -1, -1, -1]]"
      ]
     },
     "execution_count": 31,
     "metadata": {},
     "output_type": "execute_result"
    }
   ],
   "source": [
    "[ [-1 for i in range(10)] for j in range(10) ]"
   ]
  },
  {
   "cell_type": "code",
   "execution_count": null,
   "metadata": {},
   "outputs": [],
   "source": []
  },
  {
   "cell_type": "code",
   "execution_count": null,
   "metadata": {},
   "outputs": [],
   "source": []
  },
  {
   "cell_type": "code",
   "execution_count": 25,
   "metadata": {},
   "outputs": [],
   "source": [
    "history = [{'shots': [(4, 3), (9, 3), (9, 5), (7, 1), (8, 0)],\n",
    "  'hits': 2,\n",
    "  'incoming': [(7, 2), (2, 0), (3, 4), (9, 1), (5, 9)]},\n",
    " {'shots': [(4, 7), (7, 1), (3, 7), (4, 9), (9, 2)],\n",
    "  'hits': 4,\n",
    "  'incoming': [(8, 0), (0, 0), (6, 5), (1, 1), (3, 5)]},\n",
    " {'shots': [(4, 8), (3, 2), (2, 7), (1, 4), (6, 2)],\n",
    "  'hits': 3,\n",
    "  'incoming': [(2, 3), (8, 2), (6, 3), (6, 4), (8, 2)]},\n",
    " {'shots': [(0, 0), (1, 9), (6, 9), (9, 3), (0, 8)],\n",
    "  'hits': 1,\n",
    "  'incoming': [(4, 1), (1, 6), (6, 3), (5, 6), (1, 2)]},\n",
    " {'shots': [(1, 3), (6, 3), (5, 4), (9, 2), (9, 8)],\n",
    "  'hits': 0,\n",
    "  'incoming': [(8, 9), (3, 4), (2, 2), (6, 9), (2, 9)]}]"
   ]
  },
  {
   "cell_type": "code",
   "execution_count": 38,
   "metadata": {},
   "outputs": [
    {
     "name": "stdout",
     "output_type": "stream",
     "text": [
      "40\n",
      "80\n",
      "60\n",
      "20\n",
      "0\n"
     ]
    }
   ],
   "source": [
    "enemy_probmap = [ [-1 for i in range(10)] for j in range(10) ]\n",
    "total_hit = 0\n",
    "total_shot = 0\n",
    "for turn in history:\n",
    "    # record the success rate of each shot in enemy_probmap\n",
    "    if turn['shots']:\n",
    "        prob = int(turn['hits'] / len(turn['shots']) * 100 + 0.5)\n",
    "        print(prob)\n",
    "        for i in turn['shots']:\n",
    "            enemy_probmap[i[0]][i[1]] = prob\n",
    "    total_hit += turn['hits']\n",
    "    total_shot += len(turn['shots'])\n",
    "    "
   ]
  },
  {
   "cell_type": "code",
   "execution_count": 39,
   "metadata": {},
   "outputs": [
    {
     "data": {
      "text/plain": [
       "[[20, -1, -1, -1, -1, -1, -1, -1, 20, -1],\n",
       " [-1, -1, -1, 0, 60, -1, -1, -1, -1, 20],\n",
       " [-1, -1, -1, -1, -1, -1, -1, 60, -1, -1],\n",
       " [-1, -1, 60, -1, -1, -1, -1, 80, -1, -1],\n",
       " [-1, -1, -1, 40, -1, -1, -1, 80, 60, 80],\n",
       " [-1, -1, -1, -1, 0, -1, -1, -1, -1, -1],\n",
       " [-1, -1, 60, 0, -1, -1, -1, -1, -1, 20],\n",
       " [-1, 80, -1, -1, -1, -1, -1, -1, -1, -1],\n",
       " [40, -1, -1, -1, -1, -1, -1, -1, -1, -1],\n",
       " [-1, -1, 0, 20, -1, 40, -1, -1, 0, -1]]"
      ]
     },
     "execution_count": 39,
     "metadata": {},
     "output_type": "execute_result"
    }
   ],
   "source": [
    "enemy_probmap"
   ]
  },
  {
   "cell_type": "code",
   "execution_count": 40,
   "metadata": {},
   "outputs": [
    {
     "data": {
      "text/plain": [
       "10"
      ]
     },
     "execution_count": 40,
     "metadata": {},
     "output_type": "execute_result"
    }
   ],
   "source": [
    "total_hit"
   ]
  },
  {
   "cell_type": "code",
   "execution_count": 41,
   "metadata": {},
   "outputs": [
    {
     "data": {
      "text/plain": [
       "25"
      ]
     },
     "execution_count": 41,
     "metadata": {},
     "output_type": "execute_result"
    }
   ],
   "source": [
    "total_shot"
   ]
  },
  {
   "cell_type": "code",
   "execution_count": 43,
   "metadata": {},
   "outputs": [],
   "source": [
    "# update the probablity of spots that have not been shots.\n",
    "prob = int((15 - total_hit) / (100 - total_shot) * 100 + 0.5)\n",
    "# prob = number of hits remaining\n",
    "for row in range(10):\n",
    "    for column in range(10):\n",
    "        if enemy_probmap[row][column] == -1:\n",
    "            enemy_probmap[row][column] = prob  "
   ]
  },
  {
   "cell_type": "code",
   "execution_count": 42,
   "metadata": {},
   "outputs": [
    {
     "data": {
      "text/plain": [
       "7"
      ]
     },
     "execution_count": 42,
     "metadata": {},
     "output_type": "execute_result"
    }
   ],
   "source": [
    "int((15 - total_hit) / (100 - total_shot) * 100 + 0.5)"
   ]
  },
  {
   "cell_type": "code",
   "execution_count": 66,
   "metadata": {},
   "outputs": [
    {
     "data": {
      "text/plain": [
       "-29"
      ]
     },
     "execution_count": 66,
     "metadata": {},
     "output_type": "execute_result"
    }
   ],
   "source": [
    "int((15 - total_hit) / (100 - total_shot) * 100 + 0.5)"
   ]
  },
  {
   "cell_type": "code",
   "execution_count": 44,
   "metadata": {},
   "outputs": [
    {
     "data": {
      "text/plain": [
       "[[20, 7, 7, 7, 7, 7, 7, 7, 20, 7],\n",
       " [7, 7, 7, 0, 60, 7, 7, 7, 7, 20],\n",
       " [7, 7, 7, 7, 7, 7, 7, 60, 7, 7],\n",
       " [7, 7, 60, 7, 7, 7, 7, 80, 7, 7],\n",
       " [7, 7, 7, 40, 7, 7, 7, 80, 60, 80],\n",
       " [7, 7, 7, 7, 0, 7, 7, 7, 7, 7],\n",
       " [7, 7, 60, 0, 7, 7, 7, 7, 7, 20],\n",
       " [7, 80, 7, 7, 7, 7, 7, 7, 7, 7],\n",
       " [40, 7, 7, 7, 7, 7, 7, 7, 7, 7],\n",
       " [7, 7, 0, 20, 7, 40, 7, 7, 0, 7]]"
      ]
     },
     "execution_count": 44,
     "metadata": {},
     "output_type": "execute_result"
    }
   ],
   "source": [
    "enemy_probmap"
   ]
  },
  {
   "cell_type": "code",
   "execution_count": 136,
   "metadata": {},
   "outputs": [],
   "source": [
    "history = [{'shots': [(4, 3), (9, 3), (9, 5), (7, 1), (8, 0)],\n",
    "  'hits': 2,\n",
    "  'incoming': [(7, 2), (2, 0), (3, 4), (9, 1), (5, 9)]},\n",
    " {'shots': [(4, 7), (7, 1), (3, 7), (4, 9), (9, 2)],\n",
    "  'hits': 4,\n",
    "  'incoming': [(8, 0), (0, 0), (6, 5), (1, 1), (3, 5)]},\n",
    " {'shots': [(4, 8), (3, 2), (2, 7), (1, 4), (6, 2)],\n",
    "  'hits': 3,\n",
    "  'incoming': [(2, 3), (8, 2), (6, 3), (6, 4), (8, 2)]},\n",
    " {'shots': [(0, 0), (1, 9), (6, 9), (9, 3), (0, 8)],\n",
    "  'hits': 1,\n",
    "  'incoming': [(4, 1), (1, 6), (6, 3), (5, 6), (1, 2)]},\n",
    " {'shots': [(1, 3), (6, 3), (5, 4), (9, 2), (9, 8)],\n",
    "  'hits': 0,\n",
    "  'incoming': [(8, 9), (3, 4), (2, 2), (6, 9), (2, 9)]},\n",
    "{'shots': [(7, 3), (5, 2), (9, 4), (6, 1), (2, 6)], 'hits': 0, 'incoming': [(9, 1), (0, 4), (8, 3), (7, 7), (0, 9)]},\n",
    "{'shots': [(4, 9), (6, 6), (9, 6), (4, 8), (2, 2)], 'hits': 1, 'incoming': [(5, 0), (1, 7), (4, 1), (1, 4), (1, 1)]},\n",
    "{'shots': [(9, 8), (6, 6), (4, 8), (4, 6), (7, 1)], 'hits': 0, 'incoming': [(0, 5), (7, 0), (2, 2), (8, 7), (0, 6)]},\n",
    "{'shots': [(6, 3), (3, 7), (3, 2), (2, 0), (5, 4)], 'hits': 2, 'incoming': [(9, 1), (2, 7), (0, 1), (0, 1), (6, 0)]},\n",
    "{'shots': [(4, 4), (6, 4), (4, 6), (6, 1), (8, 1)], 'hits': 0, 'incoming': [(2, 9), (2, 9), (6, 9), (1, 4), (4, 2)]}]"
   ]
  },
  {
   "cell_type": "code",
   "execution_count": 68,
   "metadata": {},
   "outputs": [
    {
     "name": "stdout",
     "output_type": "stream",
     "text": [
      "40\n",
      "80\n",
      "60\n",
      "20\n",
      "0\n",
      "0\n",
      "20\n",
      "0\n",
      "40\n",
      "0\n"
     ]
    }
   ],
   "source": [
    "enemy_probmap = [ [-1 for i in range(10)] for j in range(10) ]\n",
    "        \n",
    "total_hit = 0\n",
    "total_shot = 0\n",
    "for turn in history:\n",
    "    # record the success rate of each shot in enemy_probmap\n",
    "    if turn['shots']:\n",
    "        # keep updating the porbability based on the shots taken\n",
    "        prob = int(turn['hits'] / len(turn['shots']) * 100 + 0.5)\n",
    "        print(prob)\n",
    "        for i in turn['shots']:\n",
    "            enemy_probmap[i[0]][i[1]] = prob\n",
    "    # counting the total number of hits and shots\n",
    "    total_hit += turn['hits']\n",
    "    total_shot += len(turn['shots'])\n",
    "\n",
    "# update the probablity of spots that have not been shots.\n",
    "prob = int((15 - total_hit) / (100 - total_shot) * 100 + 0.5)\n",
    "for row in range(10):\n",
    "    for column in range(10):\n",
    "        if enemy_probmap[row][column] == -1:\n",
    "            enemy_probmap[row][column] = prob  "
   ]
  },
  {
   "cell_type": "code",
   "execution_count": 69,
   "metadata": {},
   "outputs": [
    {
     "data": {
      "text/plain": [
       "13"
      ]
     },
     "execution_count": 69,
     "metadata": {},
     "output_type": "execute_result"
    }
   ],
   "source": [
    "total_hit"
   ]
  },
  {
   "cell_type": "code",
   "execution_count": 70,
   "metadata": {},
   "outputs": [
    {
     "data": {
      "text/plain": [
       "50"
      ]
     },
     "execution_count": 70,
     "metadata": {},
     "output_type": "execute_result"
    }
   ],
   "source": [
    "total_shot"
   ]
  },
  {
   "cell_type": "code",
   "execution_count": 71,
   "metadata": {},
   "outputs": [
    {
     "data": {
      "text/plain": [
       "[[20, 4, 4, 4, 4, 4, 4, 4, 20, 4],\n",
       " [4, 4, 4, 0, 60, 4, 4, 4, 4, 20],\n",
       " [40, 4, 20, 4, 4, 4, 0, 60, 4, 4],\n",
       " [4, 4, 40, 4, 4, 4, 4, 40, 4, 4],\n",
       " [4, 4, 4, 40, 0, 4, 0, 80, 0, 20],\n",
       " [4, 4, 0, 4, 40, 4, 4, 4, 4, 4],\n",
       " [4, 0, 60, 40, 0, 4, 0, 4, 4, 20],\n",
       " [4, 0, 4, 0, 4, 4, 4, 4, 4, 4],\n",
       " [40, 0, 4, 4, 4, 4, 4, 4, 4, 4],\n",
       " [4, 4, 0, 20, 0, 40, 20, 4, 0, 4]]"
      ]
     },
     "execution_count": 71,
     "metadata": {},
     "output_type": "execute_result"
    }
   ],
   "source": [
    "enemy_probmap"
   ]
  },
  {
   "cell_type": "code",
   "execution_count": null,
   "metadata": {},
   "outputs": [],
   "source": [
    "    # Function that generate the list of shots        \n",
    "def shot(myship_number):              \n",
    "    \"\"\"\n",
    "    Store the \"coordinates of spots that have not been shot\"\n",
    "    into the list called \"targets\" and shuffle them to add randomness\n",
    "    \n",
    "    myship_number = number of ships\n",
    "    \"\"\"\n",
    "    targets = []\n",
    "    for row in range(10):\n",
    "        for column in range(10):\n",
    "            # if 0 in enemy port = 0 haven't made the shot; 9 if shot is made\n",
    "            # enemyport is a grid of 0 and 9 (previous shots)\n",
    "            if enemyport[row][column] == 0:\n",
    "                targets.append((row,column))\n",
    "    random.shuffle(targets)  \n",
    "    \"\"\"\n",
    "    Evaluate likelihood score for points in the \"target\" list\n",
    "    In this code, likelihood score (LHS) defined as\n",
    "    LHS = 2*P(point) + 0.9*P(one_neighbour) + 0.8*P(2setp_neighbours)\n",
    "        where P = probability of presense of a shp\n",
    "    Where nibours are not available, P(point) replace P(neibours)\n",
    "    Note that LHS is not probability but probability utility.\n",
    "    \"\"\"        \n",
    "    scores =[]\n",
    "    for i in range(len(targets)):   # i represent target number\n",
    "        # Calculate LHS of target point i\n",
    "        score = 0\n",
    "        for row_step in range(-2,3):\n",
    "            #  Where neighbours are not available, P(point) replace P(neibours)\n",
    "            if targets[i][0] + row_step in [0,1,2,3,4,5,6,7,8,9]:\n",
    "                prob = self.enemy_probmap[targets[i][0]+row_step][targets[i][1]]\n",
    "            else:\n",
    "                prob = self.enemy_probmap[targets[i][0]][targets[i][1]]\n",
    "            score += (1-0.1*abs(row_step)) * prob\n",
    "\n",
    "        for col_step in range(-2,3):\n",
    "            #  Where neighbours are not available, P(point) replace P(neibours)\n",
    "            if targets[i][1] + col_step in [0,1,2,3,4,5,6,7,8,9]:\n",
    "                prob = self.enemy_probmap[targets[i][0]][targets[i][1]+col_step]\n",
    "            else:\n",
    "                prob = self.enemy_probmap[targets[i][0]][targets[i][1]]\n",
    "            score += (1-0.1*abs(row_step)) * prob\n",
    "    # Store LHS and target point i and sort at the end\n",
    "        scores.append((score,i)) \n",
    "    scores.sort(reverse=True)\n",
    "\n",
    "    # Return the top LSH points as list of tuple\n",
    "    # The number of returning points is the same as the number of our ship\n",
    "    shot_list =[]\n",
    "    for j in range(myship_number):\n",
    "        shot_row = targets[ scores[j][1] ][0]\n",
    "        shot_col = targets[ scores[j][1] ][1]\n",
    "        shot_list.append((shot_row,shot_col))\n",
    "    return shot_list"
   ]
  },
  {
   "cell_type": "code",
   "execution_count": 53,
   "metadata": {},
   "outputs": [],
   "source": [
    "targets = []\n",
    "for row in range(10):\n",
    "    for column in range(10):\n",
    "        if enemyport[row][column] == 0:\n",
    "            targets.append((row,column))"
   ]
  },
  {
   "cell_type": "code",
   "execution_count": 55,
   "metadata": {},
   "outputs": [],
   "source": [
    "random.shuffle(targets)"
   ]
  },
  {
   "cell_type": "code",
   "execution_count": 57,
   "metadata": {},
   "outputs": [
    {
     "name": "stdout",
     "output_type": "stream",
     "text": [
      "-2\n",
      "-1\n",
      "0\n",
      "1\n",
      "2\n"
     ]
    }
   ],
   "source": [
    "for row_step in range(-2,3):\n",
    "    print(row_step)"
   ]
  },
  {
   "cell_type": "code",
   "execution_count": 59,
   "metadata": {},
   "outputs": [
    {
     "data": {
      "text/plain": [
       "[[20, -29, -29, -29, -29, -29, -29, -29, 20, -29],\n",
       " [-29, -29, -29, 0, 60, -29, -29, -29, -29, 20],\n",
       " [100, -29, 80, -29, -29, -29, 60, 60, -29, -29],\n",
       " [-29, -29, 100, -29, -29, -29, -29, 100, -29, -29],\n",
       " [-29, -29, -29, 40, 60, -29, 60, 80, 100, 80],\n",
       " [-29, -29, 60, -29, 100, -29, -29, -29, -29, -29],\n",
       " [-29, 60, 60, 100, 60, -29, 100, -29, -29, 20],\n",
       " [-29, 100, -29, 60, -29, -29, -29, -29, -29, -29],\n",
       " [40, 60, -29, -29, -29, -29, -29, -29, -29, -29],\n",
       " [-29, -29, 0, 20, 60, 40, 80, -29, 100, -29]]"
      ]
     },
     "execution_count": 59,
     "metadata": {},
     "output_type": "execute_result"
    }
   ],
   "source": [
    "enemy_probmap"
   ]
  },
  {
   "cell_type": "code",
   "execution_count": 60,
   "metadata": {},
   "outputs": [
    {
     "name": "stdout",
     "output_type": "stream",
     "text": [
      "9.399999999999991\n",
      "-13.800000000000011\n",
      "-37.000000000000014\n",
      "42.999999999999986\n",
      "19.799999999999983\n",
      "125.49999999999999\n",
      "157.5\n",
      "205.5\n",
      "182.3\n",
      "230.3\n",
      "-70.70000000000002\n",
      "-93.90000000000002\n",
      "-117.10000000000002\n",
      "-140.3\n",
      "-163.5\n",
      "62.8\n",
      "110.8\n",
      "87.6\n",
      "64.39999999999999\n",
      "41.19999999999999\n",
      "-62.60000000000001\n",
      "-85.80000000000001\n",
      "-69.80000000000001\n",
      "-53.80000000000001\n",
      "-37.80000000000001\n",
      "84.6\n",
      "164.6\n",
      "228.6\n",
      "292.6\n",
      "356.6\n",
      "-88.70000000000002\n",
      "-111.90000000000002\n",
      "-135.10000000000002\n",
      "-158.3\n",
      "-181.5\n",
      "-150.8\n",
      "-70.80000000000001\n",
      "-94.00000000000001\n",
      "-30.000000000000014\n",
      "-53.20000000000002\n",
      "-79.60000000000001\n",
      "-102.80000000000001\n",
      "-126.00000000000001\n",
      "-110.00000000000001\n",
      "-133.20000000000002\n",
      "87.69999999999999\n",
      "64.49999999999999\n",
      "41.29999999999998\n",
      "18.09999999999998\n",
      "66.09999999999998\n",
      "196.7\n",
      "173.5\n",
      "221.5\n",
      "198.3\n",
      "175.10000000000002\n",
      "-79.60000000000001\n",
      "-102.80000000000001\n",
      "-126.00000000000001\n",
      "-149.20000000000002\n",
      "-133.20000000000002\n",
      "-150.8\n",
      "-174.0\n",
      "-197.2\n",
      "-220.39999999999998\n",
      "-140.39999999999998\n",
      "50.499999999999986\n",
      "27.299999999999983\n",
      "4.09999999999998\n",
      "4.09999999999998\n",
      "52.09999999999998\n",
      "-47.60000000000001\n",
      "-70.80000000000001\n",
      "-94.00000000000001\n",
      "-117.20000000000002\n",
      "-140.40000000000003\n",
      "-63.60000000000001\n",
      "16.39999999999999\n",
      "-6.800000000000011\n",
      "-30.000000000000014\n",
      "-14.000000000000014\n",
      "-79.60000000000001\n",
      "-102.80000000000001\n",
      "-126.00000000000001\n",
      "-149.20000000000002\n",
      "-117.20000000000002\n",
      "-98.60000000000001\n",
      "-121.80000000000001\n",
      "-121.80000000000001\n",
      "-73.80000000000001\n",
      "-97.00000000000001\n",
      "203.8\n",
      "180.60000000000002\n",
      "157.40000000000003\n",
      "189.40000000000003\n",
      "237.40000000000003\n",
      "-106.7\n",
      "-129.9\n",
      "-153.10000000000002\n",
      "-137.10000000000002\n",
      "-160.3\n",
      "89.69999999999999\n",
      "66.49999999999999\n",
      "43.29999999999998\n",
      "20.09999999999998\n",
      "-3.1000000000000227\n",
      "-95.60000000000001\n",
      "-118.80000000000001\n",
      "-142.0\n",
      "-94.0\n",
      "-46.0\n",
      "-95.60000000000001\n",
      "-31.60000000000001\n",
      "-54.80000000000001\n",
      "25.19999999999999\n",
      "1.9999999999999858\n",
      "23.699999999999996\n",
      "103.69999999999999\n",
      "80.49999999999999\n",
      "128.5\n",
      "105.3\n",
      "28.599999999999994\n",
      "60.599999999999994\n",
      "92.6\n",
      "140.6\n",
      "117.39999999999999\n",
      "-111.60000000000001\n",
      "-134.8\n",
      "-158.0\n",
      "-181.2\n",
      "-204.39999999999998\n",
      "-88.7\n",
      "-111.9\n",
      "-135.10000000000002\n",
      "-158.3\n",
      "-158.3\n",
      "0.4999999999999929\n",
      "-22.70000000000001\n",
      "-45.90000000000001\n",
      "-69.10000000000002\n",
      "-92.30000000000003\n",
      "-150.8\n",
      "-70.80000000000001\n",
      "-94.00000000000001\n",
      "-117.20000000000002\n",
      "-140.40000000000003\n",
      "74.69999999999999\n",
      "122.69999999999999\n",
      "154.7\n",
      "218.7\n",
      "195.5\n",
      "-34.70000000000001\n",
      "-57.90000000000001\n",
      "-81.10000000000002\n",
      "-104.30000000000003\n",
      "-127.50000000000003\n",
      "32.499999999999986\n",
      "9.299999999999983\n",
      "-13.90000000000002\n",
      "-37.10000000000002\n",
      "-21.100000000000023\n",
      "-88.70000000000002\n",
      "-111.90000000000002\n",
      "-135.10000000000002\n",
      "-55.10000000000002\n",
      "-78.30000000000003\n",
      "18.299999999999983\n",
      "66.29999999999998\n",
      "114.29999999999998\n",
      "194.29999999999998\n",
      "242.29999999999998\n",
      "52.499999999999986\n",
      "29.299999999999983\n",
      "6.09999999999998\n",
      "-17.100000000000023\n",
      "-40.300000000000026\n",
      "-72.5\n",
      "-95.7\n",
      "-95.7\n",
      "-79.7\n",
      "-31.700000000000003\n",
      "-65.5\n",
      "14.5\n",
      "-8.700000000000003\n",
      "-31.900000000000006\n",
      "-55.10000000000001\n",
      "141.5\n",
      "189.5\n",
      "237.5\n",
      "214.3\n",
      "191.10000000000002\n",
      "1.6999999999999957\n",
      "49.699999999999996\n",
      "26.499999999999993\n",
      "3.29999999999999\n",
      "-19.900000000000013\n",
      "-150.8\n",
      "-70.80000000000001\n",
      "-94.00000000000001\n",
      "-117.20000000000002\n",
      "-140.40000000000003\n",
      "123.9\n",
      "139.9\n",
      "155.9\n",
      "132.7\n",
      "109.49999999999999\n",
      "183.8\n",
      "160.60000000000002\n",
      "208.60000000000002\n",
      "272.6\n",
      "352.6\n",
      "147.8\n",
      "124.60000000000001\n",
      "101.4\n",
      "78.2\n",
      "55.0\n",
      "177.5\n",
      "154.3\n",
      "218.3\n",
      "195.10000000000002\n",
      "171.90000000000003\n",
      "103.7\n",
      "151.7\n",
      "128.5\n",
      "105.3\n",
      "82.1\n",
      "-150.8\n",
      "-134.8\n",
      "-158.0\n",
      "-181.2\n",
      "-204.39999999999998\n",
      "156.40000000000003\n",
      "133.20000000000005\n",
      "213.20000000000005\n",
      "190.00000000000006\n",
      "166.80000000000007\n",
      "98.6\n",
      "146.6\n",
      "123.39999999999999\n",
      "203.39999999999998\n",
      "180.2\n",
      "9.399999999999991\n",
      "-13.800000000000011\n",
      "-37.000000000000014\n",
      "-60.20000000000002\n",
      "-83.40000000000002\n",
      "196.7\n",
      "276.7\n",
      "324.7\n",
      "301.5\n",
      "381.5\n",
      "21.39999999999999\n",
      "-1.8000000000000114\n",
      "30.19999999999999\n",
      "78.19999999999999\n",
      "54.999999999999986\n",
      "49.39999999999999\n",
      "113.39999999999999\n",
      "193.39999999999998\n",
      "257.4\n",
      "337.4\n",
      "-8.600000000000009\n",
      "-31.80000000000001\n",
      "-55.000000000000014\n",
      "-78.20000000000002\n",
      "-101.40000000000002\n",
      "9.399999999999999\n",
      "9.399999999999999\n",
      "57.4\n",
      "34.199999999999996\n",
      "10.999999999999993\n",
      "-24.400000000000006\n",
      "-47.60000000000001\n",
      "-70.80000000000001\n",
      "-94.00000000000001\n",
      "-117.20000000000002\n",
      "-106.7\n",
      "-129.9\n",
      "-153.10000000000002\n",
      "-176.3\n",
      "-199.5\n",
      "-95.60000000000001\n",
      "-47.60000000000001\n",
      "-70.80000000000001\n",
      "-22.80000000000001\n",
      "41.19999999999999\n",
      "206.9\n",
      "183.7\n",
      "160.5\n",
      "137.3\n",
      "114.10000000000001\n",
      "-150.8\n",
      "-174.0\n",
      "-197.2\n",
      "-220.39999999999998\n",
      "-243.59999999999997\n",
      "-34.70000000000002\n",
      "-57.90000000000002\n",
      "-81.10000000000002\n",
      "-104.30000000000003\n",
      "-127.50000000000003\n",
      "267.9\n",
      "299.9\n",
      "347.9\n",
      "324.7\n",
      "301.5\n",
      "145.5\n",
      "193.5\n",
      "257.5\n",
      "337.5\n",
      "401.5\n",
      "-34.70000000000001\n",
      "-57.90000000000001\n",
      "-81.10000000000002\n",
      "-104.30000000000003\n",
      "-24.300000000000026\n",
      "184.7\n",
      "232.7\n",
      "312.7\n",
      "360.7\n",
      "337.5\n",
      "241.60000000000002\n",
      "218.40000000000003\n",
      "298.40000000000003\n",
      "275.20000000000005\n",
      "323.20000000000005\n",
      "51.699999999999996\n",
      "28.499999999999993\n",
      "5.29999999999999\n",
      "-17.900000000000013\n",
      "-41.100000000000016\n",
      "-106.70000000000002\n",
      "-90.70000000000002\n",
      "-113.90000000000002\n",
      "-137.10000000000002\n",
      "-160.3\n",
      "-47.60000000000001\n",
      "0.3999999999999915\n",
      "-22.80000000000001\n",
      "57.19999999999999\n",
      "33.999999999999986\n",
      "-124.70000000000002\n",
      "-147.90000000000003\n",
      "-171.10000000000002\n",
      "-194.3\n",
      "-217.5\n",
      "0.4999999999999858\n",
      "-22.700000000000017\n",
      "-45.90000000000002\n",
      "-69.10000000000002\n",
      "-92.30000000000003\n",
      "-150.8\n",
      "-174.0\n",
      "-197.2\n",
      "-220.39999999999998\n",
      "-172.39999999999998\n",
      "120.6\n",
      "200.6\n",
      "280.6\n",
      "257.40000000000003\n",
      "321.40000000000003\n",
      "121.49999999999999\n",
      "98.29999999999998\n",
      "146.29999999999998\n",
      "123.09999999999998\n",
      "203.09999999999997\n",
      "214.7\n",
      "246.7\n",
      "310.7\n",
      "287.5\n",
      "367.5\n",
      "147.5\n",
      "124.3\n",
      "204.3\n",
      "181.10000000000002\n",
      "157.90000000000003\n",
      "-127.60000000000001\n",
      "-79.60000000000001\n",
      "-102.80000000000001\n",
      "-126.00000000000001\n",
      "-149.20000000000002\n",
      "-150.8\n",
      "-174.0\n",
      "-197.2\n",
      "-149.2\n",
      "-101.19999999999999\n",
      "-150.8\n",
      "-174.0\n",
      "-197.2\n",
      "-220.39999999999998\n",
      "-243.59999999999997\n",
      "-150.8\n",
      "-174.0\n",
      "-197.2\n",
      "-220.39999999999998\n",
      "-220.39999999999998\n",
      "-150.8\n",
      "-174.0\n",
      "-197.2\n",
      "-117.19999999999999\n",
      "-140.39999999999998\n",
      "52.7\n",
      "52.7\n",
      "68.7\n",
      "116.7\n",
      "148.7\n",
      "55.599999999999994\n",
      "32.39999999999999\n",
      "9.199999999999989\n",
      "25.19999999999999\n",
      "1.9999999999999858\n",
      "120.60000000000001\n",
      "97.4\n",
      "177.4\n",
      "154.2\n",
      "131.0\n",
      "-69.50000000000001\n",
      "-5.500000000000014\n",
      "-28.700000000000017\n",
      "-51.90000000000002\n",
      "-75.10000000000002\n",
      "196.7\n",
      "173.5\n",
      "221.5\n",
      "269.5\n",
      "349.5\n",
      "148.6\n",
      "125.39999999999999\n",
      "102.19999999999999\n",
      "78.99999999999999\n",
      "55.79999999999998\n",
      "-24.400000000000006\n",
      "-47.60000000000001\n",
      "-70.80000000000001\n",
      "-94.00000000000001\n",
      "-117.20000000000002\n",
      "32.5\n",
      "9.299999999999997\n",
      "-13.900000000000006\n",
      "-13.900000000000006\n",
      "2.0999999999999943\n",
      "50.5\n",
      "27.299999999999997\n",
      "4.099999999999994\n",
      "-19.10000000000001\n",
      "-42.30000000000001\n",
      "284.7\n",
      "261.5\n",
      "341.5\n",
      "318.3\n",
      "398.3\n",
      "209.60000000000002\n",
      "186.40000000000003\n",
      "266.40000000000003\n",
      "243.20000000000005\n",
      "220.00000000000006\n",
      "112.69999999999999\n",
      "128.7\n",
      "176.7\n",
      "208.7\n",
      "272.7\n",
      "50.5\n",
      "27.299999999999997\n",
      "4.099999999999994\n",
      "-19.10000000000001\n",
      "-42.30000000000001\n",
      "-150.8\n",
      "-174.0\n",
      "-197.2\n",
      "-220.39999999999998\n",
      "-243.59999999999997\n",
      "-34.70000000000002\n",
      "45.29999999999998\n",
      "22.09999999999998\n",
      "-1.1000000000000227\n",
      "-24.300000000000026\n",
      "32.499999999999986\n",
      "9.299999999999983\n",
      "-13.90000000000002\n",
      "34.09999999999998\n",
      "10.899999999999977\n",
      "9.399999999999991\n",
      "-13.800000000000011\n",
      "34.19999999999999\n",
      "82.19999999999999\n",
      "58.999999999999986\n",
      "-18.500000000000007\n",
      "-41.70000000000001\n",
      "-25.70000000000001\n",
      "-48.90000000000001\n",
      "-32.90000000000001\n",
      "-14.600000000000009\n",
      "-37.80000000000001\n",
      "-21.80000000000001\n",
      "-5.800000000000011\n",
      "10.199999999999989\n",
      "-47.60000000000001\n",
      "-70.80000000000001\n",
      "-94.00000000000001\n",
      "-117.20000000000002\n",
      "-140.40000000000003\n"
     ]
    }
   ],
   "source": [
    "scores =[]\n",
    "for i in range(len(targets)):   # i represent target number\n",
    "    # Calculate LHS of target point i\n",
    "    score = 0\n",
    "    for row_step in range(-2,3):\n",
    "        #  Where neighbours are not available, P(point) replace P(neibours)\n",
    "        if targets[i][0] + row_step in [0,1,2,3,4,5,6,7,8,9]:\n",
    "            prob = enemy_probmap[targets[i][0] + row_step][targets[i][1]]\n",
    "        else:\n",
    "            prob = enemy_probmap[targets[i][0]][targets[i][1]]\n",
    "        score += (1-0.1*abs(row_step)) * prob\n",
    "\n",
    "    for col_step in range(-2,3):\n",
    "        #  Where neighbours are not available, P(point) replace P(neibours)\n",
    "        if targets[i][1] + col_step in [0,1,2,3,4,5,6,7,8,9]:\n",
    "            prob = enemy_probmap[targets[i][0]][targets[i][1]+col_step]\n",
    "        else:\n",
    "            prob = enemy_probmap[targets[i][0]][targets[i][1]]\n",
    "        score += (1-0.1*abs(row_step)) * prob\n",
    "        print(score)\n",
    "# Store LHS and target point i and sort at the end\n",
    "    scores.append((score,i))"
   ]
  },
  {
   "cell_type": "code",
   "execution_count": 58,
   "metadata": {},
   "outputs": [
    {
     "data": {
      "text/plain": [
       "100"
      ]
     },
     "execution_count": 58,
     "metadata": {},
     "output_type": "execute_result"
    }
   ],
   "source": [
    "len(targets)"
   ]
  },
  {
   "cell_type": "code",
   "execution_count": 72,
   "metadata": {},
   "outputs": [],
   "source": [
    "scores.sort(reverse=True)"
   ]
  },
  {
   "cell_type": "code",
   "execution_count": 73,
   "metadata": {},
   "outputs": [
    {
     "data": {
      "text/plain": [
       "[(401.5, 61),\n",
       " (398.3, 89),\n",
       " (381.5, 49),\n",
       " (367.5, 73),\n",
       " (356.6, 5),\n",
       " (352.6, 41),\n",
       " (349.5, 84),\n",
       " (337.5, 63),\n",
       " (337.4, 51),\n",
       " (323.20000000000005, 64),\n",
       " (321.40000000000003, 71),\n",
       " (301.5, 60),\n",
       " (272.7, 91),\n",
       " (242.29999999999998, 33),\n",
       " (237.40000000000003, 18),\n",
       " (230.3, 1),\n",
       " (220.00000000000006, 90),\n",
       " (203.09999999999997, 72),\n",
       " (195.5, 29),\n",
       " (191.10000000000002, 37),\n",
       " (180.2, 47),\n",
       " (175.10000000000002, 10),\n",
       " (171.90000000000003, 43),\n",
       " (166.80000000000007, 46),\n",
       " (157.90000000000003, 74),\n",
       " (148.7, 80),\n",
       " (131.0, 82),\n",
       " (117.39999999999999, 24),\n",
       " (114.10000000000001, 57),\n",
       " (109.49999999999999, 40),\n",
       " (105.3, 23),\n",
       " (82.1, 44),\n",
       " (66.09999999999998, 9),\n",
       " (58.999999999999986, 96),\n",
       " (55.79999999999998, 85),\n",
       " (55.0, 42),\n",
       " (54.999999999999986, 50),\n",
       " (52.09999999999998, 13),\n",
       " (41.19999999999999, 56),\n",
       " (41.19999999999999, 3),\n",
       " (33.999999999999986, 67),\n",
       " (19.799999999999983, 0),\n",
       " (10.999999999999993, 53),\n",
       " (10.899999999999977, 95),\n",
       " (10.199999999999989, 98),\n",
       " (2.0999999999999943, 87),\n",
       " (1.9999999999999858, 81),\n",
       " (1.9999999999999858, 22),\n",
       " (-3.1000000000000227, 20),\n",
       " (-14.000000000000014, 15),\n",
       " (-19.900000000000013, 38),\n",
       " (-21.100000000000023, 31),\n",
       " (-24.300000000000026, 94),\n",
       " (-24.300000000000026, 62),\n",
       " (-31.700000000000003, 35),\n",
       " (-32.90000000000001, 97),\n",
       " (-37.80000000000001, 4),\n",
       " (-40.300000000000026, 34),\n",
       " (-41.100000000000016, 65),\n",
       " (-42.30000000000001, 92),\n",
       " (-42.30000000000001, 88),\n",
       " (-46.0, 21),\n",
       " (-53.20000000000002, 7),\n",
       " (-55.10000000000001, 36),\n",
       " (-75.10000000000002, 83),\n",
       " (-78.30000000000003, 32),\n",
       " (-83.40000000000002, 48),\n",
       " (-92.30000000000003, 69),\n",
       " (-92.30000000000003, 27),\n",
       " (-97.00000000000001, 17),\n",
       " (-101.19999999999999, 76),\n",
       " (-101.40000000000002, 52),\n",
       " (-117.20000000000002, 86),\n",
       " (-117.20000000000002, 54),\n",
       " (-117.20000000000002, 16),\n",
       " (-127.50000000000003, 59),\n",
       " (-127.50000000000003, 30),\n",
       " (-133.20000000000002, 11),\n",
       " (-133.20000000000002, 8),\n",
       " (-140.39999999999998, 79),\n",
       " (-140.39999999999998, 12),\n",
       " (-140.40000000000003, 99),\n",
       " (-140.40000000000003, 39),\n",
       " (-140.40000000000003, 28),\n",
       " (-140.40000000000003, 14),\n",
       " (-149.20000000000002, 75),\n",
       " (-158.3, 26),\n",
       " (-160.3, 66),\n",
       " (-160.3, 19),\n",
       " (-163.5, 2),\n",
       " (-172.39999999999998, 70),\n",
       " (-181.5, 6),\n",
       " (-199.5, 55),\n",
       " (-204.39999999999998, 45),\n",
       " (-204.39999999999998, 25),\n",
       " (-217.5, 68),\n",
       " (-220.39999999999998, 78),\n",
       " (-243.59999999999997, 93),\n",
       " (-243.59999999999997, 77),\n",
       " (-243.59999999999997, 58)]"
      ]
     },
     "execution_count": 73,
     "metadata": {},
     "output_type": "execute_result"
    }
   ],
   "source": [
    "scores"
   ]
  },
  {
   "cell_type": "code",
   "execution_count": 63,
   "metadata": {},
   "outputs": [
    {
     "ename": "TypeError",
     "evalue": "'int' object is not subscriptable",
     "output_type": "error",
     "traceback": [
      "\u001b[0;31m---------------------------------------------------------------------------\u001b[0m",
      "\u001b[0;31mTypeError\u001b[0m                                 Traceback (most recent call last)",
      "\u001b[0;32m<ipython-input-63-ddb53c43dfce>\u001b[0m in \u001b[0;36m<module>\u001b[0;34m()\u001b[0m\n\u001b[1;32m      1\u001b[0m \u001b[0mmyship_number\u001b[0m \u001b[0;34m=\u001b[0m \u001b[0;36m0\u001b[0m\u001b[0;34m\u001b[0m\u001b[0;34m\u001b[0m\u001b[0m\n\u001b[1;32m      2\u001b[0m \u001b[0;32mfor\u001b[0m \u001b[0mi\u001b[0m \u001b[0;32min\u001b[0m \u001b[0mp1\u001b[0m\u001b[0;34m.\u001b[0m\u001b[0mships_dd\u001b[0m\u001b[0;34m.\u001b[0m\u001b[0mkeys\u001b[0m\u001b[0;34m(\u001b[0m\u001b[0;34m)\u001b[0m\u001b[0;34m:\u001b[0m\u001b[0;34m\u001b[0m\u001b[0;34m\u001b[0m\u001b[0m\n\u001b[0;32m----> 3\u001b[0;31m     \u001b[0;32mif\u001b[0m \u001b[0mi\u001b[0m\u001b[0;34m[\u001b[0m\u001b[0;36m1\u001b[0m\u001b[0;34m]\u001b[0m \u001b[0;34m!=\u001b[0m \u001b[0;36m0\u001b[0m\u001b[0;34m:\u001b[0m\u001b[0;34m\u001b[0m\u001b[0;34m\u001b[0m\u001b[0m\n\u001b[0m\u001b[1;32m      4\u001b[0m         \u001b[0mmyship_number\u001b[0m \u001b[0;34m+=\u001b[0m \u001b[0;36m1\u001b[0m\u001b[0;34m\u001b[0m\u001b[0;34m\u001b[0m\u001b[0m\n",
      "\u001b[0;31mTypeError\u001b[0m: 'int' object is not subscriptable"
     ]
    }
   ],
   "source": [
    "myship_number = 0 \n",
    "for i in p1.ships_dd.keys():\n",
    "    if i[1] != 0:\n",
    "        myship_number += 1"
   ]
  },
  {
   "cell_type": "code",
   "execution_count": 75,
   "metadata": {},
   "outputs": [
    {
     "name": "stdout",
     "output_type": "stream",
     "text": [
      "[(4, 7)]\n",
      "[(4, 7), (9, 8)]\n",
      "[(4, 7), (9, 8), (6, 4)]\n",
      "[(4, 7), (9, 8), (6, 4), (9, 6)]\n",
      "[(4, 7), (9, 8), (6, 4), (9, 6), (4, 9)]\n"
     ]
    }
   ],
   "source": [
    "shot_list =[]\n",
    "for j in range(5):\n",
    "    shot_row = targets[ scores[j][1] ][0]\n",
    "    shot_col = targets[ scores[j][1] ][1]\n",
    "    shot_list.append((shot_row,shot_col))\n",
    "    print(shot_list)"
   ]
  },
  {
   "cell_type": "code",
   "execution_count": 1,
   "metadata": {},
   "outputs": [],
   "source": [
    "test = [[]]"
   ]
  },
  {
   "cell_type": "code",
   "execution_count": 5,
   "metadata": {},
   "outputs": [
    {
     "data": {
      "text/plain": [
       "1"
      ]
     },
     "execution_count": 5,
     "metadata": {},
     "output_type": "execute_result"
    }
   ],
   "source": [
    "len(test)"
   ]
  },
  {
   "cell_type": "code",
   "execution_count": 7,
   "metadata": {},
   "outputs": [
    {
     "data": {
      "text/plain": [
       "False"
      ]
     },
     "execution_count": 7,
     "metadata": {},
     "output_type": "execute_result"
    }
   ],
   "source": [
    "not test"
   ]
  },
  {
   "cell_type": "code",
   "execution_count": 8,
   "metadata": {},
   "outputs": [],
   "source": [
    "histories = [[], []]"
   ]
  },
  {
   "cell_type": "code",
   "execution_count": 9,
   "metadata": {},
   "outputs": [
    {
     "data": {
      "text/plain": [
       "[]"
      ]
     },
     "execution_count": 9,
     "metadata": {},
     "output_type": "execute_result"
    }
   ],
   "source": [
    "histories[0]"
   ]
  },
  {
   "cell_type": "code",
   "execution_count": 5,
   "metadata": {},
   "outputs": [],
   "source": [
    "import random"
   ]
  },
  {
   "cell_type": "code",
   "execution_count": 16,
   "metadata": {},
   "outputs": [],
   "source": [
    "def initial_shots(number_of_ships):\n",
    "    placement_1 = [(1,1), (3,1), (2,2), (1,3), (3,3)]\n",
    "    placement_2 = [(6,1), (8,1), (7,2), (6,3), (8,3)]\n",
    "    placement_3 = [(1,6), (1,8), (2,7), (3,6), (3,8)]\n",
    "    placement_4 = [(6,6), (8,6), (7,7), (8,6), (8,8)]\n",
    "\n",
    "    shots = random.choice([placement_1, placement_2, placement_3, placement_4])\n",
    "    shot_list = random.sample(shots, k=number_of_ships)#[:number_of_ships]\n",
    "    \n",
    "    return shot_list"
   ]
  },
  {
   "cell_type": "code",
   "execution_count": 19,
   "metadata": {},
   "outputs": [
    {
     "data": {
      "text/plain": [
       "[(1, 8)]"
      ]
     },
     "execution_count": 19,
     "metadata": {},
     "output_type": "execute_result"
    }
   ],
   "source": [
    "initial_shots(1)"
   ]
  },
  {
   "cell_type": "code",
   "execution_count": 137,
   "metadata": {},
   "outputs": [],
   "source": [
    "enemy_dict = {(i, j): 15/100 for i in range(10) for j in range(10)}"
   ]
  },
  {
   "cell_type": "code",
   "execution_count": 23,
   "metadata": {},
   "outputs": [
    {
     "data": {
      "text/plain": [
       "{(0, 0): 0.15,\n",
       " (0, 1): 0.15,\n",
       " (0, 2): 0.15,\n",
       " (0, 3): 0.15,\n",
       " (0, 4): 0.15,\n",
       " (0, 5): 0.15,\n",
       " (0, 6): 0.15,\n",
       " (0, 7): 0.15,\n",
       " (0, 8): 0.15,\n",
       " (0, 9): 0.15,\n",
       " (1, 0): 0.15,\n",
       " (1, 1): 0.15,\n",
       " (1, 2): 0.15,\n",
       " (1, 3): 0.15,\n",
       " (1, 4): 0.15,\n",
       " (1, 5): 0.15,\n",
       " (1, 6): 0.15,\n",
       " (1, 7): 0.15,\n",
       " (1, 8): 0.15,\n",
       " (1, 9): 0.15,\n",
       " (2, 0): 0.15,\n",
       " (2, 1): 0.15,\n",
       " (2, 2): 0.15,\n",
       " (2, 3): 0.15,\n",
       " (2, 4): 0.15,\n",
       " (2, 5): 0.15,\n",
       " (2, 6): 0.15,\n",
       " (2, 7): 0.15,\n",
       " (2, 8): 0.15,\n",
       " (2, 9): 0.15,\n",
       " (3, 0): 0.15,\n",
       " (3, 1): 0.15,\n",
       " (3, 2): 0.15,\n",
       " (3, 3): 0.15,\n",
       " (3, 4): 0.15,\n",
       " (3, 5): 0.15,\n",
       " (3, 6): 0.15,\n",
       " (3, 7): 0.15,\n",
       " (3, 8): 0.15,\n",
       " (3, 9): 0.15,\n",
       " (4, 0): 0.15,\n",
       " (4, 1): 0.15,\n",
       " (4, 2): 0.15,\n",
       " (4, 3): 0.15,\n",
       " (4, 4): 0.15,\n",
       " (4, 5): 0.15,\n",
       " (4, 6): 0.15,\n",
       " (4, 7): 0.15,\n",
       " (4, 8): 0.15,\n",
       " (4, 9): 0.15,\n",
       " (5, 0): 0.15,\n",
       " (5, 1): 0.15,\n",
       " (5, 2): 0.15,\n",
       " (5, 3): 0.15,\n",
       " (5, 4): 0.15,\n",
       " (5, 5): 0.15,\n",
       " (5, 6): 0.15,\n",
       " (5, 7): 0.15,\n",
       " (5, 8): 0.15,\n",
       " (5, 9): 0.15,\n",
       " (6, 0): 0.15,\n",
       " (6, 1): 0.15,\n",
       " (6, 2): 0.15,\n",
       " (6, 3): 0.15,\n",
       " (6, 4): 0.15,\n",
       " (6, 5): 0.15,\n",
       " (6, 6): 0.15,\n",
       " (6, 7): 0.15,\n",
       " (6, 8): 0.15,\n",
       " (6, 9): 0.15,\n",
       " (7, 0): 0.15,\n",
       " (7, 1): 0.15,\n",
       " (7, 2): 0.15,\n",
       " (7, 3): 0.15,\n",
       " (7, 4): 0.15,\n",
       " (7, 5): 0.15,\n",
       " (7, 6): 0.15,\n",
       " (7, 7): 0.15,\n",
       " (7, 8): 0.15,\n",
       " (7, 9): 0.15,\n",
       " (8, 0): 0.15,\n",
       " (8, 1): 0.15,\n",
       " (8, 2): 0.15,\n",
       " (8, 3): 0.15,\n",
       " (8, 4): 0.15,\n",
       " (8, 5): 0.15,\n",
       " (8, 6): 0.15,\n",
       " (8, 7): 0.15,\n",
       " (8, 8): 0.15,\n",
       " (8, 9): 0.15,\n",
       " (9, 0): 0.15,\n",
       " (9, 1): 0.15,\n",
       " (9, 2): 0.15,\n",
       " (9, 3): 0.15,\n",
       " (9, 4): 0.15,\n",
       " (9, 5): 0.15,\n",
       " (9, 6): 0.15,\n",
       " (9, 7): 0.15,\n",
       " (9, 8): 0.15,\n",
       " (9, 9): 0.15}"
      ]
     },
     "execution_count": 23,
     "metadata": {},
     "output_type": "execute_result"
    }
   ],
   "source": [
    "enemy_dict"
   ]
  },
  {
   "cell_type": "code",
   "execution_count": 26,
   "metadata": {},
   "outputs": [
    {
     "data": {
      "text/plain": [
       "[{'shots': [(4, 3), (9, 3), (9, 5), (7, 1), (8, 0)],\n",
       "  'hits': 2,\n",
       "  'incoming': [(7, 2), (2, 0), (3, 4), (9, 1), (5, 9)]},\n",
       " {'shots': [(4, 7), (7, 1), (3, 7), (4, 9), (9, 2)],\n",
       "  'hits': 4,\n",
       "  'incoming': [(8, 0), (0, 0), (6, 5), (1, 1), (3, 5)]},\n",
       " {'shots': [(4, 8), (3, 2), (2, 7), (1, 4), (6, 2)],\n",
       "  'hits': 3,\n",
       "  'incoming': [(2, 3), (8, 2), (6, 3), (6, 4), (8, 2)]},\n",
       " {'shots': [(0, 0), (1, 9), (6, 9), (9, 3), (0, 8)],\n",
       "  'hits': 1,\n",
       "  'incoming': [(4, 1), (1, 6), (6, 3), (5, 6), (1, 2)]},\n",
       " {'shots': [(1, 3), (6, 3), (5, 4), (9, 2), (9, 8)],\n",
       "  'hits': 0,\n",
       "  'incoming': [(8, 9), (3, 4), (2, 2), (6, 9), (2, 9)]}]"
      ]
     },
     "execution_count": 26,
     "metadata": {},
     "output_type": "execute_result"
    }
   ],
   "source": []
  },
  {
   "cell_type": "code",
   "execution_count": 28,
   "metadata": {},
   "outputs": [
    {
     "data": {
      "text/plain": [
       "[(1, 3), (6, 3), (5, 4), (9, 2), (9, 8)]"
      ]
     },
     "execution_count": 28,
     "metadata": {},
     "output_type": "execute_result"
    }
   ],
   "source": [
    "history[-1]['shots']"
   ]
  },
  {
   "cell_type": "code",
   "execution_count": 31,
   "metadata": {},
   "outputs": [],
   "source": [
    "shots_taken = 0\n",
    "for i in range(len(history)):\n",
    "    shots_taken += len(history[i]['shots'])"
   ]
  },
  {
   "cell_type": "code",
   "execution_count": 32,
   "metadata": {},
   "outputs": [
    {
     "data": {
      "text/plain": [
       "25"
      ]
     },
     "execution_count": 32,
     "metadata": {},
     "output_type": "execute_result"
    }
   ],
   "source": [
    "shots_taken"
   ]
  },
  {
   "cell_type": "code",
   "execution_count": 33,
   "metadata": {},
   "outputs": [],
   "source": [
    "from scipy import stats as st"
   ]
  },
  {
   "cell_type": "code",
   "execution_count": 38,
   "metadata": {},
   "outputs": [
    {
     "data": {
      "text/plain": [
       "Mean(statistic=2.3333333333333335, minmax=(-1.1760525778624316, 5.842719244529096))"
      ]
     },
     "execution_count": 38,
     "metadata": {},
     "output_type": "execute_result"
    }
   ],
   "source": [
    "st.bayes_mvs([0,3,4])[0]"
   ]
  },
  {
   "cell_type": "code",
   "execution_count": 39,
   "metadata": {},
   "outputs": [],
   "source": [
    "# Bayes mvs statistic"
   ]
  },
  {
   "cell_type": "code",
   "execution_count": 52,
   "metadata": {},
   "outputs": [
    {
     "data": {
      "text/plain": [
       "0.7071067811865476"
      ]
     },
     "execution_count": 52,
     "metadata": {},
     "output_type": "execute_result"
    }
   ],
   "source": [
    "st.energy_distance([1,1], [0,1], u_weights=None, v_weights=None)"
   ]
  },
  {
   "cell_type": "code",
   "execution_count": 55,
   "metadata": {},
   "outputs": [
    {
     "ename": "TypeError",
     "evalue": "'random_correlation_gen' object is not callable",
     "output_type": "error",
     "traceback": [
      "\u001b[0;31m---------------------------------------------------------------------------\u001b[0m",
      "\u001b[0;31mTypeError\u001b[0m                                 Traceback (most recent call last)",
      "\u001b[0;32m<ipython-input-55-84c58e88dddf>\u001b[0m in \u001b[0;36m<module>\u001b[0;34m()\u001b[0m\n\u001b[0;32m----> 1\u001b[0;31m \u001b[0mst\u001b[0m\u001b[0;34m.\u001b[0m\u001b[0mrandom_correlation\u001b[0m\u001b[0;34m(\u001b[0m\u001b[0;34m[\u001b[0m\u001b[0;36m0\u001b[0m\u001b[0;34m,\u001b[0m\u001b[0;36m0\u001b[0m\u001b[0;34m,\u001b[0m\u001b[0;36m1\u001b[0m\u001b[0;34m,\u001b[0m\u001b[0;36m0\u001b[0m\u001b[0;34m]\u001b[0m\u001b[0;34m)\u001b[0m\u001b[0;34m\u001b[0m\u001b[0;34m\u001b[0m\u001b[0m\n\u001b[0m",
      "\u001b[0;31mTypeError\u001b[0m: 'random_correlation_gen' object is not callable"
     ]
    }
   ],
   "source": [
    "st."
   ]
  },
  {
   "cell_type": "code",
   "execution_count": 77,
   "metadata": {},
   "outputs": [],
   "source": [
    "enemy_dict = {(i, j): 0.15 for i in range(10) for j in range(10)}"
   ]
  },
  {
   "cell_type": "code",
   "execution_count": 64,
   "metadata": {},
   "outputs": [],
   "source": [
    "def dict_mapper(enemy_dict):\n",
    "    grid = [[0 for i in range(10)] for j in range(10)]\n",
    "    for x, y in enemy_dict.keys():\n",
    "        grid[x][y] = enemy_dict[(x,y)]\n",
    "    return grid\n",
    "        "
   ]
  },
  {
   "cell_type": "code",
   "execution_count": 65,
   "metadata": {},
   "outputs": [
    {
     "data": {
      "text/plain": [
       "[[0.15, 0.15, 0.15, 0.15, 0.15, 0.15, 0.15, 0.15, 0.15, 0.15],\n",
       " [0.15, 0.15, 0.15, 0.15, 0.15, 0.15, 0.15, 0.15, 0.15, 0.15],\n",
       " [0.15, 0.15, 0.15, 0.15, 0.15, 0.15, 0.15, 0.15, 0.15, 0.15],\n",
       " [0.15, 0.15, 0.15, 0.15, 0.15, 0.15, 0.15, 0.15, 0.15, 0.15],\n",
       " [0.15, 0.15, 0.15, 0.15, 0.15, 0.15, 0.15, 0.15, 0.15, 0.15],\n",
       " [0.15, 0.15, 0.15, 0.15, 0.15, 0.15, 0.15, 0.15, 0.15, 0.15],\n",
       " [0.15, 0.15, 0.15, 0.15, 0.15, 0.15, 0.15, 0.15, 0.15, 0.15],\n",
       " [0.15, 0.15, 0.15, 0.15, 0.15, 0.15, 0.15, 0.15, 0.15, 0.15],\n",
       " [0.15, 0.15, 0.15, 0.15, 0.15, 0.15, 0.15, 0.15, 0.15, 0.15],\n",
       " [0.15, 0.15, 0.15, 0.15, 0.15, 0.15, 0.15, 0.15, 0.15, 0.15]]"
      ]
     },
     "execution_count": 65,
     "metadata": {},
     "output_type": "execute_result"
    }
   ],
   "source": [
    "dict_mapper(enemy_dict)"
   ]
  },
  {
   "cell_type": "code",
   "execution_count": 78,
   "metadata": {},
   "outputs": [],
   "source": [
    "def probsweeper(enemy_dict, player_shots, hits, history):\n",
    "\n",
    "    # up, down, right, left, upright, downright, up-left, down-left\n",
    "    # minesweeper = [(-1, 0), (1, 0), (0, 1), (0, -1), (-1, 1), (1, 1), (-1, -1), (1, -1)]\n",
    "    # up, down, right, left\n",
    "    minesweeper = [(-1, 0), (1, 0), (0, 1), (0, -1)]\n",
    "\n",
    "    hits_remaining = 15 - hits\n",
    "    shots_taken = 0\n",
    "    for i in range(len(history)):\n",
    "        shots_taken += len(history[i]['shots'])\n",
    "\n",
    "    # updating the enemy dictionary\n",
    "    # only if it has hit!\n",
    "    for i, j in player_shots:\n",
    "        # opponent_battleground[i][j] = -1\n",
    "        for x, y in minesweeper:\n",
    "            # checking if the next position is in the board\n",
    "            if (x + i) >= 0 and (x + i) <= 9 and (y + j) >= 0 and (y + j) <= 9:\n",
    "                # checking if it has already not been hit\n",
    "                if enemy_dict[(i + x, j + y)] != 1 or enemy_dict[(i + x, j + y)] != 0:\n",
    "                    enemy_dict[(i + x, j + y)] += round((hits_remaining)/(100 - shots_taken),2)\n",
    "\n",
    "    return enemy_dict"
   ]
  },
  {
   "cell_type": "code",
   "execution_count": 79,
   "metadata": {},
   "outputs": [
    {
     "data": {
      "text/plain": [
       "{(0, 0): 0.15,\n",
       " (0, 1): 0.15,\n",
       " (0, 2): 0.15,\n",
       " (0, 3): 0.28,\n",
       " (0, 4): 0.15,\n",
       " (0, 5): 0.15,\n",
       " (0, 6): 0.15,\n",
       " (0, 7): 0.15,\n",
       " (0, 8): 0.15,\n",
       " (0, 9): 0.15,\n",
       " (1, 0): 0.15,\n",
       " (1, 1): 0.15,\n",
       " (1, 2): 0.28,\n",
       " (1, 3): 0.15,\n",
       " (1, 4): 0.28,\n",
       " (1, 5): 0.15,\n",
       " (1, 6): 0.15,\n",
       " (1, 7): 0.15,\n",
       " (1, 8): 0.15,\n",
       " (1, 9): 0.15,\n",
       " (2, 0): 0.15,\n",
       " (2, 1): 0.15,\n",
       " (2, 2): 0.15,\n",
       " (2, 3): 0.28,\n",
       " (2, 4): 0.15,\n",
       " (2, 5): 0.15,\n",
       " (2, 6): 0.15,\n",
       " (2, 7): 0.15,\n",
       " (2, 8): 0.15,\n",
       " (2, 9): 0.15,\n",
       " (3, 0): 0.15,\n",
       " (3, 1): 0.15,\n",
       " (3, 2): 0.15,\n",
       " (3, 3): 0.15,\n",
       " (3, 4): 0.15,\n",
       " (3, 5): 0.15,\n",
       " (3, 6): 0.15,\n",
       " (3, 7): 0.15,\n",
       " (3, 8): 0.15,\n",
       " (3, 9): 0.15,\n",
       " (4, 0): 0.15,\n",
       " (4, 1): 0.15,\n",
       " (4, 2): 0.15,\n",
       " (4, 3): 0.15,\n",
       " (4, 4): 0.28,\n",
       " (4, 5): 0.15,\n",
       " (4, 6): 0.15,\n",
       " (4, 7): 0.15,\n",
       " (4, 8): 0.15,\n",
       " (4, 9): 0.15,\n",
       " (5, 0): 0.15,\n",
       " (5, 1): 0.15,\n",
       " (5, 2): 0.15,\n",
       " (5, 3): 0.41000000000000003,\n",
       " (5, 4): 0.15,\n",
       " (5, 5): 0.28,\n",
       " (5, 6): 0.15,\n",
       " (5, 7): 0.15,\n",
       " (5, 8): 0.15,\n",
       " (5, 9): 0.15,\n",
       " (6, 0): 0.15,\n",
       " (6, 1): 0.15,\n",
       " (6, 2): 0.28,\n",
       " (6, 3): 0.15,\n",
       " (6, 4): 0.41000000000000003,\n",
       " (6, 5): 0.15,\n",
       " (6, 6): 0.15,\n",
       " (6, 7): 0.15,\n",
       " (6, 8): 0.15,\n",
       " (6, 9): 0.15,\n",
       " (7, 0): 0.15,\n",
       " (7, 1): 0.15,\n",
       " (7, 2): 0.15,\n",
       " (7, 3): 0.28,\n",
       " (7, 4): 0.15,\n",
       " (7, 5): 0.15,\n",
       " (7, 6): 0.15,\n",
       " (7, 7): 0.15,\n",
       " (7, 8): 0.15,\n",
       " (7, 9): 0.15,\n",
       " (8, 0): 0.15,\n",
       " (8, 1): 0.15,\n",
       " (8, 2): 0.28,\n",
       " (8, 3): 0.15,\n",
       " (8, 4): 0.15,\n",
       " (8, 5): 0.15,\n",
       " (8, 6): 0.15,\n",
       " (8, 7): 0.15,\n",
       " (8, 8): 0.28,\n",
       " (8, 9): 0.15,\n",
       " (9, 0): 0.15,\n",
       " (9, 1): 0.28,\n",
       " (9, 2): 0.15,\n",
       " (9, 3): 0.28,\n",
       " (9, 4): 0.15,\n",
       " (9, 5): 0.15,\n",
       " (9, 6): 0.15,\n",
       " (9, 7): 0.28,\n",
       " (9, 8): 0.15,\n",
       " (9, 9): 0.28}"
      ]
     },
     "execution_count": 79,
     "metadata": {},
     "output_type": "execute_result"
    }
   ],
   "source": [
    "probsweeper(enemy_dict, history[-1]['shots'], 6, history)"
   ]
  },
  {
   "cell_type": "code",
   "execution_count": 70,
   "metadata": {},
   "outputs": [
    {
     "data": {
      "text/plain": [
       "[{'shots': [(4, 3), (9, 3), (9, 5), (7, 1), (8, 0)],\n",
       "  'hits': 2,\n",
       "  'incoming': [(7, 2), (2, 0), (3, 4), (9, 1), (5, 9)]},\n",
       " {'shots': [(4, 7), (7, 1), (3, 7), (4, 9), (9, 2)],\n",
       "  'hits': 4,\n",
       "  'incoming': [(8, 0), (0, 0), (6, 5), (1, 1), (3, 5)]},\n",
       " {'shots': [(4, 8), (3, 2), (2, 7), (1, 4), (6, 2)],\n",
       "  'hits': 3,\n",
       "  'incoming': [(2, 3), (8, 2), (6, 3), (6, 4), (8, 2)]},\n",
       " {'shots': [(0, 0), (1, 9), (6, 9), (9, 3), (0, 8)],\n",
       "  'hits': 1,\n",
       "  'incoming': [(4, 1), (1, 6), (6, 3), (5, 6), (1, 2)]},\n",
       " {'shots': [(1, 3), (6, 3), (5, 4), (9, 2), (9, 8)],\n",
       "  'hits': 0,\n",
       "  'incoming': [(8, 9), (3, 4), (2, 2), (6, 9), (2, 9)]},\n",
       " {'shots': [(1, 3), (6, 3), (5, 4), (9, 2), (9, 8)],\n",
       "  'hits': 2,\n",
       "  'incoming': [(8, 9), (3, 4), (2, 2), (6, 9), (2, 9)]}]"
      ]
     },
     "execution_count": 70,
     "metadata": {},
     "output_type": "execute_result"
    }
   ],
   "source": [
    "history"
   ]
  },
  {
   "cell_type": "code",
   "execution_count": 84,
   "metadata": {},
   "outputs": [],
   "source": [
    "def update_enemy_dict(player_shots=history[-1]['shots'], last_hit=history[-1]['hits']):\n",
    "    if player_shots:\n",
    "        for i, j in player_shots:\n",
    "            if last_hit > 0:\n",
    "                enemy_dict[(i, j)] = 1\n",
    "            else:\n",
    "                enemy_dict[(i, j)] = 0"
   ]
  },
  {
   "cell_type": "code",
   "execution_count": 85,
   "metadata": {},
   "outputs": [],
   "source": [
    "update_enemy_dict()"
   ]
  },
  {
   "cell_type": "code",
   "execution_count": 86,
   "metadata": {},
   "outputs": [
    {
     "data": {
      "text/plain": [
       "[[0.15, 0.15, 0.15, 0.28, 0.15, 0.15, 0.15, 0.15, 0.15, 0.15],\n",
       " [0.15, 0.15, 0.28, 1, 0.28, 0.15, 0.15, 0.15, 0.15, 0.15],\n",
       " [0.15, 0.15, 0.15, 0.28, 0.15, 0.15, 0.15, 0.15, 0.15, 0.15],\n",
       " [0.15, 0.15, 0.15, 0.15, 0.15, 0.15, 0.15, 0.15, 0.15, 0.15],\n",
       " [0.15, 0.15, 0.15, 0.15, 0.28, 0.15, 0.15, 0.15, 0.15, 0.15],\n",
       " [0.15, 0.15, 0.15, 0.41000000000000003, 1, 0.28, 0.15, 0.15, 0.15, 0.15],\n",
       " [0.15, 0.15, 0.28, 1, 0.41000000000000003, 0.15, 0.15, 0.15, 0.15, 0.15],\n",
       " [0.15, 0.15, 0.15, 0.28, 0.15, 0.15, 0.15, 0.15, 0.15, 0.15],\n",
       " [0.15, 0.15, 0.28, 0.15, 0.15, 0.15, 0.15, 0.15, 0.28, 0.15],\n",
       " [0.15, 0.28, 1, 0.28, 0.15, 0.15, 0.15, 0.28, 1, 0.28]]"
      ]
     },
     "execution_count": 86,
     "metadata": {},
     "output_type": "execute_result"
    }
   ],
   "source": [
    "dict_mapper(enemy_dict)"
   ]
  },
  {
   "cell_type": "code",
   "execution_count": 87,
   "metadata": {},
   "outputs": [],
   "source": [
    "prob_matrix = dict_mapper(enemy_dict)"
   ]
  },
  {
   "cell_type": "code",
   "execution_count": 130,
   "metadata": {},
   "outputs": [],
   "source": [
    "import numpy as np"
   ]
  },
  {
   "cell_type": "code",
   "execution_count": 135,
   "metadata": {},
   "outputs": [
    {
     "data": {
      "text/plain": [
       "array([1, 2, 3, 2])"
      ]
     },
     "execution_count": 135,
     "metadata": {},
     "output_type": "execute_result"
    }
   ],
   "source": [
    "st.rankdata([0, 2, 3, 2], method='dense')"
   ]
  },
  {
   "cell_type": "code",
   "execution_count": 131,
   "metadata": {},
   "outputs": [
    {
     "ename": "AttributeError",
     "evalue": "module 'scipy.stats' has no attribute 'rvs_ratio_uniforms'",
     "output_type": "error",
     "traceback": [
      "\u001b[0;31m---------------------------------------------------------------------------\u001b[0m",
      "\u001b[0;31mAttributeError\u001b[0m                            Traceback (most recent call last)",
      "\u001b[0;32m<ipython-input-131-bff707823cff>\u001b[0m in \u001b[0;36m<module>\u001b[0;34m()\u001b[0m\n\u001b[1;32m      3\u001b[0m \u001b[0mumax\u001b[0m\u001b[0;34m,\u001b[0m \u001b[0mvmin\u001b[0m\u001b[0;34m,\u001b[0m \u001b[0mvmax\u001b[0m \u001b[0;34m=\u001b[0m \u001b[0mnp\u001b[0m\u001b[0;34m.\u001b[0m\u001b[0msqrt\u001b[0m\u001b[0;34m(\u001b[0m\u001b[0mf\u001b[0m\u001b[0;34m(\u001b[0m\u001b[0;36m0\u001b[0m\u001b[0;34m)\u001b[0m\u001b[0;34m)\u001b[0m\u001b[0;34m,\u001b[0m \u001b[0;34m-\u001b[0m\u001b[0mv_bound\u001b[0m\u001b[0;34m,\u001b[0m \u001b[0mv_bound\u001b[0m\u001b[0;34m\u001b[0m\u001b[0;34m\u001b[0m\u001b[0m\n\u001b[1;32m      4\u001b[0m \u001b[0mnp\u001b[0m\u001b[0;34m.\u001b[0m\u001b[0mrandom\u001b[0m\u001b[0;34m.\u001b[0m\u001b[0mseed\u001b[0m\u001b[0;34m(\u001b[0m\u001b[0;36m12345\u001b[0m\u001b[0;34m)\u001b[0m\u001b[0;34m\u001b[0m\u001b[0;34m\u001b[0m\u001b[0m\n\u001b[0;32m----> 5\u001b[0;31m \u001b[0mrvs\u001b[0m \u001b[0;34m=\u001b[0m \u001b[0mst\u001b[0m\u001b[0;34m.\u001b[0m\u001b[0mrvs_ratio_uniforms\u001b[0m\u001b[0;34m(\u001b[0m\u001b[0mf\u001b[0m\u001b[0;34m,\u001b[0m \u001b[0mumax\u001b[0m\u001b[0;34m,\u001b[0m \u001b[0mvmin\u001b[0m\u001b[0;34m,\u001b[0m \u001b[0mvmax\u001b[0m\u001b[0;34m,\u001b[0m \u001b[0msize\u001b[0m\u001b[0;34m=\u001b[0m\u001b[0;36m2500\u001b[0m\u001b[0;34m)\u001b[0m\u001b[0;34m\u001b[0m\u001b[0;34m\u001b[0m\u001b[0m\n\u001b[0m",
      "\u001b[0;31mAttributeError\u001b[0m: module 'scipy.stats' has no attribute 'rvs_ratio_uniforms'"
     ]
    }
   ],
   "source": [
    "f = st.norm.pdf\n",
    "v_bound = np.sqrt(f(np.sqrt(2))) * np.sqrt(2)\n",
    "umax, vmin, vmax = np.sqrt(f(0)), -v_bound, v_bound\n",
    "np.random.seed(12345)\n",
    "rvs = st.rvs_ratio_uniforms(f, umax, vmin, vmax, size=2500)"
   ]
  },
  {
   "cell_type": "code",
   "execution_count": null,
   "metadata": {},
   "outputs": [],
   "source": [
    "def update_probabilities(prob_matrix):\n",
    "    for x, y in prob_matrix:\n",
    "        i"
   ]
  },
  {
   "cell_type": "code",
   "execution_count": 95,
   "metadata": {},
   "outputs": [
    {
     "name": "stdout",
     "output_type": "stream",
     "text": [
      "0 0\n",
      "0 1\n",
      "0 2\n",
      "0 3\n",
      "0 4\n",
      "0 5\n",
      "0 6\n",
      "0 7\n",
      "0 8\n",
      "0 9\n",
      "1 0\n",
      "1 1\n",
      "1 2\n",
      "1 3\n",
      "1 4\n",
      "1 5\n",
      "1 6\n",
      "1 7\n",
      "1 8\n",
      "1 9\n",
      "2 0\n",
      "2 1\n",
      "2 2\n",
      "2 3\n",
      "2 4\n",
      "2 5\n",
      "2 6\n",
      "2 7\n",
      "2 8\n",
      "2 9\n",
      "3 0\n",
      "3 1\n",
      "3 2\n",
      "3 3\n",
      "3 4\n",
      "3 5\n",
      "3 6\n",
      "3 7\n",
      "3 8\n",
      "3 9\n",
      "4 0\n",
      "4 1\n",
      "4 2\n",
      "4 3\n",
      "4 4\n",
      "4 5\n",
      "4 6\n",
      "4 7\n",
      "4 8\n",
      "4 9\n",
      "5 0\n",
      "5 1\n",
      "5 2\n",
      "5 3\n",
      "5 4\n",
      "5 5\n",
      "5 6\n",
      "5 7\n",
      "5 8\n",
      "5 9\n",
      "6 0\n",
      "6 1\n",
      "6 2\n",
      "6 3\n",
      "6 4\n",
      "6 5\n",
      "6 6\n",
      "6 7\n",
      "6 8\n",
      "6 9\n",
      "7 0\n",
      "7 1\n",
      "7 2\n",
      "7 3\n",
      "7 4\n",
      "7 5\n",
      "7 6\n",
      "7 7\n",
      "7 8\n",
      "7 9\n",
      "8 0\n",
      "8 1\n",
      "8 2\n",
      "8 3\n",
      "8 4\n",
      "8 5\n",
      "8 6\n",
      "8 7\n",
      "8 8\n",
      "8 9\n",
      "9 0\n",
      "9 1\n",
      "9 2\n",
      "9 3\n",
      "9 4\n",
      "9 5\n",
      "9 6\n",
      "9 7\n",
      "9 8\n",
      "9 9\n"
     ]
    }
   ],
   "source": [
    "for (x,y), v in enemy_dict.items():\n",
    "    \n",
    "    minesweeper = [(-1, 0), (1, 0), (0, 1), (0, -1)]\n",
    "    if (x + i) >= 0 and (x + i) <= 9 and (y + j) >= 0 and (y + j) <= 9:\n",
    "        # checking if it has already not been hit\n",
    "        if enemy_dict[(i + x, j + y)] != 1 or enemy_dict[(i + x, j + y)] != 0:\n",
    "            enemy_dict[(i + x, j + y)] += round((hits_remaining)/(100 - shots_taken),2) \n",
    "    "
   ]
  },
  {
   "cell_type": "code",
   "execution_count": 99,
   "metadata": {},
   "outputs": [
    {
     "data": {
      "text/plain": [
       "0.28"
      ]
     },
     "execution_count": 99,
     "metadata": {},
     "output_type": "execute_result"
    }
   ],
   "source": [
    "enemy_dict[(1,4)]"
   ]
  },
  {
   "cell_type": "code",
   "execution_count": 101,
   "metadata": {},
   "outputs": [],
   "source": [
    "average_list = lambda x,y:[(x-1,y), (x+1, y), (x,y-1), (x,y+1)]"
   ]
  },
  {
   "cell_type": "code",
   "execution_count": 103,
   "metadata": {},
   "outputs": [
    {
     "data": {
      "text/plain": [
       "[(0, 4), (2, 4), (1, 3), (1, 5)]"
      ]
     },
     "execution_count": 103,
     "metadata": {},
     "output_type": "execute_result"
    }
   ],
   "source": [
    "average_list(1,4)"
   ]
  },
  {
   "cell_type": "code",
   "execution_count": 106,
   "metadata": {},
   "outputs": [
    {
     "name": "stdout",
     "output_type": "stream",
     "text": [
      "0.15\n",
      "0.15\n",
      "1\n",
      "0.15\n"
     ]
    }
   ],
   "source": [
    "mysum = 0\n",
    "for i in average_list(1,4):\n",
    "    mysum += enemy_dict[i]\n",
    "    print(enemy_dict[i])"
   ]
  },
  {
   "cell_type": "code",
   "execution_count": 108,
   "metadata": {},
   "outputs": [
    {
     "data": {
      "text/plain": [
       "0.3625"
      ]
     },
     "execution_count": 108,
     "metadata": {},
     "output_type": "execute_result"
    }
   ],
   "source": [
    "mysum/4"
   ]
  },
  {
   "cell_type": "code",
   "execution_count": null,
   "metadata": {},
   "outputs": [],
   "source": [
    "def update_probabilities(prob_matrix):"
   ]
  },
  {
   "cell_type": "code",
   "execution_count": 117,
   "metadata": {},
   "outputs": [
    {
     "name": "stdout",
     "output_type": "stream",
     "text": [
      "0.5090161463200407\n",
      "1.1118462485112341\n",
      "1.6208623948312748\n",
      "2.1117767195238875\n",
      "0.5090161463200407\n",
      "1.0755563391565262\n",
      "1.603500519037498\n",
      "1.853500519037498\n",
      "0.5090161463200407\n",
      "1.0069436022671012\n",
      "1.4703187320264757\n",
      "1.9634985481260885\n",
      "0.5090161463200407\n",
      "1.0553528822398444\n",
      "1.3053528822398444\n",
      "1.8669677827515136\n",
      "0.5090161463200407\n",
      "1.0876658834753818\n",
      "1.5544078291632601\n",
      "2.1358027085303717\n",
      "0.5090161463200407\n",
      "1.1021324079710682\n",
      "1.6360830851036612\n",
      "2.2232810549116504\n",
      "0.5090161463200407\n",
      "1.1077751555051987\n",
      "1.6635954192331113\n",
      "2.2524586855830737\n",
      "0.5090161463200407\n",
      "1.109746002474222\n",
      "1.6728606738699905\n",
      "2.2617239402199534\n",
      "0.5279441798809719\n",
      "1.133130606002708\n",
      "1.7219938723526707\n",
      "2.288534065189156\n",
      "0.4633751297593745\n",
      "1.0549122862554112\n",
      "1.6270458025527001\n",
      "2.124973258499761\n",
      "0.25\n",
      "0.8197210015781295\n",
      "1.3509643162030698\n",
      "1.8973010521228737\n",
      "0.4667419456878784\n",
      "1.0223015999765468\n",
      "1.4966268630072652\n",
      "2.0752766001626064\n",
      "0.5339506771325929\n",
      "1.1113101580777598\n",
      "1.6301293081184114\n",
      "2.223245569769439\n",
      "0.5558202637279126\n",
      "1.1469226306218558\n",
      "1.7027340230642156\n",
      "2.3014930322493736\n",
      "0.5631146713957684\n",
      "1.1603763571506183\n",
      "1.7357496152129617\n",
      "2.336479471367143\n",
      "0.5654309850549883\n",
      "1.1650534398898658\n",
      "1.7491733077316516\n",
      "2.3499031638858328\n",
      "0.572133516297289\n",
      "1.173778943137675\n",
      "1.7745087992918562\n",
      "2.366045955787893\n",
      "0.5312433146249402\n",
      "1.1285565086422245\n",
      "1.7200679975891977\n",
      "2.2897889991673273\n",
      "0.4743252630307184\n",
      "0.9993657538656427\n",
      "1.5718130036574745\n",
      "2.127372657946143\n",
      "0.5188191500406516\n",
      "0.9952331768469711\n",
      "1.527076341333507\n",
      "2.1044358222786737\n",
      "0.5558113924423598\n",
      "1.0935279213763778\n",
      "1.6196368769460463\n",
      "2.2107392438399893\n",
      "0.5753732580623434\n",
      "1.1500224989233438\n",
      "1.7027073098833412\n",
      "2.2999689956381912\n",
      "0.5841198678417857\n",
      "1.1744131852492696\n",
      "1.7494054341588174\n",
      "2.349027888993695\n",
      "0.5874757909714582\n",
      "1.1834880869979476\n",
      "1.7707450592463714\n",
      "2.3703675140812486\n",
      "0.5915114889469733\n",
      "1.1899665908841914\n",
      "1.7895890457190688\n",
      "2.386902239736353\n",
      "0.5724472497918318\n",
      "1.1050927214048143\n",
      "1.7018182813389027\n",
      "2.226858772173827\n",
      "0.5318431644865358\n",
      "0.9212646550985125\n",
      "1.4779793481419694\n",
      "1.954393374948289\n",
      "0.5261089555696684\n",
      "0.7761089555696684\n",
      "1.2647072993067408\n",
      "1.8024238282407588\n",
      "0.5526848109599973\n",
      "1.0254554444675648\n",
      "1.4760614015277544\n",
      "2.050710642388755\n",
      "0.5749922489095478\n",
      "1.128174093139958\n",
      "1.6408517537371468\n",
      "2.2311450711446303\n",
      "0.5872569722484238\n",
      "1.1695417490995945\n",
      "1.727328016885752\n",
      "2.3233403129122414\n",
      "0.5925918785203121\n",
      "1.1848544108822818\n",
      "1.765689489110342\n",
      "2.361701785136831\n",
      "0.5967255599340883\n",
      "1.1712401311794762\n",
      "1.7672524272059655\n",
      "2.299897898818948\n",
      "0.5567146930434568\n",
      "1.0398411799725722\n",
      "1.6148156546773091\n",
      "2.0042371452892858\n",
      "0.4885983437370722\n",
      "0.7385983437370722\n",
      "1.2396576300593938\n",
      "1.4896576300593938\n",
      "0.4506059570601897\n",
      "0.8409015428720612\n",
      "1.2133159503869098\n",
      "1.6860865838944772\n",
      "0.5126776605971888\n",
      "1.012983858292282\n",
      "1.262983858292282\n",
      "1.8161657025226923\n",
      "0.5577862677861576\n",
      "1.1143802789871589\n",
      "1.568421704617832\n",
      "2.150706481469003\n",
      "0.5808350782280604\n",
      "1.162219643125184\n",
      "1.6998962634924348\n",
      "2.2921587958544043\n",
      "0.5904254462842078\n",
      "1.1813628052741756\n",
      "1.7544025042377767\n",
      "2.346665036599746\n",
      "0.574974474704737\n",
      "1.1592841326774548\n",
      "1.7515466650394245\n",
      "2.23467315196854\n",
      "0.5010592863223214\n",
      "1.0203056387751928\n",
      "1.5789739267673277\n",
      "1.8289739267673277\n",
      "0.37241440751484844\n",
      "0.8351005683155146\n",
      "1.2923440500073466\n",
      "1.6826396358192182\n",
      "0.25\n",
      "0.7464183473717143\n",
      "0.9964183473717143\n",
      "1.4967245450668076\n",
      "0.45404142563067307\n",
      "0.9944060713870784\n",
      "1.3685872076537802\n",
      "1.9251812188547814\n",
      "0.5376766203672507\n",
      "1.1072730332526846\n",
      "1.58856833796638\n",
      "2.1699529028635034\n",
      "0.5730396989636011\n",
      "1.158045718635531\n",
      "1.700533944351407\n",
      "2.2914713033413747\n",
      "0.5866662591499365\n",
      "1.1567000429133163\n",
      "1.72956786874866\n",
      "2.3205052277386278\n",
      "0.558668287992135\n",
      "1.1006836966330766\n",
      "1.6916210556230444\n",
      "2.2108674080759156\n",
      "0.45724348169183193\n",
      "0.9227834365690133\n",
      "1.4755002885879922\n",
      "1.9381864493886583\n",
      "0.25\n",
      "0.7515318942182091\n",
      "1.2360785065653737\n",
      "1.732496853937088\n",
      "0.3741811362667019\n",
      "0.8963436464707129\n",
      "1.3294678599549847\n",
      "1.86983250571139\n",
      "0.48129530471369536\n",
      "1.0216046932031104\n",
      "1.4890628196309579\n",
      "2.0586592325163915\n",
      "0.5424882257158758\n",
      "1.0956855853479937\n",
      "1.6103503934770915\n",
      "2.1953564131490215\n",
      "0.5728678258353437\n",
      "1.111926743821376\n",
      "1.6607658471086313\n",
      "2.230799630872011\n",
      "0.5801263069346569\n",
      "1.0471535189520202\n",
      "1.604853426670023\n",
      "2.1748872104334027\n",
      "0.5527168520189789\n",
      "1.0197440640363422\n",
      "1.589777847799722\n",
      "2.0553178026769032\n",
      "0.48454661234716456\n",
      "0.7345466123471646\n",
      "1.2483760630163903\n",
      "1.7499079572345995\n",
      "0.433124213484272\n",
      "0.9001514255016352\n",
      "1.337628414810285\n",
      "1.859790925014296\n",
      "0.4674581264278475\n",
      "0.9344853384452108\n",
      "1.3994330696987847\n",
      "1.9397424581881997\n",
      "0.5146648081290979\n",
      "0.9816920201464611\n",
      "1.466627634693511\n",
      "2.019824994325629\n",
      "0.5488391032872554\n",
      "1.0158663153046186\n",
      "1.5208225638860258\n",
      "2.059881481872058\n",
      "0.5576999077180027\n",
      "1.024727119735366\n",
      "1.5396974902033804\n",
      "2.0067247022207435\n",
      "0.5437218026083507\n",
      "0.7937218026083507\n",
      "1.2954029781635366\n",
      "1.7624301901808996\n"
     ]
    }
   ],
   "source": [
    "\n",
    "\n",
    "for x,y in enemy_dict.keys():\n",
    "    if (x - 1) >= 0 and (x + 1) <= 9 and (y - 1) >= 0 and (y + 1) <= 9:\n",
    "        mysum = 0\n",
    "        for i in average_list(x,y):\n",
    "            mysum += enemy_dict[i]\n",
    "            print(mysum/4)\n",
    "        if enemy_dict[(x,y)] != 0 and enemy_dict[(x,y)] != 1:\n",
    "            enemy_dict[(x,y)] = mysum/4"
   ]
  },
  {
   "cell_type": "code",
   "execution_count": 143,
   "metadata": {},
   "outputs": [],
   "source": [
    "def update_enemy_dict(player_shots = history[-1]['shots'], hits = history[-1]['hits'], history = history):\n",
    "\n",
    "    hits_remaining = 15 - hits\n",
    "    shots_taken = 0\n",
    "    for i in range(len(history)):\n",
    "        shots_taken += len(history[i]['shots'])\n",
    "        \n",
    "    last_hit = history[-1]['hits']\n",
    "\n",
    "    if player_shots:\n",
    "        for i, j in player_shots:\n",
    "            if last_hit > 0:\n",
    "                enemy_dict[(i, j)] = 1\n",
    "            else:\n",
    "                enemy_dict[(i, j)] = 0\n",
    "\n",
    "            for x, y in enemy_dict.keys():\n",
    "                if x != i and y != j and enemy_dict[(x, y)] not in [1, 0]:\n",
    "                    enemy_dict[(x, y)] += hits_remaining / (100 - shots_taken)"
   ]
  },
  {
   "cell_type": "code",
   "execution_count": 154,
   "metadata": {},
   "outputs": [],
   "source": [
    "update_enemy_dict()"
   ]
  },
  {
   "cell_type": "code",
   "execution_count": 155,
   "metadata": {},
   "outputs": [
    {
     "data": {
      "text/plain": [
       "[[3.013636363636363,\n",
       "  1.8681818181818182,\n",
       "  3.013636363636363,\n",
       "  3.013636363636363,\n",
       "  1.8681818181818182,\n",
       "  3.013636363636363,\n",
       "  2.4409090909090905,\n",
       "  3.013636363636363,\n",
       "  3.013636363636363,\n",
       "  3.013636363636363],\n",
       " [3.013636363636363,\n",
       "  1.8681818181818182,\n",
       "  3.013636363636363,\n",
       "  3.013636363636363,\n",
       "  1.8681818181818182,\n",
       "  3.013636363636363,\n",
       "  2.4409090909090905,\n",
       "  3.013636363636363,\n",
       "  3.013636363636363,\n",
       "  3.013636363636363],\n",
       " [3.013636363636363,\n",
       "  1.8681818181818182,\n",
       "  3.013636363636363,\n",
       "  3.013636363636363,\n",
       "  1.8681818181818182,\n",
       "  3.013636363636363,\n",
       "  2.4409090909090905,\n",
       "  3.013636363636363,\n",
       "  3.013636363636363,\n",
       "  3.013636363636363],\n",
       " [3.013636363636363,\n",
       "  1.8681818181818182,\n",
       "  3.013636363636363,\n",
       "  3.013636363636363,\n",
       "  1.8681818181818182,\n",
       "  3.013636363636363,\n",
       "  2.4409090909090905,\n",
       "  3.013636363636363,\n",
       "  3.013636363636363,\n",
       "  3.013636363636363],\n",
       " [1.8681818181818182,\n",
       "  0.7227272727272727,\n",
       "  1.8681818181818182,\n",
       "  1.8681818181818182,\n",
       "  1,\n",
       "  1.8681818181818182,\n",
       "  1,\n",
       "  1.8681818181818182,\n",
       "  1.8681818181818182,\n",
       "  1.8681818181818182],\n",
       " [3.013636363636363,\n",
       "  1.8681818181818182,\n",
       "  3.013636363636363,\n",
       "  3.013636363636363,\n",
       "  1.8681818181818182,\n",
       "  3.013636363636363,\n",
       "  2.4409090909090905,\n",
       "  3.013636363636363,\n",
       "  3.013636363636363,\n",
       "  3.013636363636363],\n",
       " [1.8681818181818182,\n",
       "  1,\n",
       "  1.8681818181818182,\n",
       "  1.8681818181818182,\n",
       "  1,\n",
       "  1.8681818181818182,\n",
       "  1.2954545454545454,\n",
       "  1.8681818181818182,\n",
       "  1.8681818181818182,\n",
       "  1.8681818181818182],\n",
       " [3.013636363636363,\n",
       "  1.8681818181818182,\n",
       "  3.013636363636363,\n",
       "  3.013636363636363,\n",
       "  1.8681818181818182,\n",
       "  3.013636363636363,\n",
       "  2.4409090909090905,\n",
       "  3.013636363636363,\n",
       "  3.013636363636363,\n",
       "  3.013636363636363],\n",
       " [2.4409090909090905,\n",
       "  1,\n",
       "  2.4409090909090905,\n",
       "  2.4409090909090905,\n",
       "  1.2954545454545454,\n",
       "  2.4409090909090905,\n",
       "  1.8681818181818182,\n",
       "  2.4409090909090905,\n",
       "  2.4409090909090905,\n",
       "  2.4409090909090905],\n",
       " [3.013636363636363,\n",
       "  1.8681818181818182,\n",
       "  3.013636363636363,\n",
       "  3.013636363636363,\n",
       "  1.8681818181818182,\n",
       "  3.013636363636363,\n",
       "  2.4409090909090905,\n",
       "  3.013636363636363,\n",
       "  3.013636363636363,\n",
       "  3.013636363636363]]"
      ]
     },
     "execution_count": 155,
     "metadata": {},
     "output_type": "execute_result"
    }
   ],
   "source": [
    "dict_mapper(enemy_dict)"
   ]
  },
  {
   "cell_type": "code",
   "execution_count": 156,
   "metadata": {},
   "outputs": [],
   "source": [
    "sorted_shot_list = sorted([(i[1], i[0]) for i in enemy_dict.items()], reverse=True)"
   ]
  },
  {
   "cell_type": "code",
   "execution_count": 157,
   "metadata": {},
   "outputs": [
    {
     "data": {
      "text/plain": [
       "[(3.013636363636363, (9, 9)),\n",
       " (3.013636363636363, (9, 8)),\n",
       " (3.013636363636363, (9, 7)),\n",
       " (3.013636363636363, (9, 5)),\n",
       " (3.013636363636363, (9, 3)),\n",
       " (3.013636363636363, (9, 2)),\n",
       " (3.013636363636363, (9, 0)),\n",
       " (3.013636363636363, (7, 9)),\n",
       " (3.013636363636363, (7, 8)),\n",
       " (3.013636363636363, (7, 7)),\n",
       " (3.013636363636363, (7, 5)),\n",
       " (3.013636363636363, (7, 3)),\n",
       " (3.013636363636363, (7, 2)),\n",
       " (3.013636363636363, (7, 0)),\n",
       " (3.013636363636363, (5, 9)),\n",
       " (3.013636363636363, (5, 8)),\n",
       " (3.013636363636363, (5, 7)),\n",
       " (3.013636363636363, (5, 5)),\n",
       " (3.013636363636363, (5, 3)),\n",
       " (3.013636363636363, (5, 2)),\n",
       " (3.013636363636363, (5, 0)),\n",
       " (3.013636363636363, (3, 9)),\n",
       " (3.013636363636363, (3, 8)),\n",
       " (3.013636363636363, (3, 7)),\n",
       " (3.013636363636363, (3, 5)),\n",
       " (3.013636363636363, (3, 3)),\n",
       " (3.013636363636363, (3, 2)),\n",
       " (3.013636363636363, (3, 0)),\n",
       " (3.013636363636363, (2, 9)),\n",
       " (3.013636363636363, (2, 8)),\n",
       " (3.013636363636363, (2, 7)),\n",
       " (3.013636363636363, (2, 5)),\n",
       " (3.013636363636363, (2, 3)),\n",
       " (3.013636363636363, (2, 2)),\n",
       " (3.013636363636363, (2, 0)),\n",
       " (3.013636363636363, (1, 9)),\n",
       " (3.013636363636363, (1, 8)),\n",
       " (3.013636363636363, (1, 7)),\n",
       " (3.013636363636363, (1, 5)),\n",
       " (3.013636363636363, (1, 3)),\n",
       " (3.013636363636363, (1, 2)),\n",
       " (3.013636363636363, (1, 0)),\n",
       " (3.013636363636363, (0, 9)),\n",
       " (3.013636363636363, (0, 8)),\n",
       " (3.013636363636363, (0, 7)),\n",
       " (3.013636363636363, (0, 5)),\n",
       " (3.013636363636363, (0, 3)),\n",
       " (3.013636363636363, (0, 2)),\n",
       " (3.013636363636363, (0, 0)),\n",
       " (2.4409090909090905, (9, 6)),\n",
       " (2.4409090909090905, (8, 9)),\n",
       " (2.4409090909090905, (8, 8)),\n",
       " (2.4409090909090905, (8, 7)),\n",
       " (2.4409090909090905, (8, 5)),\n",
       " (2.4409090909090905, (8, 3)),\n",
       " (2.4409090909090905, (8, 2)),\n",
       " (2.4409090909090905, (8, 0)),\n",
       " (2.4409090909090905, (7, 6)),\n",
       " (2.4409090909090905, (5, 6)),\n",
       " (2.4409090909090905, (3, 6)),\n",
       " (2.4409090909090905, (2, 6)),\n",
       " (2.4409090909090905, (1, 6)),\n",
       " (2.4409090909090905, (0, 6)),\n",
       " (1.8681818181818182, (9, 4)),\n",
       " (1.8681818181818182, (9, 1)),\n",
       " (1.8681818181818182, (8, 6)),\n",
       " (1.8681818181818182, (7, 4)),\n",
       " (1.8681818181818182, (7, 1)),\n",
       " (1.8681818181818182, (6, 9)),\n",
       " (1.8681818181818182, (6, 8)),\n",
       " (1.8681818181818182, (6, 7)),\n",
       " (1.8681818181818182, (6, 5)),\n",
       " (1.8681818181818182, (6, 3)),\n",
       " (1.8681818181818182, (6, 2)),\n",
       " (1.8681818181818182, (6, 0)),\n",
       " (1.8681818181818182, (5, 4)),\n",
       " (1.8681818181818182, (5, 1)),\n",
       " (1.8681818181818182, (4, 9)),\n",
       " (1.8681818181818182, (4, 8)),\n",
       " (1.8681818181818182, (4, 7)),\n",
       " (1.8681818181818182, (4, 5)),\n",
       " (1.8681818181818182, (4, 3)),\n",
       " (1.8681818181818182, (4, 2)),\n",
       " (1.8681818181818182, (4, 0)),\n",
       " (1.8681818181818182, (3, 4)),\n",
       " (1.8681818181818182, (3, 1)),\n",
       " (1.8681818181818182, (2, 4)),\n",
       " (1.8681818181818182, (2, 1)),\n",
       " (1.8681818181818182, (1, 4)),\n",
       " (1.8681818181818182, (1, 1)),\n",
       " (1.8681818181818182, (0, 4)),\n",
       " (1.8681818181818182, (0, 1)),\n",
       " (1.2954545454545454, (8, 4)),\n",
       " (1.2954545454545454, (6, 6)),\n",
       " (1, (8, 1)),\n",
       " (1, (6, 4)),\n",
       " (1, (6, 1)),\n",
       " (1, (4, 6)),\n",
       " (1, (4, 4)),\n",
       " (0.7227272727272727, (4, 1))]"
      ]
     },
     "execution_count": 157,
     "metadata": {},
     "output_type": "execute_result"
    }
   ],
   "source": [
    "sorted_shot_list"
   ]
  },
  {
   "cell_type": "code",
   "execution_count": 153,
   "metadata": {},
   "outputs": [
    {
     "data": {
      "text/plain": [
       "[{'shots': [(4, 3), (9, 3), (9, 5), (7, 1), (8, 0)],\n",
       "  'hits': 2,\n",
       "  'incoming': [(7, 2), (2, 0), (3, 4), (9, 1), (5, 9)]},\n",
       " {'shots': [(4, 7), (7, 1), (3, 7), (4, 9), (9, 2)],\n",
       "  'hits': 4,\n",
       "  'incoming': [(8, 0), (0, 0), (6, 5), (1, 1), (3, 5)]},\n",
       " {'shots': [(4, 8), (3, 2), (2, 7), (1, 4), (6, 2)],\n",
       "  'hits': 3,\n",
       "  'incoming': [(2, 3), (8, 2), (6, 3), (6, 4), (8, 2)]},\n",
       " {'shots': [(0, 0), (1, 9), (6, 9), (9, 3), (0, 8)],\n",
       "  'hits': 1,\n",
       "  'incoming': [(4, 1), (1, 6), (6, 3), (5, 6), (1, 2)]},\n",
       " {'shots': [(1, 3), (6, 3), (5, 4), (9, 2), (9, 8)],\n",
       "  'hits': 0,\n",
       "  'incoming': [(8, 9), (3, 4), (2, 2), (6, 9), (2, 9)]},\n",
       " {'shots': [(7, 3), (5, 2), (9, 4), (6, 1), (2, 6)],\n",
       "  'hits': 0,\n",
       "  'incoming': [(9, 1), (0, 4), (8, 3), (7, 7), (0, 9)]},\n",
       " {'shots': [(4, 9), (6, 6), (9, 6), (4, 8), (2, 2)],\n",
       "  'hits': 1,\n",
       "  'incoming': [(5, 0), (1, 7), (4, 1), (1, 4), (1, 1)]},\n",
       " {'shots': [(9, 8), (6, 6), (4, 8), (4, 6), (7, 1)],\n",
       "  'hits': 0,\n",
       "  'incoming': [(0, 5), (7, 0), (2, 2), (8, 7), (0, 6)]},\n",
       " {'shots': [(6, 3), (3, 7), (3, 2), (2, 0), (5, 4)],\n",
       "  'hits': 2,\n",
       "  'incoming': [(9, 1), (2, 7), (0, 1), (0, 1), (6, 0)]}]"
      ]
     },
     "execution_count": 153,
     "metadata": {},
     "output_type": "execute_result"
    }
   ],
   "source": [
    "history"
   ]
  },
  {
   "cell_type": "code",
   "execution_count": 21,
   "metadata": {},
   "outputs": [],
   "source": [
    "enemy_probmap = [[15 for i in range(10)] for j in range(10)]"
   ]
  },
  {
   "cell_type": "code",
   "execution_count": 22,
   "metadata": {},
   "outputs": [
    {
     "data": {
      "text/plain": [
       "[[15, 15, 15, 15, 15, 15, 15, 15, 15, 15],\n",
       " [15, 15, 15, 15, 15, 15, 15, 15, 15, 15],\n",
       " [15, 15, 15, 15, 15, 15, 15, 15, 15, 15],\n",
       " [15, 15, 15, 15, 15, 15, 15, 15, 15, 15],\n",
       " [15, 15, 15, 15, 15, 15, 15, 15, 15, 15],\n",
       " [15, 15, 15, 15, 15, 15, 15, 15, 15, 15],\n",
       " [15, 15, 15, 15, 15, 15, 15, 15, 15, 15],\n",
       " [15, 15, 15, 15, 15, 15, 15, 15, 15, 15],\n",
       " [15, 15, 15, 15, 15, 15, 15, 15, 15, 15],\n",
       " [15, 15, 15, 15, 15, 15, 15, 15, 15, 15]]"
      ]
     },
     "execution_count": 22,
     "metadata": {},
     "output_type": "execute_result"
    }
   ],
   "source": [
    "enemy_probmap"
   ]
  },
  {
   "cell_type": "code",
   "execution_count": 3,
   "metadata": {},
   "outputs": [
    {
     "data": {
      "text/plain": [
       "[15, 15, 15, 15, 15, 15, 15, 15, 15, 15]"
      ]
     },
     "execution_count": 3,
     "metadata": {},
     "output_type": "execute_result"
    }
   ],
   "source": [
    "enemy_probmap[0]"
   ]
  },
  {
   "cell_type": "code",
   "execution_count": 23,
   "metadata": {},
   "outputs": [],
   "source": [
    "for i in range(10):\n",
    "    for j in range(10):\n",
    "        # lowest probability area\n",
    "        if (i,j) in [(0,0), (9,9), (9,0), (0,9)]:\n",
    "            enemy_probmap[i][j] = 15\n",
    "        elif (i,j) in [(1,0), (0,1), (8,0), (1,9), (0,8), (9,1), (8,9), (9,8)]:\n",
    "            enemy_probmap[i][j] = 16.5\n",
    "        elif (i,j) in [(1,1), (1,8), (8,1), (8,8)]:\n",
    "            enemy_probmap[i][j] = 18\n",
    "        elif (i in [0, 9] and j >= 2 and j <= 7) or (j in [0, 9] and i >= 2 and i <= 7):\n",
    "            enemy_probmap[i][j] = 18\n",
    "        elif (i in [1, 8] and j >= 2 and j <= 7) or (j in [1, 8] and i >= 2 and i <= 7):\n",
    "            enemy_probmap[i][j] = 19.5\n",
    "        else:\n",
    "            enemy_probmap[i][j] = 21"
   ]
  },
  {
   "cell_type": "code",
   "execution_count": 24,
   "metadata": {},
   "outputs": [
    {
     "data": {
      "text/plain": [
       "[[15, 16.5, 18, 18, 18, 18, 18, 18, 16.5, 15],\n",
       " [16.5, 18, 19.5, 19.5, 19.5, 19.5, 19.5, 19.5, 18, 16.5],\n",
       " [18, 19.5, 21, 21, 21, 21, 21, 21, 19.5, 18],\n",
       " [18, 19.5, 21, 21, 21, 21, 21, 21, 19.5, 18],\n",
       " [18, 19.5, 21, 21, 21, 21, 21, 21, 19.5, 18],\n",
       " [18, 19.5, 21, 21, 21, 21, 21, 21, 19.5, 18],\n",
       " [18, 19.5, 21, 21, 21, 21, 21, 21, 19.5, 18],\n",
       " [18, 19.5, 21, 21, 21, 21, 21, 21, 19.5, 18],\n",
       " [16.5, 18, 19.5, 19.5, 19.5, 19.5, 19.5, 19.5, 18, 16.5],\n",
       " [15, 16.5, 18, 18, 18, 18, 18, 18, 16.5, 15]]"
      ]
     },
     "execution_count": 24,
     "metadata": {},
     "output_type": "execute_result"
    }
   ],
   "source": [
    "enemy_probmap"
   ]
  },
  {
   "cell_type": "code",
   "execution_count": 32,
   "metadata": {},
   "outputs": [
    {
     "data": {
      "text/plain": [
       "[(2, 1.0), (3, 1.0), (1, 1.0), (5, 1.0), (4, 1.0)]"
      ]
     },
     "execution_count": 32,
     "metadata": {},
     "output_type": "execute_result"
    }
   ],
   "source": [
    "p1.status"
   ]
  },
  {
   "cell_type": "code",
   "execution_count": 37,
   "metadata": {},
   "outputs": [
    {
     "data": {
      "text/plain": [
       "False"
      ]
     },
     "execution_count": 37,
     "metadata": {},
     "output_type": "execute_result"
    }
   ],
   "source": [
    "8 in p1.ships_dd.keys()"
   ]
  },
  {
   "cell_type": "code",
   "execution_count": 41,
   "metadata": {},
   "outputs": [],
   "source": [
    "pre = (1, 0)"
   ]
  },
  {
   "cell_type": "code",
   "execution_count": 42,
   "metadata": {},
   "outputs": [
    {
     "data": {
      "text/plain": [
       "list"
      ]
     },
     "execution_count": 42,
     "metadata": {},
     "output_type": "execute_result"
    }
   ],
   "source": [
    "type([])"
   ]
  },
  {
   "cell_type": "code",
   "execution_count": 43,
   "metadata": {},
   "outputs": [
    {
     "data": {
      "text/plain": [
       "False"
      ]
     },
     "execution_count": 43,
     "metadata": {},
     "output_type": "execute_result"
    }
   ],
   "source": [
    "not (1,0)"
   ]
  },
  {
   "cell_type": "code",
   "execution_count": 45,
   "metadata": {},
   "outputs": [
    {
     "data": {
      "text/plain": [
       "2"
      ]
     },
     "execution_count": 45,
     "metadata": {},
     "output_type": "execute_result"
    }
   ],
   "source": [
    "len((1,0))"
   ]
  },
  {
   "cell_type": "code",
   "execution_count": null,
   "metadata": {},
   "outputs": [],
   "source": []
  }
 ],
 "metadata": {
  "kernelspec": {
   "display_name": "Python 3",
   "language": "python",
   "name": "python3"
  },
  "language_info": {
   "codemirror_mode": {
    "name": "ipython",
    "version": 3
   },
   "file_extension": ".py",
   "mimetype": "text/x-python",
   "name": "python",
   "nbconvert_exporter": "python",
   "pygments_lexer": "ipython3",
   "version": "3.6.8"
  }
 },
 "nbformat": 4,
 "nbformat_minor": 2
}
