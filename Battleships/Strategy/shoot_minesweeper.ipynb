{
 "cells": [
  {
   "cell_type": "code",
   "execution_count": 1,
   "metadata": {},
   "outputs": [],
   "source": [
    "import random"
   ]
  },
  {
   "cell_type": "code",
   "execution_count": 2,
   "metadata": {},
   "outputs": [],
   "source": [
    "class Player:\n",
    "    \"\"\"\n",
    "    Contains three methods\n",
    "        1. setup_ships: takes no parameters and returns a list of lists showing the start position\n",
    "                        of showing the start positions of your ships\n",
    "                        Block of row i and column j, ship label 1-5 & 0 means no ship\n",
    "\n",
    "        2. take_turn:   returns\n",
    "                        -- a list of (row, column) tuples describing your shots\n",
    "                        -- eg: [(1, 1), (1, 3), (1, 5), (2, 1) (4, 5)]\n",
    "                        -- Note: should be equal to the number of ships present (check function)\n",
    "                        -- or a tuple that has a ship number as the first element and the direction\n",
    "                        -- of its moving value\n",
    "                        -- 0: up, 1: right, 2: down, 3: left  (dict)\n",
    "\n",
    "                        TODO: Do not take more shots than the number of ships\n",
    "                        TODO: Do not move the ships outside the grid or radioactive zone\n",
    "\n",
    "        3. get_name:   returns a string that is the name of the Player\n",
    "\n",
    "    \"\"\"\n",
    "    import random\n",
    "    from collections import defaultdict\n",
    "\n",
    "    def __init__(self):\n",
    "\n",
    "        self.player_battleground = [[0 for i in range(10)] for j in range(10)]\n",
    "        self.opponent_battleground = [[0 for i in range(10)] for j in range(10)]\n",
    "\n",
    "        self.ships_dd = Player.defaultdict(int)\n",
    "        self.status = []\n",
    "\n",
    "        self.enemy_dict = {(i, j): 0 for i in range(10) for j in range(10)}\n",
    "\n",
    "        # number of turns\n",
    "        self.counter = 0\n",
    "\n",
    "    def setup_ships(self):\n",
    "        '''\n",
    "\n",
    "        :return: a 10x10 grid with the location of our ships\n",
    "        '''\n",
    "        grid = [[0 for i in range(10)] for j in range(10)]\n",
    "\n",
    "        # ship numbers\n",
    "        ship = [i for i in range(1, 6)]\n",
    "\n",
    "        # randomly shuffle the ship list\n",
    "        Player.random.shuffle(ship)\n",
    "\n",
    "        for ship_number in ship:\n",
    "            control = True\n",
    "\n",
    "            while control:\n",
    "                # randomly select a point on the grid\n",
    "                ship_start_position = self.random_position()\n",
    "\n",
    "                if self.vacant(ship_start_position, ship_number, grid):\n",
    "                    for row in range(0, ship_number):\n",
    "                        # print(f'{ship_start_position} ship : {ship_number}')\n",
    "                        grid[ship_start_position[0] + row][ship_start_position[1]] = ship_number\n",
    "\n",
    "                    control = False\n",
    "\n",
    "        self.player_battleground = grid\n",
    "        return grid\n",
    "\n",
    "    def take_turn(self, history):\n",
    "        '''\n",
    "\n",
    "        :param history: records the game\n",
    "                        list that contains one entry per turn\n",
    "                        dict with 3 keys\n",
    "                            - 'shots' : list of shots made in the turn\n",
    "                            - 'hits' : an integer number of hits that your shots made\n",
    "                            - 'incoming' : opponents list of shots, [] if moved\n",
    "\n",
    "        :return: a list of tuple/s describing the shots or changed location\n",
    "                depending on the strategy\n",
    "        '''\n",
    "        # last_shot = history[-1]['incoming']\n",
    "        # TODO: use history to short circuit the take_turn function\n",
    "        # TODO: consider if the opponent moves\n",
    "\n",
    "        last_shot = history[-1]['incoming'] if self.counter > 0 else []\n",
    "\n",
    "        self.player_battleground = self.update_opponent_shots(self.player_battleground, last_shot)\n",
    "\n",
    "        # counting the number of ships left\n",
    "        self.ships_dd = Player.defaultdict(int)  # reset count every time\n",
    "        # ships_dd = Player.defaultdict(int)\n",
    "\n",
    "        # returns the dict with the number of ships and hits\n",
    "        for row in self.player_battleground:\n",
    "            for point in row:\n",
    "                self.ships_dd[point] += point\n",
    "\n",
    "        self.status = self.ship_status(self.ships_dd)\n",
    "\n",
    "        # Count the number of ships remaining\n",
    "        number_of_ships = len(self.status) if self.status else []\n",
    "\n",
    "        player_shots = history[-1]['shots'] if self.counter > 0 else []\n",
    "\n",
    "        # updating the shots taken by the player\n",
    "        # self.enemy_dict = self.update_enemy_dict(self.enemy_dict, player_shots)\n",
    "        self.update_enemy_dict(player_shots)\n",
    "\n",
    "        if self.counter > 0 and history[-1]['hits']:\n",
    "            self.enemy_dict = self.minesweeper(self.enemy_dict, player_shots)\n",
    "            shots_list = [number for number in self.shot_generator(self.enemy_dict, number_of_ships)]\n",
    "\n",
    "        # elif self.counter > 0 or history[-1]['hits'] == 0:\n",
    "        #     shots_list = [number for number in self.random_selection(self.enemy_dict, number_of_ships)]\n",
    "            \n",
    "        else:\n",
    "            shots_list = [number for number in self.random_selection(self.enemy_dict, number_of_ships)]\n",
    "            \n",
    "\n",
    "        # update the number of turns\n",
    "        self.counter += 1\n",
    "\n",
    "        return shots_list\n",
    "\n",
    "    def get_name(self):\n",
    "        '''\n",
    "\n",
    "        :return: string - name of the Player\n",
    "        '''\n",
    "        return \"Syndicate_10\"\n",
    "\n",
    "    # function to select a point on the grid\n",
    "    def random_position(self):\n",
    "        return [Player.random.randint(0, 9), Player.random.randint(0, 9)]\n",
    "\n",
    "    # function to check if the position is vacant\n",
    "    def vacant(self, pos, ship, grid):\n",
    "        # checking if the ship will fit in the board\n",
    "        if pos[0] + ship <= 10:\n",
    "            for i in range(0, ship):\n",
    "                # checking if any other ship is already present\n",
    "                if grid[pos[0] + i][pos[1]] != 0:\n",
    "                    return False\n",
    "            return True\n",
    "        return False\n",
    "\n",
    "    # function to shoot randomly with a given number of ships\n",
    "    def random_shots(self, num=5):\n",
    "        for x in range(0, num):\n",
    "            yield Player.random.randint(0, 9), Player.random.randint(0, 9)\n",
    "\n",
    "    # function to update the player battleground with the incoming shots\n",
    "    def update_opponent_shots(self, grid, incoming_shots):\n",
    "        if incoming_shots:\n",
    "            for x, y in incoming_shots:\n",
    "                grid[x][y] = 9\n",
    "        return grid\n",
    "\n",
    "    # function that counts the number of ships and her ports hit\n",
    "    def ship_status(self, ships_dd):\n",
    "        status = []\n",
    "        for ship in ships_dd.keys():\n",
    "            # as long as the default dictionary has a key, the ship is breathing\n",
    "            if ship in [1, 2, 3, 4, 5]:\n",
    "                status.append((ship, ships_dd[ship] / (ship ** 2)))\n",
    "        return status\n",
    "\n",
    "    # function to update the opponent battleground with the shots taken\n",
    "    def update_enemy_dict(self, player_shots):\n",
    "        if player_shots:\n",
    "            for i, j in player_shots:\n",
    "                self.enemy_dict[(i, j)] = -1\n",
    "\n",
    "\n",
    "    # minesweeper matrix update\n",
    "    def minesweeper(self, enemy_dict, player_shots):\n",
    "\n",
    "        # up, down, right, left, upright, downright, up-left, down-left\n",
    "        minesweeper = [(-1, 0), (1, 0), (0, 1), (0, -1), (-1, 1), (1, 1), (-1, -1), (1, -1)]\n",
    "\n",
    "        # updating the enemy dictionary\n",
    "        # only if it has hit!\n",
    "        for i, j in player_shots:\n",
    "            # opponent_battleground[i][j] = -1\n",
    "            for x, y in minesweeper:\n",
    "                # checking if the next position is in the board\n",
    "                if (x + i) >= 0 and (x + i) <= 9 and (y + j) >= 0 and (y + j) <= 9:\n",
    "                    # checking if it has already not been hit\n",
    "                    if enemy_dict[(i + x, j + y)] != -1:\n",
    "                        enemy_dict[(i + x, j + y)] += 1\n",
    "\n",
    "        return enemy_dict\n",
    "\n",
    "    # shot generator based on the minesweeper\n",
    "    def shot_generator(self, enemy_dict, num=5):\n",
    "        sorted_shot_list = sorted([(i[1], i[0]) for i in enemy_dict.items()], reverse=True)\n",
    "        for i in range(num):\n",
    "            yield sorted_shot_list[i][1]\n",
    "\n",
    "    # function that randomly selects positions to hit and removes them\n",
    "    def random_selection(self, enemy_dict, num=5):\n",
    "        sorted_shot_list = sorted([(i[1], i[0]) for i in enemy_dict.items() if i[1] >= 0], reverse=True)\n",
    "        shot = Player.random.sample(sorted_shot_list, k=num)\n",
    "        shot_list = [i[1] for i in shot]\n",
    "\n",
    "        return shot_list"
   ]
  },
  {
   "cell_type": "code",
   "execution_count": 3,
   "metadata": {},
   "outputs": [],
   "source": [
    "p_goose = Player()"
   ]
  },
  {
   "cell_type": "code",
   "execution_count": 5,
   "metadata": {},
   "outputs": [
    {
     "data": {
      "text/plain": [
       "[[0, 0, 0, 0, 0, 0, 0, 0, 0, 0],\n",
       " [0, 0, 0, 0, 0, 0, 0, 0, 0, 2],\n",
       " [0, 0, 0, 0, 5, 3, 0, 0, 0, 2],\n",
       " [0, 0, 0, 0, 5, 3, 1, 0, 0, 0],\n",
       " [4, 0, 0, 0, 5, 3, 0, 0, 0, 0],\n",
       " [4, 0, 0, 0, 5, 0, 0, 0, 0, 0],\n",
       " [4, 0, 0, 0, 5, 0, 0, 0, 0, 0],\n",
       " [4, 0, 0, 0, 0, 0, 0, 0, 0, 0],\n",
       " [0, 0, 0, 0, 0, 0, 0, 0, 0, 0],\n",
       " [0, 0, 0, 0, 0, 0, 0, 0, 0, 0]]"
      ]
     },
     "execution_count": 5,
     "metadata": {},
     "output_type": "execute_result"
    }
   ],
   "source": [
    "p_goose.setup_ships()"
   ]
  },
  {
   "cell_type": "code",
   "execution_count": 8,
   "metadata": {},
   "outputs": [
    {
     "data": {
      "text/plain": [
       "[(8, 2), (9, 4), (8, 4), (8, 1), (7, 2)]"
      ]
     },
     "execution_count": 8,
     "metadata": {},
     "output_type": "execute_result"
    }
   ],
   "source": [
    "p_goose.take_turn(history)"
   ]
  },
  {
   "cell_type": "code",
   "execution_count": 19,
   "metadata": {},
   "outputs": [],
   "source": [
    "#sorted([(i[1], i[0]) for i in p_goose.enemy_dict.items()], reverse = True)"
   ]
  },
  {
   "cell_type": "code",
   "execution_count": 7,
   "metadata": {},
   "outputs": [],
   "source": [
    "history = [{'shots': [(9, 3), (8, 3), (7, 1), (9, 5), (9, 2)],\n",
    "  'hits': 2,\n",
    "  'incoming': [(2, 1), (0, 0), (6, 5), (1, 1), (3, 5)]}]"
   ]
  },
  {
   "cell_type": "code",
   "execution_count": 6,
   "metadata": {},
   "outputs": [
    {
     "data": {
      "text/plain": [
       "[(0, 3), (8, 5), (6, 7), (9, 9), (5, 7)]"
      ]
     },
     "execution_count": 6,
     "metadata": {},
     "output_type": "execute_result"
    }
   ],
   "source": [
    "p_goose.take_turn([])"
   ]
  },
  {
   "cell_type": "code",
   "execution_count": 9,
   "metadata": {},
   "outputs": [
    {
     "data": {
      "text/plain": [
       "[(2, 1.0), (5, 1.0), (3, 0.6666666666666666), (1, 1.0), (4, 1.0)]"
      ]
     },
     "execution_count": 9,
     "metadata": {},
     "output_type": "execute_result"
    }
   ],
   "source": [
    "p_goose.status"
   ]
  },
  {
   "cell_type": "code",
   "execution_count": 17,
   "metadata": {},
   "outputs": [],
   "source": [
    "#p_goose.enemy_dict"
   ]
  },
  {
   "cell_type": "code",
   "execution_count": null,
   "metadata": {},
   "outputs": [],
   "source": []
  },
  {
   "cell_type": "code",
   "execution_count": 36,
   "metadata": {},
   "outputs": [],
   "source": [
    "opponent_battleground = [[0 for i in range(10)] for j in range(10)]"
   ]
  },
  {
   "cell_type": "code",
   "execution_count": 37,
   "metadata": {},
   "outputs": [
    {
     "data": {
      "text/plain": [
       "[[0, 0, 0, 0, 0, 0, 0, 0, 0, 0],\n",
       " [0, 0, 0, 0, 0, 0, 0, 0, 0, 0],\n",
       " [0, 0, 0, 0, 0, 0, 0, 0, 0, 0],\n",
       " [0, 0, 0, 0, 0, 0, 0, 0, 0, 0],\n",
       " [0, 0, 0, 0, 0, 0, 0, 0, 0, 0],\n",
       " [0, 0, 0, 0, 0, 0, 0, 0, 0, 0],\n",
       " [0, 0, 0, 0, 0, 0, 0, 0, 0, 0],\n",
       " [0, 0, 0, 0, 0, 0, 0, 0, 0, 0],\n",
       " [0, 0, 0, 0, 0, 0, 0, 0, 0, 0],\n",
       " [0, 0, 0, 0, 0, 0, 0, 0, 0, 0]]"
      ]
     },
     "execution_count": 37,
     "metadata": {},
     "output_type": "execute_result"
    }
   ],
   "source": [
    "opponent_battleground"
   ]
  },
  {
   "cell_type": "code",
   "execution_count": 5,
   "metadata": {},
   "outputs": [],
   "source": [
    "potential_list = []\n",
    "for i in range(10):\n",
    "    for j in range (10):\n",
    "        potential_list.append((i,j))"
   ]
  },
  {
   "cell_type": "code",
   "execution_count": 7,
   "metadata": {},
   "outputs": [],
   "source": [
    "potential_list = []"
   ]
  },
  {
   "cell_type": "code",
   "execution_count": 12,
   "metadata": {},
   "outputs": [],
   "source": [
    "# Update potential list to this\n",
    "potential_list = [(i,j) for i in range(10) for j in range(10)]"
   ]
  },
  {
   "cell_type": "code",
   "execution_count": 13,
   "metadata": {},
   "outputs": [],
   "source": [
    "t_dict = {(i,j) for i in range(10) for j in range(10)}"
   ]
  },
  {
   "cell_type": "code",
   "execution_count": 91,
   "metadata": {},
   "outputs": [],
   "source": [
    "test_dict = {(i,j):0 for i in range(10) for j in range(10)}"
   ]
  },
  {
   "cell_type": "code",
   "execution_count": 18,
   "metadata": {},
   "outputs": [],
   "source": [
    "# initializing enemy dictionary\n",
    "enemy_dict = {}\n",
    "for i,j in potential_list:\n",
    "    enemy_dict[(i,j)] = 0"
   ]
  },
  {
   "cell_type": "code",
   "execution_count": 19,
   "metadata": {},
   "outputs": [],
   "source": [
    "history = [{'shots': [(1, 3), (6, 3), (5, 4), (9, 2), (9, 8)],\n",
    "  'hits': 0,\n",
    "  'incoming': [(4, 5), (3, 4), (2, 3), (3, 2), (4, 2)]}]"
   ]
  },
  {
   "cell_type": "code",
   "execution_count": 24,
   "metadata": {},
   "outputs": [
    {
     "name": "stdout",
     "output_type": "stream",
     "text": [
      "(1, 3)\n",
      "(6, 3)\n",
      "(5, 4)\n",
      "(9, 2)\n",
      "(9, 8)\n"
     ]
    }
   ],
   "source": [
    "for i,j in history[-1]['shots']:\n",
    "    print((i,j))"
   ]
  },
  {
   "cell_type": "code",
   "execution_count": 38,
   "metadata": {},
   "outputs": [],
   "source": [
    "# for visualization\n",
    "for i,j in history[-1]['shots']:\n",
    "    opponent_battleground[i][j] = -1 "
   ]
  },
  {
   "cell_type": "code",
   "execution_count": 39,
   "metadata": {},
   "outputs": [
    {
     "data": {
      "text/plain": [
       "[[0, 0, 0, 0, 0, 0, 0, 0, 0, 0],\n",
       " [0, 0, 0, -1, 0, 0, 0, 0, 0, 0],\n",
       " [0, 0, 0, 0, 0, 0, 0, 0, 0, 0],\n",
       " [0, 0, 0, 0, 0, 0, 0, 0, 0, 0],\n",
       " [0, 0, 0, 0, 0, 0, 0, 0, 0, 0],\n",
       " [0, 0, 0, 0, -1, 0, 0, 0, 0, 0],\n",
       " [0, 0, 0, -1, 0, 0, 0, 0, 0, 0],\n",
       " [0, 0, 0, 0, 0, 0, 0, 0, 0, 0],\n",
       " [0, 0, 0, 0, 0, 0, 0, 0, 0, 0],\n",
       " [0, 0, -1, 0, 0, 0, 0, 0, -1, 0]]"
      ]
     },
     "execution_count": 39,
     "metadata": {},
     "output_type": "execute_result"
    }
   ],
   "source": [
    "opponent_battleground"
   ]
  },
  {
   "cell_type": "code",
   "execution_count": 28,
   "metadata": {},
   "outputs": [],
   "source": [
    "# update the dictionary with the shots taken\n",
    "for i,j in history[-1]['shots']:\n",
    "    enemy_dict[(i,j)] = -1"
   ]
  },
  {
   "cell_type": "code",
   "execution_count": 30,
   "metadata": {},
   "outputs": [],
   "source": [
    "if history[-1]['hits']:\n",
    "    pass"
   ]
  },
  {
   "cell_type": "code",
   "execution_count": 25,
   "metadata": {},
   "outputs": [],
   "source": [
    "# Using the minesweeper technique\n",
    "# check if the next position is out of the board\n",
    "# if the spot has been taken, update to -1\n",
    "# check the number of hits\n",
    "# if the surrounding location is not -1 then add one\n",
    "# sort the dictionary out by keys in descending order\n",
    "# return the top 5 keys to shoot"
   ]
  },
  {
   "cell_type": "code",
   "execution_count": 32,
   "metadata": {},
   "outputs": [],
   "source": [
    "# up, down, right, left, upright, downright, upleft, downleft\n",
    "minesweeper = [(-1,0), (1,0), (0,1), (0,-1), (-1,1), (1,1), (-1,-1), (1,-1)]"
   ]
  },
  {
   "cell_type": "code",
   "execution_count": 33,
   "metadata": {},
   "outputs": [
    {
     "data": {
      "text/plain": [
       "[(-1, 0), (1, 0), (0, 1), (0, -1), (-1, 1), (1, 1), (-1, -1), (1, -1)]"
      ]
     },
     "execution_count": 33,
     "metadata": {},
     "output_type": "execute_result"
    }
   ],
   "source": [
    "minesweeper"
   ]
  },
  {
   "cell_type": "code",
   "execution_count": 40,
   "metadata": {},
   "outputs": [],
   "source": [
    "for i,j in history[-1]['shots']:\n",
    "    #opponent_battleground[i][j] = -1 \n",
    "    for x,y in minesweeper:\n",
    "        # checking if the next position is in the board\n",
    "        if (x+i) >= 0 and (x+i) <= 9 and (y+j) >=0 and (y+j) <=9:\n",
    "            # checking if it has already not been hit\n",
    "            if opponent_battleground[i+x][j+y] != -1:\n",
    "                opponent_battleground[i+x][j+y] += 1"
   ]
  },
  {
   "cell_type": "code",
   "execution_count": 41,
   "metadata": {},
   "outputs": [
    {
     "data": {
      "text/plain": [
       "[[0, 0, 1, 1, 1, 0, 0, 0, 0, 0],\n",
       " [0, 0, 1, -1, 1, 0, 0, 0, 0, 0],\n",
       " [0, 0, 1, 1, 1, 0, 0, 0, 0, 0],\n",
       " [0, 0, 0, 0, 0, 0, 0, 0, 0, 0],\n",
       " [0, 0, 0, 1, 1, 1, 0, 0, 0, 0],\n",
       " [0, 0, 1, 2, -1, 1, 0, 0, 0, 0],\n",
       " [0, 0, 1, -1, 2, 1, 0, 0, 0, 0],\n",
       " [0, 0, 1, 1, 1, 0, 0, 0, 0, 0],\n",
       " [0, 1, 1, 1, 0, 0, 0, 1, 1, 1],\n",
       " [0, 1, -1, 1, 0, 0, 0, 1, -1, 1]]"
      ]
     },
     "execution_count": 41,
     "metadata": {},
     "output_type": "execute_result"
    }
   ],
   "source": [
    "opponent_battleground"
   ]
  },
  {
   "cell_type": "code",
   "execution_count": 44,
   "metadata": {},
   "outputs": [],
   "source": [
    "# updating the enemy dictionary\n",
    "for i,j in history[-1]['shots']:\n",
    "    #opponent_battleground[i][j] = -1 \n",
    "    for x,y in minesweeper:\n",
    "        # checking if the next position is in the board\n",
    "        if (x+i) >= 0 and (x+i) <= 9 and (y+j) >=0 and (y+j) <=9:\n",
    "            # checking if it has already not been hit\n",
    "            if enemy_dict[(i+x, j+y)] != -1:\n",
    "                enemy_dict[(i+x, j+y)] += 1"
   ]
  },
  {
   "cell_type": "code",
   "execution_count": 51,
   "metadata": {},
   "outputs": [],
   "source": [
    "sorted_x = sorted([row for row in enemy_dict.values()], reverse = True)"
   ]
  },
  {
   "cell_type": "code",
   "execution_count": 76,
   "metadata": {},
   "outputs": [],
   "source": [
    "def shot_generator(enemy_dict, num=5):\n",
    "    sorted_shot_list = sorted([(i[1], i[0]) for i in enemy_dict.items()], reverse = True)\n",
    "    for i in range(num):\n",
    "        yield sorted_shot_list[i][1]"
   ]
  },
  {
   "cell_type": "code",
   "execution_count": 80,
   "metadata": {},
   "outputs": [],
   "source": [
    "# this is a clever way to get the highest number of probable area first\n",
    "sorted_y = sorted([(i[1], i[0]) for i in enemy_dict.items() if i[1] >= 0], reverse = True)"
   ]
  },
  {
   "cell_type": "code",
   "execution_count": 74,
   "metadata": {},
   "outputs": [
    {
     "data": {
      "text/plain": [
       "(6, 4)"
      ]
     },
     "execution_count": 74,
     "metadata": {},
     "output_type": "execute_result"
    }
   ],
   "source": [
    "sorted_y[0][1]"
   ]
  },
  {
   "cell_type": "code",
   "execution_count": 77,
   "metadata": {},
   "outputs": [
    {
     "data": {
      "text/plain": [
       "[(6, 4), (5, 3), (9, 9), (9, 7), (9, 3)]"
      ]
     },
     "execution_count": 77,
     "metadata": {},
     "output_type": "execute_result"
    }
   ],
   "source": [
    "[number for number in shot_generator(enemy_dict, 5)]"
   ]
  },
  {
   "cell_type": "code",
   "execution_count": 78,
   "metadata": {},
   "outputs": [],
   "source": [
    "history = [{'shots': [(4, 3), (9, 3), (9, 5), (7, 1), (8, 0)],\n",
    "  'hits': 2,\n",
    "  'incoming': [(7, 2), (2, 0), (3, 4), (9, 1), (5, 9)]},\n",
    " {'shots': [(4, 7), (7, 1), (3, 7), (4, 9), (9, 2)],\n",
    "  'hits': 4,\n",
    "  'incoming': [(8, 0), (0, 0), (6, 5), (1, 1), (3, 5)]}]"
   ]
  },
  {
   "cell_type": "code",
   "execution_count": 82,
   "metadata": {},
   "outputs": [
    {
     "data": {
      "text/plain": [
       "[[0, 0, 1, 1, 1, 0, 0, 0, 0, 0],\n",
       " [0, 0, 1, -1, 1, 0, 0, 0, 0, 0],\n",
       " [0, 0, 1, 1, 1, 0, 0, 0, 0, 0],\n",
       " [0, 0, 0, 0, 0, 0, 0, -1, 0, 0],\n",
       " [0, 0, 0, 1, 1, 1, 0, -1, 0, -1],\n",
       " [0, 0, 1, 2, -1, 1, 0, 0, 0, 0],\n",
       " [0, 0, 1, -1, 2, 1, 0, 0, 0, 0],\n",
       " [0, -1, 1, 1, 1, 0, 0, 0, 0, 0],\n",
       " [0, 1, 1, 1, 0, 0, 0, 1, 1, 1],\n",
       " [0, 1, -1, 1, 0, 0, 0, 1, -1, 1]]"
      ]
     },
     "execution_count": 82,
     "metadata": {},
     "output_type": "execute_result"
    }
   ],
   "source": [
    "# for visualization\n",
    "for i,j in history[-1]['shots']:\n",
    "    opponent_battleground[i][j] = -1 \n",
    "opponent_battleground"
   ]
  },
  {
   "cell_type": "code",
   "execution_count": 83,
   "metadata": {},
   "outputs": [],
   "source": [
    "for i,j in history[-1]['shots']:\n",
    "    #opponent_battleground[i][j] = -1 \n",
    "    for x,y in minesweeper:\n",
    "        # checking if the next position is in the board\n",
    "        if (x+i) >= 0 and (x+i) <= 9 and (y+j) >=0 and (y+j) <=9:\n",
    "            # checking if it has already not been hit\n",
    "            if opponent_battleground[i+x][j+y] != -1:\n",
    "                opponent_battleground[i+x][j+y] += 1"
   ]
  },
  {
   "cell_type": "code",
   "execution_count": 84,
   "metadata": {},
   "outputs": [
    {
     "data": {
      "text/plain": [
       "[[0, 0, 1, 1, 1, 0, 0, 0, 0, 0],\n",
       " [0, 0, 1, -1, 1, 0, 0, 0, 0, 0],\n",
       " [0, 0, 1, 1, 1, 0, 1, 1, 1, 0],\n",
       " [0, 0, 0, 0, 0, 0, 2, -1, 3, 1],\n",
       " [0, 0, 0, 1, 1, 1, 2, -1, 3, -1],\n",
       " [0, 0, 1, 2, -1, 1, 1, 1, 2, 1],\n",
       " [1, 1, 2, -1, 2, 1, 0, 0, 0, 0],\n",
       " [1, -1, 2, 1, 1, 0, 0, 0, 0, 0],\n",
       " [1, 3, 3, 2, 0, 0, 0, 1, 1, 1],\n",
       " [0, 2, -1, 2, 0, 0, 0, 1, -1, 1]]"
      ]
     },
     "execution_count": 84,
     "metadata": {},
     "output_type": "execute_result"
    }
   ],
   "source": [
    "opponent_battleground"
   ]
  },
  {
   "cell_type": "code",
   "execution_count": 85,
   "metadata": {},
   "outputs": [],
   "source": [
    "# update the dictionary with the shots taken\n",
    "for i,j in history[-1]['shots']:\n",
    "    enemy_dict[(i,j)] = -1\n",
    "\n",
    "# updating the enemy dictionary \n",
    "# only if it has hit!\n",
    "for i,j in history[-1]['shots']:\n",
    "    #opponent_battleground[i][j] = -1 \n",
    "    for x,y in minesweeper:\n",
    "        # checking if the next position is in the board\n",
    "        if (x+i) >= 0 and (x+i) <= 9 and (y+j) >=0 and (y+j) <=9:\n",
    "            # checking if it has already not been hit\n",
    "            if enemy_dict[(i+x, j+y)] != -1:\n",
    "                enemy_dict[(i+x, j+y)] += 1   "
   ]
  },
  {
   "cell_type": "code",
   "execution_count": 86,
   "metadata": {},
   "outputs": [
    {
     "data": {
      "text/plain": [
       "[(8, 2), (8, 1), (4, 8), (3, 8), (9, 3)]"
      ]
     },
     "execution_count": 86,
     "metadata": {},
     "output_type": "execute_result"
    }
   ],
   "source": [
    "# should be getting (8,1) (8,2) (3,8) (4,8)\n",
    "[number for number in shot_generator(enemy_dict, 5)]"
   ]
  },
  {
   "cell_type": "code",
   "execution_count": null,
   "metadata": {},
   "outputs": [],
   "source": []
  },
  {
   "cell_type": "code",
   "execution_count": 10,
   "metadata": {},
   "outputs": [],
   "source": [
    "sorted_xy = sorted([(i[1], i[0]) for i in p_goose.enemy_dict.items()], reverse = True)"
   ]
  },
  {
   "cell_type": "code",
   "execution_count": 11,
   "metadata": {},
   "outputs": [
    {
     "data": {
      "text/plain": [
       "[(4, (8, 2)),\n",
       " (3, (9, 4)),\n",
       " (3, (8, 4)),\n",
       " (2, (8, 1)),\n",
       " (2, (7, 2)),\n",
       " (1, (9, 6)),\n",
       " (1, (9, 1))]"
      ]
     },
     "execution_count": 11,
     "metadata": {},
     "output_type": "execute_result"
    }
   ],
   "source": [
    "sorted_xy[:7]"
   ]
  },
  {
   "cell_type": "code",
   "execution_count": 13,
   "metadata": {},
   "outputs": [
    {
     "ename": "ValueError",
     "evalue": "Sample larger than population or is negative",
     "output_type": "error",
     "traceback": [
      "\u001b[0;31m---------------------------------------------------------------------------\u001b[0m",
      "\u001b[0;31mValueError\u001b[0m                                Traceback (most recent call last)",
      "\u001b[0;32m<ipython-input-13-1f66bf40ab39>\u001b[0m in \u001b[0;36m<module>\u001b[0;34m()\u001b[0m\n\u001b[0;32m----> 1\u001b[0;31m \u001b[0mrandom\u001b[0m\u001b[0;34m.\u001b[0m\u001b[0msample\u001b[0m\u001b[0;34m(\u001b[0m\u001b[0msorted_xy\u001b[0m\u001b[0;34m[\u001b[0m\u001b[0;34m:\u001b[0m\u001b[0;36m7\u001b[0m\u001b[0;34m]\u001b[0m\u001b[0;34m,\u001b[0m \u001b[0mk\u001b[0m\u001b[0;34m=\u001b[0m\u001b[0;36m10\u001b[0m\u001b[0;34m)\u001b[0m\u001b[0;34m\u001b[0m\u001b[0;34m\u001b[0m\u001b[0m\n\u001b[0m",
      "\u001b[0;32m~/anaconda3/lib/python3.6/random.py\u001b[0m in \u001b[0;36msample\u001b[0;34m(self, population, k)\u001b[0m\n\u001b[1;32m    318\u001b[0m         \u001b[0mn\u001b[0m \u001b[0;34m=\u001b[0m \u001b[0mlen\u001b[0m\u001b[0;34m(\u001b[0m\u001b[0mpopulation\u001b[0m\u001b[0;34m)\u001b[0m\u001b[0;34m\u001b[0m\u001b[0;34m\u001b[0m\u001b[0m\n\u001b[1;32m    319\u001b[0m         \u001b[0;32mif\u001b[0m \u001b[0;32mnot\u001b[0m \u001b[0;36m0\u001b[0m \u001b[0;34m<=\u001b[0m \u001b[0mk\u001b[0m \u001b[0;34m<=\u001b[0m \u001b[0mn\u001b[0m\u001b[0;34m:\u001b[0m\u001b[0;34m\u001b[0m\u001b[0;34m\u001b[0m\u001b[0m\n\u001b[0;32m--> 320\u001b[0;31m             \u001b[0;32mraise\u001b[0m \u001b[0mValueError\u001b[0m\u001b[0;34m(\u001b[0m\u001b[0;34m\"Sample larger than population or is negative\"\u001b[0m\u001b[0;34m)\u001b[0m\u001b[0;34m\u001b[0m\u001b[0;34m\u001b[0m\u001b[0m\n\u001b[0m\u001b[1;32m    321\u001b[0m         \u001b[0mresult\u001b[0m \u001b[0;34m=\u001b[0m \u001b[0;34m[\u001b[0m\u001b[0;32mNone\u001b[0m\u001b[0;34m]\u001b[0m \u001b[0;34m*\u001b[0m \u001b[0mk\u001b[0m\u001b[0;34m\u001b[0m\u001b[0;34m\u001b[0m\u001b[0m\n\u001b[1;32m    322\u001b[0m         \u001b[0msetsize\u001b[0m \u001b[0;34m=\u001b[0m \u001b[0;36m21\u001b[0m        \u001b[0;31m# size of a small set minus size of an empty list\u001b[0m\u001b[0;34m\u001b[0m\u001b[0;34m\u001b[0m\u001b[0m\n",
      "\u001b[0;31mValueError\u001b[0m: Sample larger than population or is negative"
     ]
    }
   ],
   "source": [
    "random.sample(sorted_xy[:7], k=10)"
   ]
  },
  {
   "cell_type": "code",
   "execution_count": 28,
   "metadata": {},
   "outputs": [],
   "source": [
    "m = [(1,2),(2,3),(4,5),(6,7)]"
   ]
  },
  {
   "cell_type": "code",
   "execution_count": 29,
   "metadata": {},
   "outputs": [
    {
     "data": {
      "text/plain": [
       "(6, 7)"
      ]
     },
     "execution_count": 29,
     "metadata": {},
     "output_type": "execute_result"
    }
   ],
   "source": [
    "random.choice(m)"
   ]
  },
  {
   "cell_type": "code",
   "execution_count": 30,
   "metadata": {},
   "outputs": [
    {
     "data": {
      "text/plain": [
       "[(1, 2), (2, 3)]"
      ]
     },
     "execution_count": 30,
     "metadata": {},
     "output_type": "execute_result"
    }
   ],
   "source": [
    "random.sample(m, k=2)"
   ]
  },
  {
   "cell_type": "code",
   "execution_count": 35,
   "metadata": {},
   "outputs": [],
   "source": [
    "shot = [(0, (7, 2)), (0, (8, 3)), (0, (1, 0)), (0, (1, 6)), (0, (6, 0))]"
   ]
  },
  {
   "cell_type": "code",
   "execution_count": 36,
   "metadata": {},
   "outputs": [],
   "source": [
    "shot_list = [i[1] for i in shot]"
   ]
  },
  {
   "cell_type": "code",
   "execution_count": 37,
   "metadata": {},
   "outputs": [
    {
     "data": {
      "text/plain": [
       "[(7, 2), (8, 3), (1, 0), (1, 6), (6, 0)]"
      ]
     },
     "execution_count": 37,
     "metadata": {},
     "output_type": "execute_result"
    }
   ],
   "source": [
    "shot_list"
   ]
  },
  {
   "cell_type": "code",
   "execution_count": null,
   "metadata": {},
   "outputs": [],
   "source": []
  }
 ],
 "metadata": {
  "kernelspec": {
   "display_name": "Python 3",
   "language": "python",
   "name": "python3"
  },
  "language_info": {
   "codemirror_mode": {
    "name": "ipython",
    "version": 3
   },
   "file_extension": ".py",
   "mimetype": "text/x-python",
   "name": "python",
   "nbconvert_exporter": "python",
   "pygments_lexer": "ipython3",
   "version": "3.6.8"
  }
 },
 "nbformat": 4,
 "nbformat_minor": 2
}
