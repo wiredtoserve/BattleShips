{
 "cells": [
  {
   "cell_type": "code",
   "execution_count": 1,
   "metadata": {},
   "outputs": [],
   "source": [
    "import json"
   ]
  },
  {
   "cell_type": "code",
   "execution_count": 2,
   "metadata": {},
   "outputs": [],
   "source": [
    "import random"
   ]
  },
  {
   "cell_type": "code",
   "execution_count": 11,
   "metadata": {},
   "outputs": [],
   "source": [
    "class Player:\n",
    "    \"\"\"\n",
    "    Contains three methods\n",
    "        1. setup_ships: takes no parameters and returns a list of lists showing the start position\n",
    "                        of showing the start positions of your ships\n",
    "                        Block of row i and column j, ship label 1-5 & 0 means no ship\n",
    "\n",
    "        2. take_turn:   returns\n",
    "                        -- a list of (row, column) tuples describing your shots\n",
    "                        -- eg: [(1, 1), (1, 3), (1, 5), (2, 1) (4, 5)]\n",
    "                        -- Note: should be equal to the number of ships present (check function)\n",
    "                        -- or a tuple that has a ship number as the first element and the direction\n",
    "                        -- of its moving value\n",
    "                        -- 0: up, 1: right, 2: down, 3: left  (dict)\n",
    "\n",
    "                        TODO: Do not take more shots than the number of ships\n",
    "                        TODO: Do not move the ships outside the grid or radioactive zone\n",
    "\n",
    "        3. get_name:   returns a string that is the name of the Player\n",
    "\n",
    "    \"\"\"\n",
    "    import random\n",
    "    from collections import defaultdict\n",
    "    \n",
    "    def __init__(self):\n",
    "        \n",
    "        self.player_battleground = [[0 for i in range(10)] for j in range(10)]\n",
    "        self.opponent_battleground = [[0 for i in range(10)] for j in range(10)]\n",
    "        \n",
    "        self.ships_dd = Player.defaultdict(int)\n",
    "        self.status = []\n",
    "        \n",
    "        self.potential_list = []\n",
    "        for i in range(10):\n",
    "            for j in range (10):\n",
    "                self.potential_list.append((i,j))\n",
    "                \n",
    "        # number of turns\n",
    "        self.counter = 0\n",
    "        \n",
    "\n",
    "    def setup_ships(self):\n",
    "        '''\n",
    "\n",
    "        :return: a 10x10 grid with the location of our ships\n",
    "        '''\n",
    "        grid = [[0 for i in range(10)] for j in range(10)]\n",
    "        \n",
    "        # ship numbers\n",
    "        ship = [i for i in range(1,6)]\n",
    "\n",
    "        # randomly shuffle the ship list\n",
    "        Player.random.shuffle(ship)\n",
    "         \n",
    "        for ship_number in ship:\n",
    "            control = True\n",
    "            \n",
    "            while control:\n",
    "                # randomly select a point on the grid\n",
    "                ship_start_position = self.random_position()\n",
    "\n",
    "                if self.vacant(ship_start_position, ship_number, grid):\n",
    "                    for row in range(0, ship_number):\n",
    "                        #print(f'{ship_start_position} ship : {ship_number}')\n",
    "                        grid[ship_start_position[0] + row][ship_start_position[1]] = ship_number\n",
    "\n",
    "                    control = False        \n",
    "                \n",
    "        self.player_battleground = grid\n",
    "        return grid\n",
    "\n",
    "    def take_turn(self, history):\n",
    "        '''\n",
    "\n",
    "        :param history: records the game\n",
    "                        list that contains one entry per turn\n",
    "                        dict with 3 keys\n",
    "                            - 'shots' : list of shots made in the turn\n",
    "                            - 'hits' : an integer number of hits that your shots made\n",
    "                            - 'incoming' : opponents list of shots, [] if moved\n",
    "\n",
    "        :return: a list of tuple/s describing the shots or changed location\n",
    "                depending on the strategy\n",
    "        '''\n",
    "        last_shot = []\n",
    "        if self.counter > 0:\n",
    "            last_shot = history[-1]['incoming']\n",
    "    \n",
    "        self.player_battleground = self.update_opponent_shots(self.player_battleground, last_shot)\n",
    "        \n",
    "        # counting the number of ships left\n",
    "        self.ships_dd = Player.defaultdict(int) #reset count everytime\n",
    "        #ships_dd = Player.defaultdict(int)\n",
    "\n",
    "        for row in self.player_battleground:\n",
    "            for point in row:\n",
    "                if point > 0:\n",
    "                    self.ships_dd[point] += point\n",
    "                \n",
    "        self.status = self.ship_status(self.ships_dd)\n",
    "        \n",
    "        # Count the number of ships remaining\n",
    "        number_of_ships = len(self.status)\n",
    "        \n",
    "        # Take random shots\n",
    "        if self.counter > 0:\n",
    "            shots_list = [number for number in self.random_selection(self.potential_list, number_of_ships)]\n",
    "        else:\n",
    "            shots_list = [number for number in self.random_selection(self.potential_list, 5)]      \n",
    "        \n",
    "        \n",
    "        self.counter += 1\n",
    "        \n",
    "        return shots_list\n",
    "\n",
    "    def get_name(self):\n",
    "        '''\n",
    "\n",
    "        :return: string - name of the Player\n",
    "        '''\n",
    "        return \"Syndicate_10\"\n",
    "    \n",
    "    # function to select a point on the grid\n",
    "    def random_position(self):\n",
    "        return [Player.random.randint(0,9), Player.random.randint(0,9)]\n",
    "    \n",
    "    # function to check if the position is vacant\n",
    "    def vacant(self, pos, ship, grid):\n",
    "        # checking if the ship will fit in the board\n",
    "        if pos[0] + ship <= 10:\n",
    "            for i in range(0, ship):\n",
    "                # checking if any other ship is already present\n",
    "                if grid[pos[0] + i][pos[1]] != 0:\n",
    "                    return False\n",
    "            return True\n",
    "        return False \n",
    "    \n",
    "    def random_shots(self, num = 5):\n",
    "        for x in range(0,num):\n",
    "            yield Player.random.randint(0,9), Player.random.randint(0,9)\n",
    "            \n",
    "    def update_opponent_shots(self, grid, incoming_shots):\n",
    "        for x, y in incoming_shots:\n",
    "            grid[x][y] = 9\n",
    "        return grid\n",
    "    \n",
    "    def ship_status(self, ships_dd):\n",
    "        status = []\n",
    "        for ship in ships_dd.keys():\n",
    "            # as long as the default dictionary has a key, the ship is breathing\n",
    "            if ship in [1,2,3,4,5]:\n",
    "                status.append((ship, ships_dd[ship]/(ship**2)))\n",
    "        return status\n",
    "                \n",
    "    def random_selection(self, potential_list, num = 0):\n",
    "        if num > len(self.potential_list):\n",
    "            # If the number of shots remaining are less than the actual ships\n",
    "            num = len(self.potential_list)\n",
    "\n",
    "        for x in range(0, num):\n",
    "            shot = Player.random.choice(self.potential_list)\n",
    "            self.potential_list.remove(shot)\n",
    "\n",
    "            yield shot"
   ]
  },
  {
   "cell_type": "code",
   "execution_count": 12,
   "metadata": {},
   "outputs": [],
   "source": [
    "p1 = Player()"
   ]
  },
  {
   "cell_type": "code",
   "execution_count": 13,
   "metadata": {},
   "outputs": [
    {
     "data": {
      "text/plain": [
       "'Syndicate_10'"
      ]
     },
     "execution_count": 13,
     "metadata": {},
     "output_type": "execute_result"
    }
   ],
   "source": [
    "p1.get_name()"
   ]
  },
  {
   "cell_type": "code",
   "execution_count": 14,
   "metadata": {},
   "outputs": [
    {
     "data": {
      "text/plain": [
       "[[0, 0, 0, 0, 0, 0, 0, 0, 0, 0],\n",
       " [0, 0, 0, 0, 0, 0, 0, 0, 0, 0],\n",
       " [0, 0, 0, 4, 0, 0, 0, 0, 0, 0],\n",
       " [0, 0, 0, 4, 0, 3, 0, 0, 0, 0],\n",
       " [5, 0, 2, 4, 0, 3, 0, 0, 0, 0],\n",
       " [5, 0, 2, 4, 0, 3, 0, 0, 0, 0],\n",
       " [5, 0, 0, 0, 0, 0, 0, 0, 0, 0],\n",
       " [5, 0, 0, 0, 0, 0, 0, 0, 0, 0],\n",
       " [5, 1, 0, 0, 0, 0, 0, 0, 0, 0],\n",
       " [0, 0, 0, 0, 0, 0, 0, 0, 0, 0]]"
      ]
     },
     "execution_count": 14,
     "metadata": {},
     "output_type": "execute_result"
    }
   ],
   "source": [
    "p1.setup_ships()"
   ]
  },
  {
   "cell_type": "code",
   "execution_count": 15,
   "metadata": {},
   "outputs": [
    {
     "data": {
      "text/plain": [
       "[(7, 2), (5, 5), (4, 4), (5, 1), (7, 0)]"
      ]
     },
     "execution_count": 15,
     "metadata": {},
     "output_type": "execute_result"
    }
   ],
   "source": [
    "p1.take_turn(history)"
   ]
  },
  {
   "cell_type": "code",
   "execution_count": 9,
   "metadata": {},
   "outputs": [
    {
     "data": {
      "text/plain": [
       "[(4, 0), (1, 7), (1, 4), (6, 8), (8, 6)]"
      ]
     },
     "execution_count": 9,
     "metadata": {},
     "output_type": "execute_result"
    }
   ],
   "source": [
    "p1.take_turn(history)"
   ]
  },
  {
   "cell_type": "code",
   "execution_count": 45,
   "metadata": {},
   "outputs": [
    {
     "data": {
      "text/plain": [
       "90"
      ]
     },
     "execution_count": 45,
     "metadata": {},
     "output_type": "execute_result"
    }
   ],
   "source": [
    "len(p1.potential_list)"
   ]
  },
  {
   "cell_type": "code",
   "execution_count": 46,
   "metadata": {},
   "outputs": [
    {
     "data": {
      "text/plain": [
       "[[0, 0, 0, 0, 0, 0, 0, 0, 0, 0],\n",
       " [0, 0, 0, 0, 0, 0, 0, 0, 0, 0],\n",
       " [0, 0, 0, 9, 0, 0, 0, 0, 0, 0],\n",
       " [0, 0, 9, 0, 9, 3, 0, 4, 0, 0],\n",
       " [2, 0, 9, 0, 0, 9, 0, 4, 0, 0],\n",
       " [2, 0, 0, 0, 5, 3, 0, 4, 0, 0],\n",
       " [0, 0, 0, 0, 5, 0, 0, 4, 0, 0],\n",
       " [0, 0, 0, 0, 5, 0, 0, 0, 0, 0],\n",
       " [0, 0, 0, 0, 5, 0, 0, 0, 1, 0],\n",
       " [0, 0, 0, 0, 5, 0, 0, 0, 0, 0]]"
      ]
     },
     "execution_count": 46,
     "metadata": {},
     "output_type": "execute_result"
    }
   ],
   "source": [
    "p1.player_battleground"
   ]
  },
  {
   "cell_type": "code",
   "execution_count": 42,
   "metadata": {},
   "outputs": [
    {
     "data": {
      "text/plain": [
       "[(3, 1.0), (4, 1.0), (2, 1.0), (5, 1.0), (1, 1.0)]"
      ]
     },
     "execution_count": 42,
     "metadata": {},
     "output_type": "execute_result"
    }
   ],
   "source": [
    "p1.status"
   ]
  },
  {
   "cell_type": "code",
   "execution_count": 16,
   "metadata": {},
   "outputs": [
    {
     "data": {
      "text/plain": [
       "defaultdict(int, {4: 16, 3: 9, 5: 25, 2: 4, 1: 1})"
      ]
     },
     "execution_count": 16,
     "metadata": {},
     "output_type": "execute_result"
    }
   ],
   "source": [
    "p1.ships_dd"
   ]
  },
  {
   "cell_type": "code",
   "execution_count": 17,
   "metadata": {},
   "outputs": [
    {
     "data": {
      "text/plain": [
       "5"
      ]
     },
     "execution_count": 17,
     "metadata": {},
     "output_type": "execute_result"
    }
   ],
   "source": [
    "len(p1.ships_dd)"
   ]
  },
  {
   "cell_type": "code",
   "execution_count": 8,
   "metadata": {},
   "outputs": [],
   "source": [
    "history = [{'shots': [(1, 3), (6, 3), (5, 4), (9, 2), (9, 8)],\n",
    "  'hits': 0,\n",
    "  'incoming': [(4, 5), (3, 4), (2, 3), (3, 2), (4, 2)]}]"
   ]
  },
  {
   "cell_type": "code",
   "execution_count": 38,
   "metadata": {},
   "outputs": [
    {
     "data": {
      "text/plain": [
       "[{'shots': [(1, 3), (6, 3), (5, 4), (9, 2), (9, 8)],\n",
       "  'hits': 0,\n",
       "  'incoming': [(4, 5), (3, 4), (2, 3), (3, 2), (4, 2)]}]"
      ]
     },
     "execution_count": 38,
     "metadata": {},
     "output_type": "execute_result"
    }
   ],
   "source": [
    "history"
   ]
  },
  {
   "cell_type": "code",
   "execution_count": 9,
   "metadata": {},
   "outputs": [
    {
     "data": {
      "text/plain": [
       "[(4, 5), (3, 4), (2, 2), (6, 9), (2, 9)]"
      ]
     },
     "execution_count": 9,
     "metadata": {},
     "output_type": "execute_result"
    }
   ],
   "source": [
    "history[-1]['incoming']"
   ]
  },
  {
   "cell_type": "code",
   "execution_count": null,
   "metadata": {},
   "outputs": [],
   "source": []
  },
  {
   "cell_type": "code",
   "execution_count": null,
   "metadata": {},
   "outputs": [],
   "source": []
  },
  {
   "cell_type": "code",
   "execution_count": 6,
   "metadata": {},
   "outputs": [],
   "source": [
    "def setup_ships():\n",
    "        grid = [[0 for i in range(10)] for j in range(10)]\n",
    "        for ship in range(1, 6):\n",
    "            for row in range(0, ship):\n",
    "                grid[row][ship] = ship\n",
    "        return grid"
   ]
  },
  {
   "cell_type": "code",
   "execution_count": 12,
   "metadata": {},
   "outputs": [],
   "source": [
    "# function for test purposes only\n",
    "def reset_grid():\n",
    "    grid = [[0 for i in range(10)] for j in range(10)]\n",
    "    return grid"
   ]
  },
  {
   "cell_type": "code",
   "execution_count": 11,
   "metadata": {},
   "outputs": [
    {
     "data": {
      "text/plain": [
       "[[0, 0, 0, 0, 0, 0, 0, 0, 0, 0],\n",
       " [0, 0, 0, 0, 0, 0, 0, 0, 0, 0],\n",
       " [0, 0, 0, 0, 0, 0, 0, 0, 0, 0],\n",
       " [0, 0, 0, 0, 0, 0, 0, 0, 0, 0],\n",
       " [0, 0, 0, 0, 0, 0, 0, 0, 0, 0],\n",
       " [0, 0, 0, 0, 0, 0, 0, 0, 0, 0],\n",
       " [0, 0, 0, 0, 0, 0, 0, 0, 0, 0],\n",
       " [0, 0, 0, 0, 0, 0, 0, 0, 0, 0],\n",
       " [0, 0, 0, 0, 0, 0, 0, 0, 0, 0],\n",
       " [0, 0, 0, 0, 0, 0, 0, 0, 0, 0]]"
      ]
     },
     "execution_count": 11,
     "metadata": {},
     "output_type": "execute_result"
    }
   ],
   "source": [
    "grid = [[0 for i in range(10)] for j in range(10)]\n",
    "grid"
   ]
  },
  {
   "cell_type": "code",
   "execution_count": 14,
   "metadata": {},
   "outputs": [],
   "source": [
    "grid[0][3] = 1"
   ]
  },
  {
   "cell_type": "code",
   "execution_count": 7,
   "metadata": {},
   "outputs": [
    {
     "data": {
      "text/plain": [
       "[[0, 1, 2, 3, 4, 5, 0, 0, 0, 0],\n",
       " [0, 0, 2, 3, 4, 5, 0, 0, 0, 0],\n",
       " [0, 0, 0, 3, 4, 5, 0, 0, 0, 0],\n",
       " [0, 0, 0, 0, 4, 5, 0, 0, 0, 0],\n",
       " [0, 0, 0, 0, 0, 5, 0, 0, 0, 0],\n",
       " [0, 0, 0, 0, 0, 0, 0, 0, 0, 0],\n",
       " [0, 0, 0, 0, 0, 0, 0, 0, 0, 0],\n",
       " [0, 0, 0, 0, 0, 0, 0, 0, 0, 0],\n",
       " [0, 0, 0, 0, 0, 0, 0, 0, 0, 0],\n",
       " [0, 0, 0, 0, 0, 0, 0, 0, 0, 0]]"
      ]
     },
     "execution_count": 7,
     "metadata": {},
     "output_type": "execute_result"
    }
   ],
   "source": [
    "setup_ships()"
   ]
  },
  {
   "cell_type": "code",
   "execution_count": 25,
   "metadata": {},
   "outputs": [
    {
     "data": {
      "text/plain": [
       "7"
      ]
     },
     "execution_count": 25,
     "metadata": {},
     "output_type": "execute_result"
    }
   ],
   "source": [
    "random.randint(0,9)"
   ]
  },
  {
   "cell_type": "code",
   "execution_count": 26,
   "metadata": {},
   "outputs": [],
   "source": [
    "# ship numbers\n",
    "ship = [i for i in range(1,6)]"
   ]
  },
  {
   "cell_type": "code",
   "execution_count": 27,
   "metadata": {},
   "outputs": [
    {
     "data": {
      "text/plain": [
       "[1, 2, 3, 4, 5]"
      ]
     },
     "execution_count": 27,
     "metadata": {},
     "output_type": "execute_result"
    }
   ],
   "source": [
    "ship"
   ]
  },
  {
   "cell_type": "code",
   "execution_count": 29,
   "metadata": {},
   "outputs": [
    {
     "data": {
      "text/plain": [
       "3"
      ]
     },
     "execution_count": 29,
     "metadata": {},
     "output_type": "execute_result"
    }
   ],
   "source": [
    "# pick a ship at random\n",
    "random.choice(ship)"
   ]
  },
  {
   "cell_type": "code",
   "execution_count": 31,
   "metadata": {},
   "outputs": [],
   "source": [
    "grid[random.randint(0,9)][random.randint(0,9)] = random.choice(ship)"
   ]
  },
  {
   "cell_type": "code",
   "execution_count": 33,
   "metadata": {},
   "outputs": [],
   "source": [
    "grid = reset_grid()"
   ]
  },
  {
   "cell_type": "code",
   "execution_count": 34,
   "metadata": {},
   "outputs": [],
   "source": [
    "# function to select a point on the grid\n",
    "def random_position():\n",
    "    return [random.randint(0,9), random.randint(0,9)]"
   ]
  },
  {
   "cell_type": "code",
   "execution_count": 35,
   "metadata": {},
   "outputs": [
    {
     "data": {
      "text/plain": [
       "[7, 5]"
      ]
     },
     "execution_count": 35,
     "metadata": {},
     "output_type": "execute_result"
    }
   ],
   "source": [
    "random_position()"
   ]
  },
  {
   "cell_type": "code",
   "execution_count": 52,
   "metadata": {},
   "outputs": [],
   "source": [
    "# function to check if the position is vacant\n",
    "def vacant(pos, ship, grid):\n",
    "    print(f'position: {pos}, ship: {ship}')\n",
    "    if pos[0] + ship <= 10:\n",
    "        for i in range(0, ship):\n",
    "            if grid[i][pos[1]] != 0:\n",
    "                return False\n",
    "        return True\n",
    "    return False         "
   ]
  },
  {
   "cell_type": "code",
   "execution_count": 57,
   "metadata": {},
   "outputs": [
    {
     "name": "stdout",
     "output_type": "stream",
     "text": [
      "position: [0, 6], ship: 3\n"
     ]
    },
    {
     "data": {
      "text/plain": [
       "True"
      ]
     },
     "execution_count": 57,
     "metadata": {},
     "output_type": "execute_result"
    }
   ],
   "source": [
    "vacant(random_position(), random.choice(ship), grid)"
   ]
  },
  {
   "cell_type": "code",
   "execution_count": 49,
   "metadata": {},
   "outputs": [],
   "source": [
    "grid[7][0] = '*'"
   ]
  },
  {
   "cell_type": "code",
   "execution_count": 51,
   "metadata": {},
   "outputs": [],
   "source": [
    "grid = reset_grid()"
   ]
  },
  {
   "cell_type": "code",
   "execution_count": null,
   "metadata": {},
   "outputs": [],
   "source": []
  },
  {
   "cell_type": "code",
   "execution_count": 96,
   "metadata": {},
   "outputs": [
    {
     "name": "stdout",
     "output_type": "stream",
     "text": [
      "4\n",
      "position: [9, 1], ship: 4\n",
      "position [9, 1] falied, trying again...\n",
      "position: [8, 3], ship: 4\n",
      "position [8, 3] falied, trying again...\n",
      "position: [3, 4], ship: 4\n",
      "1\n",
      "position: [4, 2], ship: 1\n",
      "5\n",
      "position: [4, 9], ship: 5\n",
      "3\n",
      "position: [9, 4], ship: 3\n",
      "position [9, 4] falied, trying again...\n",
      "position: [6, 4], ship: 3\n",
      "2\n",
      "position: [0, 2], ship: 2\n"
     ]
    }
   ],
   "source": [
    "# ship numbers\n",
    "ship = [i for i in range(1,6)]\n",
    "\n",
    "# randomly shuffle the ship list\n",
    "random.shuffle(ship)\n",
    "\n",
    "for ship_number in ship:\n",
    "    \n",
    "    control = True\n",
    "    \n",
    "    # randomly select a ship to place\n",
    "    #ship_number = random.choice(ship)\n",
    "    \n",
    "    # create a list for direction\n",
    "    direction = [1, 2, 3, 4] # down, up, left, right\n",
    "    \n",
    "    #if random.choice(direction) == 1:\n",
    "    \n",
    "    print(ship_number)\n",
    "    \n",
    "    while control:\n",
    "        # randomly select a point on the grid\n",
    "        ship_start_position = random_position()\n",
    "        \n",
    "        if vacant(ship_start_position, ship_number, grid):\n",
    "            for row in range(0, ship_number):\n",
    "                    grid[ship_start_position[0] + row][ship_start_position[1]] = ship_number\n",
    "                    \n",
    "            control = False\n",
    "        else:   \n",
    "            print(f'position {ship_start_position} falied, trying again...')\n",
    "    "
   ]
  },
  {
   "cell_type": "code",
   "execution_count": 95,
   "metadata": {},
   "outputs": [],
   "source": [
    "grid = reset_grid()"
   ]
  },
  {
   "cell_type": "code",
   "execution_count": 97,
   "metadata": {},
   "outputs": [
    {
     "data": {
      "text/plain": [
       "[[0, 0, 2, 0, 0, 0, 0, 0, 0, 0],\n",
       " [0, 0, 2, 0, 0, 0, 0, 0, 0, 0],\n",
       " [0, 0, 0, 0, 0, 0, 0, 0, 0, 0],\n",
       " [0, 0, 0, 0, 4, 0, 0, 0, 0, 0],\n",
       " [0, 0, 1, 0, 4, 0, 0, 0, 0, 5],\n",
       " [0, 0, 0, 0, 4, 0, 0, 0, 0, 5],\n",
       " [0, 0, 0, 0, 3, 0, 0, 0, 0, 5],\n",
       " [0, 0, 0, 0, 3, 0, 0, 0, 0, 5],\n",
       " [0, 0, 0, 0, 3, 0, 0, 0, 0, 5],\n",
       " [0, 0, 0, 0, 0, 0, 0, 0, 0, 0]]"
      ]
     },
     "execution_count": 97,
     "metadata": {},
     "output_type": "execute_result"
    }
   ],
   "source": [
    "grid"
   ]
  },
  {
   "cell_type": "code",
   "execution_count": null,
   "metadata": {},
   "outputs": [],
   "source": []
  },
  {
   "cell_type": "code",
   "execution_count": null,
   "metadata": {},
   "outputs": [],
   "source": [
    "for ship in range(1, 6):\n",
    "            for row in range(0, ship):\n",
    "                grid[row][ship] = ship"
   ]
  },
  {
   "cell_type": "code",
   "execution_count": 5,
   "metadata": {},
   "outputs": [],
   "source": [
    "with open('test.py', 'r') as f:\n",
    "    data = f.read()"
   ]
  },
  {
   "cell_type": "code",
   "execution_count": 7,
   "metadata": {},
   "outputs": [
    {
     "data": {
      "text/plain": [
       "str"
      ]
     },
     "execution_count": 7,
     "metadata": {},
     "output_type": "execute_result"
    }
   ],
   "source": [
    "type(data)"
   ]
  },
  {
   "cell_type": "code",
   "execution_count": null,
   "metadata": {},
   "outputs": [],
   "source": []
  },
  {
   "cell_type": "code",
   "execution_count": 7,
   "metadata": {},
   "outputs": [],
   "source": [
    "player_battlefield = p1.setup_ships()"
   ]
  },
  {
   "cell_type": "code",
   "execution_count": 8,
   "metadata": {},
   "outputs": [
    {
     "data": {
      "text/plain": [
       "[[0, 0, 2, 0, 5, 0, 0, 0, 0, 0],\n",
       " [0, 0, 2, 0, 5, 0, 0, 0, 0, 0],\n",
       " [0, 0, 0, 0, 5, 1, 0, 0, 0, 0],\n",
       " [0, 0, 3, 0, 5, 0, 0, 0, 0, 0],\n",
       " [0, 0, 3, 0, 5, 0, 0, 0, 0, 0],\n",
       " [0, 0, 3, 0, 0, 0, 0, 4, 0, 0],\n",
       " [0, 0, 0, 0, 0, 0, 0, 4, 0, 0],\n",
       " [0, 0, 0, 0, 0, 0, 0, 4, 0, 0],\n",
       " [0, 0, 0, 0, 0, 0, 0, 4, 0, 0],\n",
       " [0, 0, 0, 0, 0, 0, 0, 0, 0, 0]]"
      ]
     },
     "execution_count": 8,
     "metadata": {},
     "output_type": "execute_result"
    }
   ],
   "source": [
    "player_battlefield"
   ]
  },
  {
   "cell_type": "code",
   "execution_count": 9,
   "metadata": {},
   "outputs": [],
   "source": [
    "grid = [[0 for i in range(10)] for j in range(10)]"
   ]
  },
  {
   "cell_type": "code",
   "execution_count": 48,
   "metadata": {},
   "outputs": [],
   "source": [
    "# Generating the history randomly\n",
    "mydict = {'shots':[], 'hits':0, 'incoming':[]}\n",
    "history_list = []"
   ]
  },
  {
   "cell_type": "code",
   "execution_count": 49,
   "metadata": {},
   "outputs": [],
   "source": [
    "def generate_history(history_list = [], reset = False):\n",
    "    \n",
    "    if reset:\n",
    "        return []\n",
    "    else:\n",
    "\n",
    "        shots_list = [number for number in random_shots()]\n",
    "        hits = random.randint(0,5)\n",
    "        incoming_list = [number for number in random_shots()]\n",
    "\n",
    "        mydict['shots'] = shots_list\n",
    "        mydict['hits'] = hits\n",
    "        mydict['incoming'] = incoming_list\n",
    "\n",
    "        return mydict"
   ]
  },
  {
   "cell_type": "code",
   "execution_count": 50,
   "metadata": {},
   "outputs": [
    {
     "data": {
      "text/plain": [
       "{'shots': [], 'hits': 0, 'incoming': []}"
      ]
     },
     "execution_count": 50,
     "metadata": {},
     "output_type": "execute_result"
    }
   ],
   "source": [
    "mydict"
   ]
  },
  {
   "cell_type": "code",
   "execution_count": 51,
   "metadata": {},
   "outputs": [],
   "source": [
    "def random_shots(num = 5):\n",
    "    for x in range(0,num):\n",
    "        yield random.randint(0,9), random.randint(0,9)"
   ]
  },
  {
   "cell_type": "code",
   "execution_count": 52,
   "metadata": {},
   "outputs": [
    {
     "name": "stdout",
     "output_type": "stream",
     "text": [
      "(3, 9)\n",
      "(6, 5)\n",
      "(1, 4)\n"
     ]
    }
   ],
   "source": [
    "for number in random_shots(3):\n",
    "    print(number)"
   ]
  },
  {
   "cell_type": "code",
   "execution_count": 53,
   "metadata": {},
   "outputs": [
    {
     "data": {
      "text/plain": [
       "[(4, 1), (1, 2), (1, 3), (4, 3), (7, 7)]"
      ]
     },
     "execution_count": 53,
     "metadata": {},
     "output_type": "execute_result"
    }
   ],
   "source": [
    "shots_list = [number for number in random_shots()]\n",
    "shots_list"
   ]
  },
  {
   "cell_type": "code",
   "execution_count": 54,
   "metadata": {},
   "outputs": [],
   "source": [
    "def hist_generator(num = 5):\n",
    "    for x in range(0,num):\n",
    "        yield generate_history()"
   ]
  },
  {
   "cell_type": "code",
   "execution_count": 55,
   "metadata": {},
   "outputs": [
    {
     "name": "stdout",
     "output_type": "stream",
     "text": [
      "{'shots': [(7, 3), (5, 2), (9, 4), (6, 1), (2, 6)], 'hits': 3, 'incoming': [(9, 1), (0, 4), (8, 3), (7, 7), (0, 9)]}\n",
      "{'shots': [(4, 9), (6, 6), (9, 6), (4, 8), (2, 2)], 'hits': 4, 'incoming': [(5, 0), (1, 7), (4, 1), (1, 4), (1, 1)]}\n",
      "{'shots': [(9, 8), (6, 6), (4, 8), (4, 6), (7, 1)], 'hits': 5, 'incoming': [(0, 5), (7, 0), (2, 2), (8, 7), (0, 6)]}\n",
      "{'shots': [(6, 3), (3, 7), (3, 2), (2, 0), (5, 4)], 'hits': 5, 'incoming': [(9, 1), (2, 7), (0, 1), (0, 1), (6, 0)]}\n",
      "{'shots': [(4, 4), (6, 4), (4, 6), (6, 1), (8, 1)], 'hits': 3, 'incoming': [(2, 9), (2, 9), (6, 9), (1, 4), (4, 2)]}\n"
     ]
    }
   ],
   "source": [
    "history = []\n",
    "for obj in hist_generator():\n",
    "    print(obj)\n",
    "    temp = obj.copy()\n",
    "    history += [temp]"
   ]
  },
  {
   "cell_type": "code",
   "execution_count": 18,
   "metadata": {},
   "outputs": [],
   "source": [
    "history = [{'shots': [(4, 3), (9, 3), (9, 5), (7, 1), (8, 0)],\n",
    "  'hits': 2,\n",
    "  'incoming': [(7, 2), (2, 0), (3, 4), (9, 1), (5, 9)]},\n",
    " {'shots': [(4, 7), (7, 1), (3, 7), (4, 9), (9, 2)],\n",
    "  'hits': 4,\n",
    "  'incoming': [(8, 0), (0, 0), (6, 5), (1, 1), (3, 5)]},\n",
    " {'shots': [(4, 8), (3, 2), (2, 7), (1, 4), (6, 2)],\n",
    "  'hits': 3,\n",
    "  'incoming': [(2, 3), (8, 2), (6, 3), (6, 4), (8, 2)]},\n",
    " {'shots': [(0, 0), (1, 9), (6, 9), (9, 3), (0, 8)],\n",
    "  'hits': 1,\n",
    "  'incoming': [(4, 1), (1, 6), (6, 3), (5, 6), (1, 2)]},\n",
    " {'shots': [(1, 3), (6, 3), (5, 4), (9, 2), (9, 8)],\n",
    "  'hits': 0,\n",
    "  'incoming': [(8, 9), (3, 4), (2, 2), (6, 9), (2, 9)]}]"
   ]
  },
  {
   "cell_type": "code",
   "execution_count": 11,
   "metadata": {},
   "outputs": [
    {
     "data": {
      "text/plain": [
       "[{'shots': [(4, 3), (9, 3), (9, 5), (7, 1), (8, 0)],\n",
       "  'hits': 2,\n",
       "  'incoming': [(7, 2), (2, 0), (3, 4), (9, 1), (5, 9)]},\n",
       " {'shots': [(4, 7), (7, 1), (3, 7), (4, 9), (9, 2)],\n",
       "  'hits': 4,\n",
       "  'incoming': [(8, 0), (0, 0), (6, 5), (1, 1), (3, 5)]},\n",
       " {'shots': [(4, 8), (3, 2), (2, 7), (1, 4), (6, 2)],\n",
       "  'hits': 3,\n",
       "  'incoming': [(2, 3), (8, 2), (6, 3), (6, 4), (8, 2)]},\n",
       " {'shots': [(0, 0), (1, 9), (6, 9), (9, 3), (0, 8)],\n",
       "  'hits': 1,\n",
       "  'incoming': [(4, 1), (1, 6), (6, 3), (5, 6), (1, 2)]},\n",
       " {'shots': [(1, 3), (6, 3), (5, 4), (9, 2), (9, 8)],\n",
       "  'hits': 0,\n",
       "  'incoming': [(8, 9), (3, 4), (2, 2), (6, 9), (2, 9)]}]"
      ]
     },
     "execution_count": 11,
     "metadata": {},
     "output_type": "execute_result"
    }
   ],
   "source": [
    "history"
   ]
  },
  {
   "cell_type": "code",
   "execution_count": 12,
   "metadata": {},
   "outputs": [
    {
     "data": {
      "text/plain": [
       "[(8, 9), (3, 4), (2, 2), (6, 9), (2, 9)]"
      ]
     },
     "execution_count": 12,
     "metadata": {},
     "output_type": "execute_result"
    }
   ],
   "source": [
    "history[-1]['incoming']"
   ]
  },
  {
   "cell_type": "code",
   "execution_count": null,
   "metadata": {},
   "outputs": [],
   "source": []
  },
  {
   "cell_type": "markdown",
   "metadata": {},
   "source": [
    "Updating the oppenent grid"
   ]
  },
  {
   "cell_type": "code",
   "execution_count": 31,
   "metadata": {},
   "outputs": [],
   "source": [
    "grid = [[0 for i in range(10)] for j in range(10)]"
   ]
  },
  {
   "cell_type": "code",
   "execution_count": 21,
   "metadata": {},
   "outputs": [
    {
     "name": "stdout",
     "output_type": "stream",
     "text": [
      "[(7, 2), (2, 0), (3, 4), (9, 1), (5, 9)]\n",
      "[(8, 0), (0, 0), (6, 5), (1, 1), (3, 5)]\n",
      "[(2, 3), (8, 2), (6, 3), (6, 4), (8, 2)]\n",
      "[(4, 1), (1, 6), (6, 3), (5, 6), (1, 2)]\n",
      "[(8, 9), (3, 4), (2, 2), (6, 9), (2, 9)]\n"
     ]
    }
   ],
   "source": [
    "for i in history:\n",
    "    print(i['incoming'])"
   ]
  },
  {
   "cell_type": "code",
   "execution_count": 22,
   "metadata": {},
   "outputs": [
    {
     "data": {
      "text/plain": [
       "[(8, 9), (3, 4), (2, 2), (6, 9), (2, 9)]"
      ]
     },
     "execution_count": 22,
     "metadata": {},
     "output_type": "execute_result"
    }
   ],
   "source": [
    "# latest shot from history\n",
    "history[-1]['incoming']"
   ]
  },
  {
   "cell_type": "code",
   "execution_count": 23,
   "metadata": {},
   "outputs": [],
   "source": [
    "last_shot = history[-1]['incoming']"
   ]
  },
  {
   "cell_type": "code",
   "execution_count": 28,
   "metadata": {},
   "outputs": [],
   "source": [
    "def update_opponent_shots(grid, incoming_shots):\n",
    "    for x, y in incoming_shots:\n",
    "        grid[x][y] = 9\n",
    "    return grid"
   ]
  },
  {
   "cell_type": "code",
   "execution_count": 32,
   "metadata": {},
   "outputs": [
    {
     "data": {
      "text/plain": [
       "[[0, 0, 0, 0, 0, 0, 0, 0, 0, 0],\n",
       " [0, 0, 0, 0, 0, 0, 0, 0, 0, 0],\n",
       " [0, 0, 9, 0, 0, 0, 0, 0, 0, 9],\n",
       " [0, 0, 0, 0, 9, 0, 0, 0, 0, 0],\n",
       " [0, 0, 0, 0, 0, 0, 0, 0, 0, 0],\n",
       " [0, 0, 0, 0, 0, 0, 0, 0, 0, 0],\n",
       " [0, 0, 0, 0, 0, 0, 0, 0, 0, 9],\n",
       " [0, 0, 0, 0, 0, 0, 0, 0, 0, 0],\n",
       " [0, 0, 0, 0, 0, 0, 0, 0, 0, 9],\n",
       " [0, 0, 0, 0, 0, 0, 0, 0, 0, 0]]"
      ]
     },
     "execution_count": 32,
     "metadata": {},
     "output_type": "execute_result"
    }
   ],
   "source": [
    "update_opponent_shots(grid, last_shot)"
   ]
  },
  {
   "cell_type": "code",
   "execution_count": 30,
   "metadata": {},
   "outputs": [
    {
     "data": {
      "text/plain": [
       "[[0, 0, 0, 0, 0, 0, 0, 0, 0, 0],\n",
       " [0, 0, 9, 0, 0, 0, 9, 0, 0, 0],\n",
       " [0, 0, 9, 0, 0, 0, 0, 0, 0, 9],\n",
       " [0, 0, 0, 0, 9, 0, 0, 0, 0, 0],\n",
       " [0, 9, 0, 0, 0, 0, 0, 0, 0, 0],\n",
       " [0, 0, 0, 0, 0, 0, 9, 0, 0, 0],\n",
       " [0, 0, 0, 9, 0, 0, 0, 0, 0, 9],\n",
       " [0, 0, 0, 0, 0, 0, 0, 0, 0, 0],\n",
       " [0, 0, 0, 0, 0, 0, 0, 0, 0, 9],\n",
       " [0, 0, 0, 0, 0, 0, 0, 0, 0, 0]]"
      ]
     },
     "execution_count": 30,
     "metadata": {},
     "output_type": "execute_result"
    }
   ],
   "source": [
    "update_opponent_shots(grid, history[-2]['incoming'])"
   ]
  },
  {
   "cell_type": "code",
   "execution_count": 27,
   "metadata": {},
   "outputs": [
    {
     "data": {
      "text/plain": [
       "[[0, 0, 2, 0, 5, 0, 0, 0, 0, 0],\n",
       " [0, 0, 2, 0, 5, 0, 0, 0, 0, 0],\n",
       " [0, 0, 0, 0, 5, 1, 0, 0, 0, 0],\n",
       " [0, 0, 3, 0, 5, 0, 0, 0, 0, 0],\n",
       " [0, 0, 3, 0, 5, 0, 0, 0, 0, 0],\n",
       " [0, 0, 3, 0, 0, 0, 0, 4, 0, 0],\n",
       " [0, 0, 0, 0, 0, 0, 0, 4, 0, 0],\n",
       " [0, 0, 0, 0, 0, 0, 0, 4, 0, 0],\n",
       " [0, 0, 0, 0, 0, 0, 0, 4, 0, 0],\n",
       " [0, 0, 0, 0, 0, 0, 0, 0, 0, 0]]"
      ]
     },
     "execution_count": 27,
     "metadata": {},
     "output_type": "execute_result"
    }
   ],
   "source": [
    "# player_battlefield = p1.setup_ships()\n",
    "player_battlefield"
   ]
  },
  {
   "cell_type": "code",
   "execution_count": 33,
   "metadata": {},
   "outputs": [
    {
     "data": {
      "text/plain": [
       "[[0, 0, 2, 0, 5, 0, 0, 0, 0, 0],\n",
       " [0, 0, 2, 0, 5, 0, 0, 0, 0, 0],\n",
       " [0, 0, 9, 0, 5, 1, 0, 0, 0, 9],\n",
       " [0, 0, 3, 0, 9, 0, 0, 0, 0, 0],\n",
       " [0, 0, 3, 0, 5, 0, 0, 0, 0, 0],\n",
       " [0, 0, 3, 0, 0, 0, 0, 4, 0, 0],\n",
       " [0, 0, 0, 0, 0, 0, 0, 4, 0, 9],\n",
       " [0, 0, 0, 0, 0, 0, 0, 4, 0, 0],\n",
       " [0, 0, 0, 0, 0, 0, 0, 4, 0, 9],\n",
       " [0, 0, 0, 0, 0, 0, 0, 0, 0, 0]]"
      ]
     },
     "execution_count": 33,
     "metadata": {},
     "output_type": "execute_result"
    }
   ],
   "source": [
    "# on the players battlefield\n",
    "update_opponent_shots(player_battlefield, last_shot)"
   ]
  },
  {
   "cell_type": "code",
   "execution_count": 35,
   "metadata": {},
   "outputs": [],
   "source": [
    "player_battlefield = update_opponent_shots(player_battlefield, last_shot)"
   ]
  },
  {
   "cell_type": "code",
   "execution_count": 34,
   "metadata": {},
   "outputs": [],
   "source": [
    "from collections import defaultdict"
   ]
  },
  {
   "cell_type": "code",
   "execution_count": 37,
   "metadata": {},
   "outputs": [],
   "source": [
    "# counting the number of ships left\n",
    "ships_dd = defaultdict(int)\n",
    "\n",
    "for row in player_battlefield:\n",
    "    for point in row:\n",
    "        ships_dd[point] += point"
   ]
  },
  {
   "cell_type": "code",
   "execution_count": 38,
   "metadata": {},
   "outputs": [
    {
     "data": {
      "text/plain": [
       "defaultdict(int, {0: 0, 2: 4, 5: 20, 9: 45, 1: 1, 3: 9, 4: 16})"
      ]
     },
     "execution_count": 38,
     "metadata": {},
     "output_type": "execute_result"
    }
   ],
   "source": [
    "ships_dd"
   ]
  },
  {
   "cell_type": "code",
   "execution_count": 39,
   "metadata": {},
   "outputs": [
    {
     "data": {
      "text/plain": [
       "[[0, 0, 2, 0, 5, 0, 0, 0, 0, 0],\n",
       " [0, 0, 2, 0, 5, 0, 0, 0, 0, 0],\n",
       " [0, 0, 9, 0, 5, 1, 0, 0, 0, 9],\n",
       " [0, 0, 3, 0, 9, 0, 0, 0, 0, 0],\n",
       " [0, 0, 3, 0, 5, 0, 0, 0, 0, 0],\n",
       " [0, 0, 3, 0, 0, 0, 0, 4, 0, 0],\n",
       " [0, 0, 0, 0, 0, 0, 0, 4, 0, 9],\n",
       " [0, 0, 0, 0, 0, 0, 0, 4, 0, 0],\n",
       " [0, 0, 0, 0, 0, 0, 0, 4, 0, 9],\n",
       " [0, 0, 0, 0, 0, 0, 0, 0, 0, 0]]"
      ]
     },
     "execution_count": 39,
     "metadata": {},
     "output_type": "execute_result"
    }
   ],
   "source": [
    "player_battlefield"
   ]
  },
  {
   "cell_type": "code",
   "execution_count": 40,
   "metadata": {},
   "outputs": [],
   "source": [
    "def ship_status(ships_dd):\n",
    "    status = []\n",
    "    for ship in ships_dd.keys():\n",
    "        # as long as the default dictionary has a key, the ship is breathing\n",
    "        if ship in [1,2,3,4,5]:\n",
    "            status.append((ship, ships_dd[ship]/(ship**2)))\n",
    "            \n",
    "    return status"
   ]
  },
  {
   "cell_type": "code",
   "execution_count": 42,
   "metadata": {},
   "outputs": [],
   "source": [
    "status = ship_status(ships_dd)"
   ]
  },
  {
   "cell_type": "code",
   "execution_count": 43,
   "metadata": {},
   "outputs": [
    {
     "data": {
      "text/plain": [
       "[(2, 1.0), (5, 0.8), (1, 1.0), (3, 1.0), (4, 1.0)]"
      ]
     },
     "execution_count": 43,
     "metadata": {},
     "output_type": "execute_result"
    }
   ],
   "source": [
    "status"
   ]
  },
  {
   "cell_type": "code",
   "execution_count": 44,
   "metadata": {},
   "outputs": [],
   "source": [
    "number_of_ships = len(status)"
   ]
  },
  {
   "cell_type": "code",
   "execution_count": 45,
   "metadata": {},
   "outputs": [
    {
     "data": {
      "text/plain": [
       "5"
      ]
     },
     "execution_count": 45,
     "metadata": {},
     "output_type": "execute_result"
    }
   ],
   "source": [
    "number_of_ships"
   ]
  },
  {
   "cell_type": "code",
   "execution_count": null,
   "metadata": {},
   "outputs": [],
   "source": []
  },
  {
   "cell_type": "code",
   "execution_count": 23,
   "metadata": {},
   "outputs": [
    {
     "data": {
      "text/plain": [
       "[(2, 6), (6, 3), (0, 5), (8, 0), (3, 6)]"
      ]
     },
     "execution_count": 23,
     "metadata": {},
     "output_type": "execute_result"
    }
   ],
   "source": [
    "[number for number in random_selection(potential_list,5)]"
   ]
  },
  {
   "cell_type": "code",
   "execution_count": 15,
   "metadata": {},
   "outputs": [],
   "source": [
    "potential_list = [[0 for i in range(10)] for j in range(10)]"
   ]
  },
  {
   "cell_type": "code",
   "execution_count": 17,
   "metadata": {},
   "outputs": [],
   "source": [
    "potential_list = []\n",
    "for i in range(10):\n",
    "    for j in range (10):\n",
    "        potential_list.append((i,j))\n",
    "        "
   ]
  },
  {
   "cell_type": "code",
   "execution_count": 19,
   "metadata": {},
   "outputs": [
    {
     "data": {
      "text/plain": [
       "(3, 4)"
      ]
     },
     "execution_count": 19,
     "metadata": {},
     "output_type": "execute_result"
    }
   ],
   "source": [
    "random.choice(potential_list)"
   ]
  },
  {
   "cell_type": "code",
   "execution_count": 21,
   "metadata": {},
   "outputs": [],
   "source": [
    "def random_selection(potential_list, num = 0):\n",
    "    for x in range(0,num):\n",
    "        shot = random.choice(potential_list)\n",
    "        yield shot"
   ]
  },
  {
   "cell_type": "code",
   "execution_count": 35,
   "metadata": {},
   "outputs": [],
   "source": [
    "potential_list.remove((2, 6))"
   ]
  },
  {
   "cell_type": "code",
   "execution_count": null,
   "metadata": {},
   "outputs": [],
   "source": []
  },
  {
   "cell_type": "code",
   "execution_count": 28,
   "metadata": {},
   "outputs": [],
   "source": [
    "potential_list = []\n",
    "for i in range(10):\n",
    "    for j in range(10):\n",
    "        potential_list.append((i, j))"
   ]
  },
  {
   "cell_type": "markdown",
   "metadata": {},
   "source": [
    "checkerboard strategy"
   ]
  },
  {
   "cell_type": "code",
   "execution_count": 25,
   "metadata": {},
   "outputs": [],
   "source": [
    "checkerboard = []\n",
    "for i in range(1,10,2):\n",
    "    for j in range(0,10,2):\n",
    "        checkerboard.append((i, j))"
   ]
  },
  {
   "cell_type": "code",
   "execution_count": 2,
   "metadata": {},
   "outputs": [
    {
     "data": {
      "text/plain": [
       "[(1, 0),\n",
       " (1, 2),\n",
       " (1, 4),\n",
       " (1, 6),\n",
       " (1, 8),\n",
       " (3, 0),\n",
       " (3, 2),\n",
       " (3, 4),\n",
       " (3, 6),\n",
       " (3, 8),\n",
       " (5, 0),\n",
       " (5, 2),\n",
       " (5, 4),\n",
       " (5, 6),\n",
       " (5, 8),\n",
       " (7, 0),\n",
       " (7, 2),\n",
       " (7, 4),\n",
       " (7, 6),\n",
       " (7, 8),\n",
       " (9, 0),\n",
       " (9, 2),\n",
       " (9, 4),\n",
       " (9, 6),\n",
       " (9, 8)]"
      ]
     },
     "execution_count": 2,
     "metadata": {},
     "output_type": "execute_result"
    }
   ],
   "source": [
    "checkerboard"
   ]
  },
  {
   "cell_type": "code",
   "execution_count": 17,
   "metadata": {},
   "outputs": [],
   "source": [
    "def random_selection(potential_list, checkerboard, num = 5):\n",
    "    for x in range(0,num):\n",
    "        shot = random.choice(checkerboard)\n",
    "        potential_list.remove(shot)\n",
    "        checkerboard.remove(shot)\n",
    "        yield shot   "
   ]
  },
  {
   "cell_type": "code",
   "execution_count": 8,
   "metadata": {},
   "outputs": [
    {
     "data": {
      "text/plain": [
       "100"
      ]
     },
     "execution_count": 8,
     "metadata": {},
     "output_type": "execute_result"
    }
   ],
   "source": [
    "len(potential_list)"
   ]
  },
  {
   "cell_type": "code",
   "execution_count": 9,
   "metadata": {},
   "outputs": [
    {
     "data": {
      "text/plain": [
       "25"
      ]
     },
     "execution_count": 9,
     "metadata": {},
     "output_type": "execute_result"
    }
   ],
   "source": [
    "len(checkerboard)"
   ]
  },
  {
   "cell_type": "code",
   "execution_count": 11,
   "metadata": {},
   "outputs": [],
   "source": [
    "shots_list = [number for number in random_selection(potential_list, checkerboard, 5)]"
   ]
  },
  {
   "cell_type": "code",
   "execution_count": 12,
   "metadata": {},
   "outputs": [
    {
     "data": {
      "text/plain": [
       "[(7, 8), (9, 4), (1, 2), (7, 6), (3, 8)]"
      ]
     },
     "execution_count": 12,
     "metadata": {},
     "output_type": "execute_result"
    }
   ],
   "source": [
    "shots_list"
   ]
  },
  {
   "cell_type": "code",
   "execution_count": 13,
   "metadata": {},
   "outputs": [
    {
     "data": {
      "text/plain": [
       "95"
      ]
     },
     "execution_count": 13,
     "metadata": {},
     "output_type": "execute_result"
    }
   ],
   "source": [
    "len(potential_list)"
   ]
  },
  {
   "cell_type": "code",
   "execution_count": 14,
   "metadata": {},
   "outputs": [
    {
     "data": {
      "text/plain": [
       "20"
      ]
     },
     "execution_count": 14,
     "metadata": {},
     "output_type": "execute_result"
    }
   ],
   "source": [
    "len(checkerboard)"
   ]
  },
  {
   "cell_type": "code",
   "execution_count": 26,
   "metadata": {},
   "outputs": [
    {
     "data": {
      "text/plain": [
       "[(7, 6), (3, 4), (3, 2), (7, 0), (1, 8)]"
      ]
     },
     "execution_count": 26,
     "metadata": {},
     "output_type": "execute_result"
    }
   ],
   "source": [
    "[number for number in random_selection(potential_list, checkerboard, 5)]"
   ]
  },
  {
   "cell_type": "code",
   "execution_count": 21,
   "metadata": {},
   "outputs": [],
   "source": [
    "checkerboard = []"
   ]
  },
  {
   "cell_type": "code",
   "execution_count": 27,
   "metadata": {},
   "outputs": [
    {
     "data": {
      "text/plain": [
       "95"
      ]
     },
     "execution_count": 27,
     "metadata": {},
     "output_type": "execute_result"
    }
   ],
   "source": [
    "len(potential_list)"
   ]
  },
  {
   "cell_type": "code",
   "execution_count": null,
   "metadata": {},
   "outputs": [],
   "source": []
  },
  {
   "cell_type": "code",
   "execution_count": 1,
   "metadata": {},
   "outputs": [],
   "source": [
    "f = lambda x:x**2"
   ]
  },
  {
   "cell_type": "code",
   "execution_count": 2,
   "metadata": {},
   "outputs": [
    {
     "data": {
      "text/plain": [
       "9"
      ]
     },
     "execution_count": 2,
     "metadata": {},
     "output_type": "execute_result"
    }
   ],
   "source": [
    "f(3)"
   ]
  },
  {
   "cell_type": "code",
   "execution_count": 16,
   "metadata": {},
   "outputs": [
    {
     "data": {
      "text/plain": [
       "[0, 1, 4, 9, 16, 25, 36, 49, 64, 81]"
      ]
     },
     "execution_count": 16,
     "metadata": {},
     "output_type": "execute_result"
    }
   ],
   "source": [
    "list(map(f,[i for i in range(10)]))"
   ]
  },
  {
   "cell_type": "code",
   "execution_count": 24,
   "metadata": {},
   "outputs": [],
   "source": [
    "last_shot = history[-1]['incoming'] if counter > 0 else []"
   ]
  },
  {
   "cell_type": "code",
   "execution_count": 23,
   "metadata": {},
   "outputs": [],
   "source": [
    "counter = 1"
   ]
  },
  {
   "cell_type": "code",
   "execution_count": 25,
   "metadata": {},
   "outputs": [
    {
     "data": {
      "text/plain": [
       "[(8, 9), (3, 4), (2, 2), (6, 9), (2, 9)]"
      ]
     },
     "execution_count": 25,
     "metadata": {},
     "output_type": "execute_result"
    }
   ],
   "source": [
    "last_shot"
   ]
  },
  {
   "cell_type": "code",
   "execution_count": 26,
   "metadata": {},
   "outputs": [],
   "source": [
    "histories = [[],[]]"
   ]
  },
  {
   "cell_type": "code",
   "execution_count": 32,
   "metadata": {},
   "outputs": [
    {
     "name": "stdout",
     "output_type": "stream",
     "text": [
      "0\n"
     ]
    }
   ],
   "source": [
    "if histories[0]:\n",
    "    print('1')\n",
    "else:\n",
    "    print('0')"
   ]
  },
  {
   "cell_type": "code",
   "execution_count": 1,
   "metadata": {},
   "outputs": [
    {
     "ename": "SyntaxError",
     "evalue": "unexpected EOF while parsing (<ipython-input-1-e94f74e2d3cc>, line 1)",
     "output_type": "error",
     "traceback": [
      "\u001b[0;36m  File \u001b[0;32m\"<ipython-input-1-e94f74e2d3cc>\"\u001b[0;36m, line \u001b[0;32m1\u001b[0m\n\u001b[0;31m    if history:\u001b[0m\n\u001b[0m               ^\u001b[0m\n\u001b[0;31mSyntaxError\u001b[0m\u001b[0;31m:\u001b[0m unexpected EOF while parsing\n"
     ]
    }
   ],
   "source": [
    "if history:"
   ]
  },
  {
   "cell_type": "code",
   "execution_count": 9,
   "metadata": {},
   "outputs": [],
   "source": [
    "players = [Player(), Player()]\n",
    "\n",
    "grids = [p.setup_ships() for p in players]\n",
    "#grids = map(lambda p: p.setup_ships(), players)"
   ]
  },
  {
   "cell_type": "code",
   "execution_count": null,
   "metadata": {},
   "outputs": [],
   "source": []
  }
 ],
 "metadata": {
  "kernelspec": {
   "display_name": "Python 3",
   "language": "python",
   "name": "python3"
  },
  "language_info": {
   "codemirror_mode": {
    "name": "ipython",
    "version": 3
   },
   "file_extension": ".py",
   "mimetype": "text/x-python",
   "name": "python",
   "nbconvert_exporter": "python",
   "pygments_lexer": "ipython3",
   "version": "3.6.8"
  }
 },
 "nbformat": 4,
 "nbformat_minor": 2
}
